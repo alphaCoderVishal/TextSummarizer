{
 "cells": [
  {
   "cell_type": "code",
   "execution_count": 48,
   "id": "76b616b1",
   "metadata": {},
   "outputs": [],
   "source": [
    "import spacy\n",
    "from spacy.lang.en.stop_words import STOP_WORDS\n",
    "from string import punctuation"
   ]
  },
  {
   "cell_type": "code",
   "execution_count": 49,
   "id": "b0543c8c",
   "metadata": {},
   "outputs": [],
   "source": [
    "# we will import text from pdf file\n",
    "file = open(\"article1.txt\",\"r\")\n"
   ]
  },
  {
   "cell_type": "code",
   "execution_count": 50,
   "id": "3be64538",
   "metadata": {},
   "outputs": [
    {
     "name": "stdout",
     "output_type": "stream",
     "text": [
      "<_io.TextIOWrapper name='article1.txt' mode='r' encoding='cp1252'>\n"
     ]
    }
   ],
   "source": [
    "print(file)"
   ]
  },
  {
   "cell_type": "code",
   "execution_count": 51,
   "id": "5488bacd",
   "metadata": {},
   "outputs": [],
   "source": [
    "# for word in text:\n",
    "#     print(word)"
   ]
  },
  {
   "cell_type": "code",
   "execution_count": 52,
   "id": "eb4ec60e",
   "metadata": {},
   "outputs": [],
   "source": [
    "# we need to extract text from the file\n",
    "\n",
    "text = \"\"\n",
    "\n",
    "\n",
    "for line in file:\n",
    "    for word in line:\n",
    "        text += word\n",
    "        \n",
    "        \n",
    "\n"
   ]
  },
  {
   "cell_type": "code",
   "execution_count": 53,
   "id": "772cb2bc",
   "metadata": {},
   "outputs": [
    {
     "name": "stdout",
     "output_type": "stream",
     "text": [
      "Ram is a boy. He plays cricket. He is good in playing cricket.\n",
      "He will become king of Ayodhya later. He will marry Sita.\n",
      "Lakshman is his brother. He will go to jungle \n",
      "for 14 years.\n"
     ]
    }
   ],
   "source": [
    "print(text)\n",
    "stopword = list(STOP_WORDS)"
   ]
  },
  {
   "cell_type": "code",
   "execution_count": 54,
   "id": "4e81b94c",
   "metadata": {},
   "outputs": [],
   "source": [
    "# Now time to lead the small English model for processing the text\n",
    "nlp = spacy.load(\"en_core_web_sm\")"
   ]
  },
  {
   "cell_type": "code",
   "execution_count": 55,
   "id": "260d064e",
   "metadata": {},
   "outputs": [],
   "source": [
    "doc = nlp(text)"
   ]
  },
  {
   "cell_type": "code",
   "execution_count": 56,
   "id": "32089f64",
   "metadata": {},
   "outputs": [
    {
     "data": {
      "text/plain": [
       "spacy.tokens.doc.Doc"
      ]
     },
     "execution_count": 56,
     "metadata": {},
     "output_type": "execute_result"
    }
   ],
   "source": [
    "type(doc)"
   ]
  },
  {
   "cell_type": "code",
   "execution_count": 57,
   "id": "a7f470e5",
   "metadata": {},
   "outputs": [
    {
     "name": "stdout",
     "output_type": "stream",
     "text": [
      "Ram is a boy. He plays cricket. He is good in playing cricket.\n",
      "He will become king of Ayodhya later. He will marry Sita.\n",
      "Lakshman is his brother. He will go to jungle \n",
      "for 14 years.\n"
     ]
    }
   ],
   "source": [
    "print(doc)"
   ]
  },
  {
   "cell_type": "code",
   "execution_count": 58,
   "id": "66e72f97",
   "metadata": {},
   "outputs": [],
   "source": [
    "# In spaCy, a Doc object is a container for a sequence of tokens,\n",
    "# where each token is represented by a Token object.\n",
    "# The Token object has various attributes and methods that allow you\n",
    "# to access information about the token, such as its text, its lemma, its part-of-speech tag, etc.\n",
    "\n",
    "# The text attribute is one of the attributes of a Token object and represents the original string representation of the token as it appeared in the text. For example, if the original text was \"Hello, world!\", the tokens would be \"Hello,\" and \"world!\" and their text attribute would be \"Hello,\" and \"world!\", respectively.\n",
    "\n",
    "# By accessing the text attribute of each token in a spaCy document, you can extract the text of each token and store it in a list or process it further."
   ]
  },
  {
   "cell_type": "code",
   "execution_count": 59,
   "id": "41f4ca01",
   "metadata": {},
   "outputs": [],
   "source": [
    "tokens = [token.text for token in doc]"
   ]
  },
  {
   "cell_type": "code",
   "execution_count": 60,
   "id": "b02e441c",
   "metadata": {},
   "outputs": [
    {
     "name": "stdout",
     "output_type": "stream",
     "text": [
      "['Ram', 'is', 'a', 'boy', '.', 'He', 'plays', 'cricket', '.', 'He', 'is', 'good', 'in', 'playing', 'cricket', '.', '\\n', 'He', 'will', 'become', 'king', 'of', 'Ayodhya', 'later', '.', 'He', 'will', 'marry', 'Sita', '.', '\\n', 'Lakshman', 'is', 'his', 'brother', '.', 'He', 'will', 'go', 'to', 'jungle', '\\n', 'for', '14', 'years', '.']\n"
     ]
    }
   ],
   "source": [
    "print(tokens)"
   ]
  },
  {
   "cell_type": "code",
   "execution_count": 61,
   "id": "25530357",
   "metadata": {},
   "outputs": [
    {
     "data": {
      "text/plain": [
       "'!\"#$%&\\'()*+,-./:;<=>?@[\\\\]^_`{|}~'"
      ]
     },
     "execution_count": 61,
     "metadata": {},
     "output_type": "execute_result"
    }
   ],
   "source": [
    "# See the token in not clean \n",
    "# it contains punctions and end of line etc\n",
    "punctuation"
   ]
  },
  {
   "cell_type": "code",
   "execution_count": 62,
   "id": "baf13496",
   "metadata": {},
   "outputs": [],
   "source": [
    "# clearly no end of line is included here \n",
    "# so here let's include include it\n",
    "punctuation += '\\n'"
   ]
  },
  {
   "cell_type": "code",
   "execution_count": 63,
   "id": "61b79fa0",
   "metadata": {},
   "outputs": [],
   "source": [
    "tokens = [token for token in tokens if token not in punctuation]"
   ]
  },
  {
   "cell_type": "code",
   "execution_count": 64,
   "id": "77eb4d48",
   "metadata": {},
   "outputs": [
    {
     "name": "stdout",
     "output_type": "stream",
     "text": [
      "['Ram', 'is', 'a', 'boy', 'He', 'plays', 'cricket', 'He', 'is', 'good', 'in', 'playing', 'cricket', 'He', 'will', 'become', 'king', 'of', 'Ayodhya', 'later', 'He', 'will', 'marry', 'Sita', 'Lakshman', 'is', 'his', 'brother', 'He', 'will', 'go', 'to', 'jungle', 'for', '14', 'years']\n"
     ]
    }
   ],
   "source": [
    "print(tokens)"
   ]
  },
  {
   "cell_type": "code",
   "execution_count": 65,
   "id": "67187e68",
   "metadata": {},
   "outputs": [],
   "source": [
    "# now our tokens in cleaned\n",
    "# let's calculate the word frequencies\n",
    "word_frequencies = {}"
   ]
  },
  {
   "cell_type": "code",
   "execution_count": 66,
   "id": "66936f05",
   "metadata": {},
   "outputs": [],
   "source": [
    "for word in doc:\n",
    "    if word.text.lower() not in punctuation:\n",
    "        if word.text.lower() not in stopword:\n",
    "            if word.text not in word_frequencies.keys():\n",
    "                word_frequencies[word.text] = 1\n",
    "            else:\n",
    "                word_frequencies[word.text] += 1"
   ]
  },
  {
   "cell_type": "code",
   "execution_count": 67,
   "id": "0b88ac8f",
   "metadata": {},
   "outputs": [
    {
     "name": "stdout",
     "output_type": "stream",
     "text": [
      "{'Ram': 1, 'boy': 1, 'plays': 1, 'cricket': 2, 'good': 1, 'playing': 1, 'king': 1, 'Ayodhya': 1, 'later': 1, 'marry': 1, 'Sita': 1, 'Lakshman': 1, 'brother': 1, 'jungle': 1, '14': 1, 'years': 1}\n"
     ]
    }
   ],
   "source": [
    "print(word_frequencies)\n"
   ]
  },
  {
   "cell_type": "code",
   "execution_count": 68,
   "id": "17d70c71",
   "metadata": {},
   "outputs": [],
   "source": [
    "max_frequency = max(word_frequencies.values())"
   ]
  },
  {
   "cell_type": "code",
   "execution_count": 69,
   "id": "098f3046",
   "metadata": {},
   "outputs": [
    {
     "name": "stdout",
     "output_type": "stream",
     "text": [
      "2\n"
     ]
    }
   ],
   "source": [
    "print(max_frequency)"
   ]
  },
  {
   "cell_type": "code",
   "execution_count": 70,
   "id": "ef87b8d2",
   "metadata": {},
   "outputs": [],
   "source": [
    "# let's find the key with maximum word frequency\n",
    "max_keys = []\n",
    "for key,value in word_frequencies.items():\n",
    "    if value == max_frequency:\n",
    "        max_keys.append(key)"
   ]
  },
  {
   "cell_type": "code",
   "execution_count": 71,
   "id": "9d25af96",
   "metadata": {},
   "outputs": [
    {
     "name": "stdout",
     "output_type": "stream",
     "text": [
      "['cricket']\n"
     ]
    }
   ],
   "source": [
    "print(max_keys)"
   ]
  },
  {
   "cell_type": "code",
   "execution_count": 72,
   "id": "520a0ce9",
   "metadata": {},
   "outputs": [
    {
     "name": "stdout",
     "output_type": "stream",
     "text": [
      "['is', 'move', 'neither', 'so', 'since', 'whenever', 'anything', 'elsewhere', 'nobody', 'nothing', 'but', 'toward', 'most', 'himself', 'he', 'back', 'seeming', 'the', 'we', 'she', 'full', 'well', 'whether', 'every', 'however', 'whereby', 'keep', 'via', 'were', 'several', 'n’t', 'hundred', 'done', 'might', 'nor', 'anyhow', 'across', 'say', 'your', 'noone', \"'s\", 'other', 'onto', 'less', 'another', '‘ve', 'up', 'those', \"'d\", 'name', 'me', '’ve', 'would', 'show', 'only', 'anyone', 'thus', 'same', 'my', 'whereafter', 'two', 'am', 'such', 'its', 'his', 'much', 'wherever', 'our', 'meanwhile', 'everything', 'hereby', 'made', 'nowhere', 'whereas', 'should', 'anyway', 'beforehand', 'although', 'no', 'sometimes', \"'ve\", 'nevertheless', 'did', 'alone', 'this', 'until', 'part', 'have', 'someone', 'if', 'five', 'what', 'in', 'there', 'else', 'becomes', 'to', 'over', '‘m', 'amount', 'mine', 'give', 'an', 'ourselves', 'twelve', 'some', 'how', \"n't\", 'herein', 'whose', 'you', 'myself', 'four', 'get', 'except', 'per', '‘d', 'something', 'twenty', 'must', 'either', 'others', 'see', 'too', 'enough', 'between', 'than', 'whence', 'on', 'least', 'because', 'make', 'latter', 'seem', 'everywhere', 'formerly', 'once', 'though', 'themselves', 'any', 'as', 'above', 'whole', 'be', 'about', 'are', 'indeed', 'herself', 'while', 'thereafter', 'i', 'with', 'whom', 'bottom', 'last', 'even', 'somehow', 'six', 'become', 'may', 'ours', 'due', 'just', 'before', 'hence', 'a', 'still', \"'m\", 'her', 'latterly', 'n‘t', 'along', 'never', 'beside', 'by', 'then', 'sixty', 'both', 'none', 'often', 'their', 'whoever', 'been', 'of', 'amongst', 'really', 'which', 'thru', 'whereupon', 'can', 'yourselves', 'and', 'one', 'moreover', 'doing', 'thereby', 're', 'nine', 'who', 'yourself', 'had', 'out', 'not', 'unless', '’s', 'front', 'that', 'around', 'after', 'hereupon', 'namely', 'more', 'three', 'using', 'almost', 'each', 'down', 'him', 'thence', 'please', 'became', 'very', 'serious', 'why', 'during', 'when', '‘ll', 'eleven', 'for', 'whither', 'wherein', 'own', 'could', \"'re\", 'forty', 'therefore', 'yours', 'was', 'all', 'here', 'cannot', 'also', 'below', 'among', 'under', 'go', 'rather', 'throughout', 'together', 'where', 'various', 'off', '‘re', 'against', 'otherwise', 'it', '’d', 'afterwards', 'put', 'will', 'upon', 'within', 'mostly', '‘s', 'being', 'top', 'fifty', 'third', 'becoming', 'through', 'take', 'yet', 'call', 'ten', 'always', 'them', 'sometime', 'these', 'eight', 'used', 'or', 'first', 'into', 'everyone', 'side', \"'ll\", 'again', 'regarding', 'without', '’m', 'beyond', 'therein', 'seems', 'does', 'besides', '’ll', 'quite', 'many', 'somewhere', 'hers', 'from', 'whatever', 'at', 'seemed', '’re', 'fifteen', 'itself', 'us', 'do', 'few', 'further', 'they', 'behind', 'has', 'hereafter', 'ever', 'former', 'already', 'ca', 'towards', 'empty', 'now', 'thereupon', 'perhaps', 'anywhere', 'next']\n"
     ]
    }
   ],
   "source": [
    "print(stopword)"
   ]
  },
  {
   "cell_type": "code",
   "execution_count": 73,
   "id": "f5c52191",
   "metadata": {},
   "outputs": [],
   "source": [
    "#now normalize the frequency\n",
    "for word in word_frequencies.keys():\n",
    "    word_frequencies[word] = word_frequencies[word]/max_frequency"
   ]
  },
  {
   "cell_type": "code",
   "execution_count": 74,
   "id": "cc67f446",
   "metadata": {},
   "outputs": [
    {
     "name": "stdout",
     "output_type": "stream",
     "text": [
      "{'Ram': 0.5, 'boy': 0.5, 'plays': 0.5, 'cricket': 1.0, 'good': 0.5, 'playing': 0.5, 'king': 0.5, 'Ayodhya': 0.5, 'later': 0.5, 'marry': 0.5, 'Sita': 0.5, 'Lakshman': 0.5, 'brother': 0.5, 'jungle': 0.5, '14': 0.5, 'years': 0.5}\n"
     ]
    }
   ],
   "source": [
    "print(word_frequencies)"
   ]
  },
  {
   "cell_type": "code",
   "execution_count": 75,
   "id": "5ee42425",
   "metadata": {},
   "outputs": [],
   "source": [
    "sentence_tokens = [sent for sent in doc.sents]"
   ]
  },
  {
   "cell_type": "code",
   "execution_count": 76,
   "id": "5207479e",
   "metadata": {},
   "outputs": [
    {
     "name": "stdout",
     "output_type": "stream",
     "text": [
      "[Ram is a boy., He plays cricket., He is good in playing cricket.\n",
      ", He will become king of Ayodhya later., He will marry Sita.\n",
      ", Lakshman is his brother., He will go to jungle \n",
      "for 14 years.]\n"
     ]
    }
   ],
   "source": [
    "print(sentence_tokens)"
   ]
  },
  {
   "cell_type": "code",
   "execution_count": 77,
   "id": "10b5a922",
   "metadata": {},
   "outputs": [],
   "source": [
    "# now calculate sentence score\n",
    "sentence_scores = {}\n",
    "for sent in sentence_tokens:\n",
    "    for word in sent:\n",
    "        if word.text.lower() in word_frequencies.keys():\n",
    "            if sent not in sentence_scores.keys():\n",
    "                sentence_scores[sent] = word_frequencies[word.text.lower()]\n",
    "            else:\n",
    "                sentence_scores[sent] += word_frequencies[word.text.lower()]\n"
   ]
  },
  {
   "cell_type": "code",
   "execution_count": 78,
   "id": "8de9c681",
   "metadata": {},
   "outputs": [
    {
     "name": "stdout",
     "output_type": "stream",
     "text": [
      "{Ram is a boy.: 0.5, He plays cricket.: 1.5, He is good in playing cricket.\n",
      ": 2.0, He will become king of Ayodhya later.: 1.0, He will marry Sita.\n",
      ": 0.5, Lakshman is his brother.: 0.5, He will go to jungle \n",
      "for 14 years.: 1.5}\n"
     ]
    }
   ],
   "source": [
    "print(sentence_scores)"
   ]
  },
  {
   "cell_type": "code",
   "execution_count": 79,
   "id": "c18a2293",
   "metadata": {},
   "outputs": [],
   "source": [
    "# now we have to extract the 30 percent of the text with maximum scores\n",
    "from heapq import nlargest # the module which implements heap"
   ]
  },
  {
   "cell_type": "code",
   "execution_count": 80,
   "id": "deb2a930",
   "metadata": {},
   "outputs": [
    {
     "data": {
      "text/plain": [
       "2"
      ]
     },
     "execution_count": 80,
     "metadata": {},
     "output_type": "execute_result"
    }
   ],
   "source": [
    "select_length = int(len(sentence_tokens)*.30)\n",
    "select_length"
   ]
  },
  {
   "cell_type": "code",
   "execution_count": 81,
   "id": "a419df85",
   "metadata": {},
   "outputs": [],
   "source": [
    "# we need to select (select_length) number on sentence \n",
    "summary = nlargest(select_length,sentence_scores, key = sentence_scores.get)"
   ]
  },
  {
   "cell_type": "code",
   "execution_count": 82,
   "id": "3be6790f",
   "metadata": {},
   "outputs": [
    {
     "data": {
      "text/plain": [
       "[He is good in playing cricket., He plays cricket.]"
      ]
     },
     "execution_count": 82,
     "metadata": {},
     "output_type": "execute_result"
    }
   ],
   "source": [
    "summary"
   ]
  },
  {
   "cell_type": "code",
   "execution_count": 83,
   "id": "c1becefb",
   "metadata": {},
   "outputs": [],
   "source": [
    "final_summary = [word.text for word in summary]"
   ]
  },
  {
   "cell_type": "code",
   "execution_count": 84,
   "id": "16c8af61",
   "metadata": {},
   "outputs": [],
   "source": [
    "summary = ' '.join(final_summary)"
   ]
  },
  {
   "cell_type": "code",
   "execution_count": 85,
   "id": "cd36325d",
   "metadata": {},
   "outputs": [
    {
     "name": "stdout",
     "output_type": "stream",
     "text": [
      "He is good in playing cricket.\n",
      " He plays cricket.\n"
     ]
    }
   ],
   "source": [
    "print(summary)"
   ]
  },
  {
   "cell_type": "code",
   "execution_count": 86,
   "id": "fb129153",
   "metadata": {},
   "outputs": [
    {
     "name": "stdout",
     "output_type": "stream",
     "text": [
      "Ram is a boy. He plays cricket. He is good in playing cricket.\n",
      "He will become king of Ayodhya later. He will marry Sita.\n",
      "Lakshman is his brother. He will go to jungle \n",
      "for 14 years.\n"
     ]
    }
   ],
   "source": [
    "# original text\n",
    "print(text)"
   ]
  },
  {
   "cell_type": "code",
   "execution_count": null,
   "id": "1036a77e",
   "metadata": {},
   "outputs": [],
   "source": []
  }
 ],
 "metadata": {
  "kernelspec": {
   "display_name": "Python 3 (ipykernel)",
   "language": "python",
   "name": "python3"
  },
  "language_info": {
   "codemirror_mode": {
    "name": "ipython",
    "version": 3
   },
   "file_extension": ".py",
   "mimetype": "text/x-python",
   "name": "python",
   "nbconvert_exporter": "python",
   "pygments_lexer": "ipython3",
   "version": "3.9.2"
  },
  "vscode": {
   "interpreter": {
    "hash": "a2855dcd1446957b995c617c7eb571a1440b2353b6f13a4547fcc7eb2a499362"
   }
  }
 },
 "nbformat": 4,
 "nbformat_minor": 5
}
