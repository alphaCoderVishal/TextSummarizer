{
 "cells": [
  {
   "cell_type": "code",
   "execution_count": 1,
   "id": "76b616b1",
   "metadata": {},
   "outputs": [],
   "source": [
    "import spacy\n",
    "from spacy.lang.en.stop_words import STOP_WORDS\n",
    "from string import punctuation"
   ]
  },
  {
   "cell_type": "code",
   "execution_count": 2,
   "id": "b0543c8c",
   "metadata": {},
   "outputs": [],
   "source": [
    "# we will import text from pdf file\n",
    "file = open(\"article.txt\",\"r\")\n"
   ]
  },
  {
   "cell_type": "code",
   "execution_count": 3,
   "id": "3be64538",
   "metadata": {},
   "outputs": [
    {
     "name": "stdout",
     "output_type": "stream",
     "text": [
      "<_io.TextIOWrapper name='article.txt' mode='r' encoding='cp1252'>\n"
     ]
    }
   ],
   "source": [
    "print(file)"
   ]
  },
  {
   "cell_type": "code",
   "execution_count": 4,
   "id": "5488bacd",
   "metadata": {},
   "outputs": [],
   "source": [
    "# for word in text:\n",
    "#     print(word)"
   ]
  },
  {
   "cell_type": "code",
   "execution_count": 5,
   "id": "eb4ec60e",
   "metadata": {},
   "outputs": [],
   "source": [
    "# we need to extract text from the file\n",
    "\n",
    "text = \"\"\n",
    "\n",
    "\n",
    "for line in file:\n",
    "    for word in line:\n",
    "        text += word\n",
    "        \n",
    "        \n",
    "\n"
   ]
  },
  {
   "cell_type": "code",
   "execution_count": 6,
   "id": "772cb2bc",
   "metadata": {},
   "outputs": [
    {
     "name": "stdout",
     "output_type": "stream",
     "text": [
      "Imagine that you are the Director of Customer Relationships at AllElectronics, and you have five\n",
      "managers working for you. You would like to organize all the companyâ€™s customers into\n",
      "five groups so that each group can be assigned to a different manager. Strategically, you\n",
      "would like that the customers in each group are as similar as possible. Moreover, two\n",
      "given customers having very different business patterns should not be placed in the same\n",
      "group. Your intention behind this business strategy is to develop customer relationship\n",
      "campaigns that specifically target each group, based on common features shared by the\n",
      "customers per group. What kind of data mining techniques can help you to accomplish\n",
      "this task?\n",
      "Unlike in classification, the class label (or group ID) of each customer is unknown.\n",
      "You need to discover these groupings. Given a large number of customers and many\n",
      "attributes describing customer profiles, it can be very costly or even infeasible to have a\n",
      "human study the data and manually come up with a way to partition the customers into\n",
      "strategic groups. You need a clustering tool to help.\n"
     ]
    }
   ],
   "source": [
    "print(text)\n",
    "stopword = list(STOP_WORDS)"
   ]
  },
  {
   "cell_type": "code",
   "execution_count": 7,
   "id": "4e81b94c",
   "metadata": {},
   "outputs": [],
   "source": [
    "# Now time to lead the small English model for processing the text\n",
    "nlp = spacy.load(\"en_core_web_sm\")"
   ]
  },
  {
   "cell_type": "code",
   "execution_count": 8,
   "id": "260d064e",
   "metadata": {},
   "outputs": [],
   "source": [
    "doc = nlp(text)"
   ]
  },
  {
   "cell_type": "code",
   "execution_count": 9,
   "id": "32089f64",
   "metadata": {},
   "outputs": [
    {
     "data": {
      "text/plain": [
       "spacy.tokens.doc.Doc"
      ]
     },
     "execution_count": 9,
     "metadata": {},
     "output_type": "execute_result"
    }
   ],
   "source": [
    "type(doc)"
   ]
  },
  {
   "cell_type": "code",
   "execution_count": 10,
   "id": "a7f470e5",
   "metadata": {},
   "outputs": [
    {
     "name": "stdout",
     "output_type": "stream",
     "text": [
      "Imagine that you are the Director of Customer Relationships at AllElectronics, and you have five\n",
      "managers working for you. You would like to organize all the companyâ€™s customers into\n",
      "five groups so that each group can be assigned to a different manager. Strategically, you\n",
      "would like that the customers in each group are as similar as possible. Moreover, two\n",
      "given customers having very different business patterns should not be placed in the same\n",
      "group. Your intention behind this business strategy is to develop customer relationship\n",
      "campaigns that specifically target each group, based on common features shared by the\n",
      "customers per group. What kind of data mining techniques can help you to accomplish\n",
      "this task?\n",
      "Unlike in classification, the class label (or group ID) of each customer is unknown.\n",
      "You need to discover these groupings. Given a large number of customers and many\n",
      "attributes describing customer profiles, it can be very costly or even infeasible to have a\n",
      "human study the data and manually come up with a way to partition the customers into\n",
      "strategic groups. You need a clustering tool to help.\n"
     ]
    }
   ],
   "source": [
    "print(doc)"
   ]
  },
  {
   "cell_type": "code",
   "execution_count": 11,
   "id": "66e72f97",
   "metadata": {},
   "outputs": [],
   "source": [
    "# In spaCy, a Doc object is a container for a sequence of tokens,\n",
    "# where each token is represented by a Token object.\n",
    "# The Token object has various attributes and methods that allow you\n",
    "# to access information about the token, such as its text, its lemma, its part-of-speech tag, etc.\n",
    "\n",
    "# The text attribute is one of the attributes of a Token object and represents the original string representation of the token as it appeared in the text. For example, if the original text was \"Hello, world!\", the tokens would be \"Hello,\" and \"world!\" and their text attribute would be \"Hello,\" and \"world!\", respectively.\n",
    "\n",
    "# By accessing the text attribute of each token in a spaCy document, you can extract the text of each token and store it in a list or process it further."
   ]
  },
  {
   "cell_type": "code",
   "execution_count": 12,
   "id": "41f4ca01",
   "metadata": {},
   "outputs": [],
   "source": [
    "tokens = [token.text for token in doc]"
   ]
  },
  {
   "cell_type": "code",
   "execution_count": 13,
   "id": "b02e441c",
   "metadata": {},
   "outputs": [
    {
     "name": "stdout",
     "output_type": "stream",
     "text": [
      "['Imagine', 'that', 'you', 'are', 'the', 'Director', 'of', 'Customer', 'Relationships', 'at', 'AllElectronics', ',', 'and', 'you', 'have', 'five', '\\n', 'managers', 'working', 'for', 'you', '.', 'You', 'would', 'like', 'to', 'organize', 'all', 'the', 'companyâ€', '™', 's', 'customers', 'into', '\\n', 'five', 'groups', 'so', 'that', 'each', 'group', 'can', 'be', 'assigned', 'to', 'a', 'different', 'manager', '.', 'Strategically', ',', 'you', '\\n', 'would', 'like', 'that', 'the', 'customers', 'in', 'each', 'group', 'are', 'as', 'similar', 'as', 'possible', '.', 'Moreover', ',', 'two', '\\n', 'given', 'customers', 'having', 'very', 'different', 'business', 'patterns', 'should', 'not', 'be', 'placed', 'in', 'the', 'same', '\\n', 'group', '.', 'Your', 'intention', 'behind', 'this', 'business', 'strategy', 'is', 'to', 'develop', 'customer', 'relationship', '\\n', 'campaigns', 'that', 'specifically', 'target', 'each', 'group', ',', 'based', 'on', 'common', 'features', 'shared', 'by', 'the', '\\n', 'customers', 'per', 'group', '.', 'What', 'kind', 'of', 'data', 'mining', 'techniques', 'can', 'help', 'you', 'to', 'accomplish', '\\n', 'this', 'task', '?', '\\n', 'Unlike', 'in', 'classification', ',', 'the', 'class', 'label', '(', 'or', 'group', 'ID', ')', 'of', 'each', 'customer', 'is', 'unknown', '.', '\\n', 'You', 'need', 'to', 'discover', 'these', 'groupings', '.', 'Given', 'a', 'large', 'number', 'of', 'customers', 'and', 'many', '\\n', 'attributes', 'describing', 'customer', 'profiles', ',', 'it', 'can', 'be', 'very', 'costly', 'or', 'even', 'infeasible', 'to', 'have', 'a', '\\n', 'human', 'study', 'the', 'data', 'and', 'manually', 'come', 'up', 'with', 'a', 'way', 'to', 'partition', 'the', 'customers', 'into', '\\n', 'strategic', 'groups', '.', 'You', 'need', 'a', 'clustering', 'tool', 'to', 'help', '.']\n"
     ]
    }
   ],
   "source": [
    "print(tokens)"
   ]
  },
  {
   "cell_type": "code",
   "execution_count": 14,
   "id": "25530357",
   "metadata": {},
   "outputs": [
    {
     "data": {
      "text/plain": [
       "'!\"#$%&\\'()*+,-./:;<=>?@[\\\\]^_`{|}~'"
      ]
     },
     "execution_count": 14,
     "metadata": {},
     "output_type": "execute_result"
    }
   ],
   "source": [
    "# See the token in not clean \n",
    "# it contains punctions and end of line etc\n",
    "punctuation"
   ]
  },
  {
   "cell_type": "code",
   "execution_count": 15,
   "id": "baf13496",
   "metadata": {},
   "outputs": [],
   "source": [
    "# clearly no end of line is included here \n",
    "# so here let's include include it\n",
    "punctuation += '\\n'"
   ]
  },
  {
   "cell_type": "code",
   "execution_count": 16,
   "id": "61b79fa0",
   "metadata": {},
   "outputs": [],
   "source": [
    "tokens = [token for token in tokens if token not in punctuation]"
   ]
  },
  {
   "cell_type": "code",
   "execution_count": 17,
   "id": "77eb4d48",
   "metadata": {},
   "outputs": [
    {
     "name": "stdout",
     "output_type": "stream",
     "text": [
      "['Imagine', 'that', 'you', 'are', 'the', 'Director', 'of', 'Customer', 'Relationships', 'at', 'AllElectronics', 'and', 'you', 'have', 'five', 'managers', 'working', 'for', 'you', 'You', 'would', 'like', 'to', 'organize', 'all', 'the', 'companyâ€', '™', 's', 'customers', 'into', 'five', 'groups', 'so', 'that', 'each', 'group', 'can', 'be', 'assigned', 'to', 'a', 'different', 'manager', 'Strategically', 'you', 'would', 'like', 'that', 'the', 'customers', 'in', 'each', 'group', 'are', 'as', 'similar', 'as', 'possible', 'Moreover', 'two', 'given', 'customers', 'having', 'very', 'different', 'business', 'patterns', 'should', 'not', 'be', 'placed', 'in', 'the', 'same', 'group', 'Your', 'intention', 'behind', 'this', 'business', 'strategy', 'is', 'to', 'develop', 'customer', 'relationship', 'campaigns', 'that', 'specifically', 'target', 'each', 'group', 'based', 'on', 'common', 'features', 'shared', 'by', 'the', 'customers', 'per', 'group', 'What', 'kind', 'of', 'data', 'mining', 'techniques', 'can', 'help', 'you', 'to', 'accomplish', 'this', 'task', 'Unlike', 'in', 'classification', 'the', 'class', 'label', 'or', 'group', 'ID', 'of', 'each', 'customer', 'is', 'unknown', 'You', 'need', 'to', 'discover', 'these', 'groupings', 'Given', 'a', 'large', 'number', 'of', 'customers', 'and', 'many', 'attributes', 'describing', 'customer', 'profiles', 'it', 'can', 'be', 'very', 'costly', 'or', 'even', 'infeasible', 'to', 'have', 'a', 'human', 'study', 'the', 'data', 'and', 'manually', 'come', 'up', 'with', 'a', 'way', 'to', 'partition', 'the', 'customers', 'into', 'strategic', 'groups', 'You', 'need', 'a', 'clustering', 'tool', 'to', 'help']\n"
     ]
    }
   ],
   "source": [
    "print(tokens)"
   ]
  },
  {
   "cell_type": "code",
   "execution_count": 18,
   "id": "67187e68",
   "metadata": {},
   "outputs": [],
   "source": [
    "# now our tokens in cleaned\n",
    "# let's calculate the word frequencies\n",
    "word_frequencies = {}"
   ]
  },
  {
   "cell_type": "code",
   "execution_count": 19,
   "id": "66936f05",
   "metadata": {},
   "outputs": [],
   "source": [
    "for word in doc:\n",
    "    if word.text.lower() not in punctuation:\n",
    "        if word.text.lower() not in stopword:\n",
    "            if word.text not in word_frequencies.keys():\n",
    "                word_frequencies[word.text] = 1\n",
    "            else:\n",
    "                word_frequencies[word.text] += 1"
   ]
  },
  {
   "cell_type": "code",
   "execution_count": 20,
   "id": "0b88ac8f",
   "metadata": {},
   "outputs": [
    {
     "name": "stdout",
     "output_type": "stream",
     "text": [
      "{'Imagine': 1, 'Director': 1, 'Customer': 1, 'Relationships': 1, 'AllElectronics': 1, 'managers': 1, 'working': 1, 'like': 2, 'organize': 1, 'companyâ€': 1, '™': 1, 's': 1, 'customers': 6, 'groups': 2, 'group': 6, 'assigned': 1, 'different': 2, 'manager': 1, 'Strategically': 1, 'similar': 1, 'possible': 1, 'given': 1, 'having': 1, 'business': 2, 'patterns': 1, 'placed': 1, 'intention': 1, 'strategy': 1, 'develop': 1, 'customer': 3, 'relationship': 1, 'campaigns': 1, 'specifically': 1, 'target': 1, 'based': 1, 'common': 1, 'features': 1, 'shared': 1, 'kind': 1, 'data': 2, 'mining': 1, 'techniques': 1, 'help': 2, 'accomplish': 1, 'task': 1, 'Unlike': 1, 'classification': 1, 'class': 1, 'label': 1, 'ID': 1, 'unknown': 1, 'need': 2, 'discover': 1, 'groupings': 1, 'Given': 1, 'large': 1, 'number': 1, 'attributes': 1, 'describing': 1, 'profiles': 1, 'costly': 1, 'infeasible': 1, 'human': 1, 'study': 1, 'manually': 1, 'come': 1, 'way': 1, 'partition': 1, 'strategic': 1, 'clustering': 1, 'tool': 1}\n"
     ]
    }
   ],
   "source": [
    "print(word_frequencies)\n"
   ]
  },
  {
   "cell_type": "code",
   "execution_count": 21,
   "id": "17d70c71",
   "metadata": {},
   "outputs": [],
   "source": [
    "max_frequency = max(word_frequencies.values())"
   ]
  },
  {
   "cell_type": "code",
   "execution_count": 22,
   "id": "098f3046",
   "metadata": {},
   "outputs": [
    {
     "name": "stdout",
     "output_type": "stream",
     "text": [
      "6\n"
     ]
    }
   ],
   "source": [
    "print(max_frequency)"
   ]
  },
  {
   "cell_type": "code",
   "execution_count": 23,
   "id": "ef87b8d2",
   "metadata": {},
   "outputs": [],
   "source": [
    "# let's find the key with maximum word frequency\n",
    "max_keys = []\n",
    "for key,value in word_frequencies.items():\n",
    "    if value == max_frequency:\n",
    "        max_keys.append(key)"
   ]
  },
  {
   "cell_type": "code",
   "execution_count": 24,
   "id": "9d25af96",
   "metadata": {},
   "outputs": [
    {
     "name": "stdout",
     "output_type": "stream",
     "text": [
      "['customers', 'group']\n"
     ]
    }
   ],
   "source": [
    "print(max_keys)"
   ]
  },
  {
   "cell_type": "code",
   "execution_count": 25,
   "id": "520a0ce9",
   "metadata": {},
   "outputs": [
    {
     "name": "stdout",
     "output_type": "stream",
     "text": [
      "['been', 'more', 'of', 'using', 'yourself', 'onto', 'name', 'full', 'whoever', 'upon', 'with', 'latter', 'under', '‘s', 'on', 'their', 'or', 'has', 'indeed', \"n't\", 'thence', 'put', 'wherever', 'now', 'not', 'was', 'up', 'here', 'front', 'enough', 'quite', 'whatever', 'were', 'during', 're', \"'d\", 'never', 'seem', 'within', 'along', 'again', '’re', 'seems', 'but', 'only', 'among', 'thereafter', 'several', 'we', 'else', 'himself', 'whence', 'another', 'say', 'how', 'former', 'our', 'made', 'wherein', 'when', 'myself', 'same', 'it', 'because', 'rather', 'any', 'ca', 'ourselves', 'always', 'show', 'in', 'behind', 'you', 'much', 'why', 'whose', 'themselves', 'until', 'over', 'across', 'third', 'by', 'somehow', 'take', '‘m', 'besides', 'no', 'my', 'twelve', 'neither', 'do', 'even', 'six', 'mine', 'such', \"'re\", 'unless', 'are', 'everywhere', 'nobody', 'ever', 'side', 'once', 'twenty', 'two', 'afterwards', 'very', 'latterly', 'just', 'everyone', 'go', 'moreover', 'seeming', 'n‘t', 'various', 'whenever', 'anyhow', 'sometime', 'may', 'herself', 'sixty', 'being', 'nowhere', 'see', 'serious', 'both', 'hereafter', 'therefore', 'doing', 'some', 'seemed', 'hereupon', 'others', 'nor', \"'ve\", 'anyway', 'against', 'however', 'whereby', 'the', 'became', \"'m\", 'had', 'hereby', 'almost', 'itself', 'everything', 'since', 'really', '‘d', 'eight', 'might', 'out', 'together', 'there', 'who', 'elsewhere', 'she', 'still', 'first', 'becomes', 'that', 'perhaps', 'four', 'towards', 'before', 'am', 'hers', 'which', 'five', 'cannot', 'while', 'can', 'through', 'call', 'too', 'nothing', 'above', 'ten', 'fifty', '’s', 'does', 'whereas', 'yours', 'whole', 'via', 'beforehand', 'give', 'alone', 'though', '‘ve', 'n’t', 'less', 'becoming', 'thru', 'this', 'they', 'beyond', '‘ll', 'these', 'without', 'all', 'into', 'due', 'often', 'become', 'least', 'sometimes', 'hundred', 'used', 'a', 'amongst', 'next', 'for', 'many', 'nine', 'every', 'meanwhile', 'throughout', 'nevertheless', 'whom', 'amount', 'herein', 'so', 'hence', 'below', 'formerly', 'would', 'fifteen', 'anyone', 'further', 'and', \"'s\", 'us', 'keep', 'after', 'well', 'must', 'its', 'most', 'regarding', '’d', 'where', 'off', 'something', 'whether', 'around', 'done', 'down', 'last', 'have', 'move', 'namely', 'anywhere', 'thereby', 'own', 'three', 'empty', 'make', 'those', 'other', 'whither', 'ours', 'therein', 'will', 'them', 'eleven', 'be', 'did', 'top', 'one', 'yet', 'none', 'about', 'if', 'also', 'at', 'please', 'could', 'an', 'i', 'noone', 'her', '’ve', '’m', 'few', 'per', 'bottom', 'already', 'whereupon', 'part', 'me', 'thus', 'each', '’ll', 'to', 'someone', 'is', 'your', 'mostly', 'forty', 'either', 'he', 'as', 'between', 'anything', 'than', 'get', '‘re', 'beside', 'his', 'although', 'except', \"'ll\", 'back', 'him', 'otherwise', 'yourselves', 'from', 'should', 'whereafter', 'then', 'thereupon', 'toward', 'what', 'somewhere']\n"
     ]
    }
   ],
   "source": [
    "print(stopword)"
   ]
  },
  {
   "cell_type": "code",
   "execution_count": 26,
   "id": "f5c52191",
   "metadata": {},
   "outputs": [],
   "source": [
    "#now normalize the frequency\n",
    "for word in word_frequencies.keys():\n",
    "    word_frequencies[word] = word_frequencies[word]/max_frequency"
   ]
  },
  {
   "cell_type": "code",
   "execution_count": 27,
   "id": "cc67f446",
   "metadata": {},
   "outputs": [
    {
     "name": "stdout",
     "output_type": "stream",
     "text": [
      "{'Imagine': 0.16666666666666666, 'Director': 0.16666666666666666, 'Customer': 0.16666666666666666, 'Relationships': 0.16666666666666666, 'AllElectronics': 0.16666666666666666, 'managers': 0.16666666666666666, 'working': 0.16666666666666666, 'like': 0.3333333333333333, 'organize': 0.16666666666666666, 'companyâ€': 0.16666666666666666, '™': 0.16666666666666666, 's': 0.16666666666666666, 'customers': 1.0, 'groups': 0.3333333333333333, 'group': 1.0, 'assigned': 0.16666666666666666, 'different': 0.3333333333333333, 'manager': 0.16666666666666666, 'Strategically': 0.16666666666666666, 'similar': 0.16666666666666666, 'possible': 0.16666666666666666, 'given': 0.16666666666666666, 'having': 0.16666666666666666, 'business': 0.3333333333333333, 'patterns': 0.16666666666666666, 'placed': 0.16666666666666666, 'intention': 0.16666666666666666, 'strategy': 0.16666666666666666, 'develop': 0.16666666666666666, 'customer': 0.5, 'relationship': 0.16666666666666666, 'campaigns': 0.16666666666666666, 'specifically': 0.16666666666666666, 'target': 0.16666666666666666, 'based': 0.16666666666666666, 'common': 0.16666666666666666, 'features': 0.16666666666666666, 'shared': 0.16666666666666666, 'kind': 0.16666666666666666, 'data': 0.3333333333333333, 'mining': 0.16666666666666666, 'techniques': 0.16666666666666666, 'help': 0.3333333333333333, 'accomplish': 0.16666666666666666, 'task': 0.16666666666666666, 'Unlike': 0.16666666666666666, 'classification': 0.16666666666666666, 'class': 0.16666666666666666, 'label': 0.16666666666666666, 'ID': 0.16666666666666666, 'unknown': 0.16666666666666666, 'need': 0.3333333333333333, 'discover': 0.16666666666666666, 'groupings': 0.16666666666666666, 'Given': 0.16666666666666666, 'large': 0.16666666666666666, 'number': 0.16666666666666666, 'attributes': 0.16666666666666666, 'describing': 0.16666666666666666, 'profiles': 0.16666666666666666, 'costly': 0.16666666666666666, 'infeasible': 0.16666666666666666, 'human': 0.16666666666666666, 'study': 0.16666666666666666, 'manually': 0.16666666666666666, 'come': 0.16666666666666666, 'way': 0.16666666666666666, 'partition': 0.16666666666666666, 'strategic': 0.16666666666666666, 'clustering': 0.16666666666666666, 'tool': 0.16666666666666666}\n"
     ]
    }
   ],
   "source": [
    "print(word_frequencies)"
   ]
  },
  {
   "cell_type": "code",
   "execution_count": 28,
   "id": "5ee42425",
   "metadata": {},
   "outputs": [],
   "source": [
    "sentence_tokens = [sent for sent in doc.sents]"
   ]
  },
  {
   "cell_type": "code",
   "execution_count": 29,
   "id": "5207479e",
   "metadata": {},
   "outputs": [
    {
     "name": "stdout",
     "output_type": "stream",
     "text": [
      "[Imagine that you are the Director of Customer Relationships at AllElectronics, and you have five\n",
      "managers working for you., You would like to organize all the companyâ€™s customers into\n",
      "five groups so that each group can be assigned to a different manager., Strategically, you\n",
      "would like that the customers in each group are as similar as possible., Moreover, two\n",
      "given customers having very different business patterns should not be placed in the same\n",
      "group., Your intention behind this business strategy is to develop customer relationship\n",
      "campaigns that specifically target each group, based on common features shared by the\n",
      "customers per group., What kind of data mining techniques can help you to accomplish\n",
      "this task?\n",
      ", Unlike in classification, the class label (or group ID) of each customer is unknown.\n",
      ", You need to discover these groupings., Given a large number of customers and many\n",
      "attributes describing customer profiles, it can be very costly or even infeasible to have a\n",
      "human study the data and manually come up with a way to partition the customers into\n",
      "strategic groups., You need a clustering tool to help.]\n"
     ]
    }
   ],
   "source": [
    "print(sentence_tokens)"
   ]
  },
  {
   "cell_type": "code",
   "execution_count": 30,
   "id": "10b5a922",
   "metadata": {},
   "outputs": [],
   "source": [
    "# now calculate sentence score\n",
    "sentence_scores = {}\n",
    "for sent in sentence_tokens:\n",
    "    for word in sent:\n",
    "        if word.text.lower() in word_frequencies.keys():\n",
    "            if sent not in sentence_scores.keys():\n",
    "                sentence_scores[sent] = word_frequencies[word.text.lower()]\n",
    "            else:\n",
    "                sentence_scores[sent] += word_frequencies[word.text.lower()]\n"
   ]
  },
  {
   "cell_type": "code",
   "execution_count": 31,
   "id": "8de9c681",
   "metadata": {},
   "outputs": [
    {
     "name": "stdout",
     "output_type": "stream",
     "text": [
      "{Imagine that you are the Director of Customer Relationships at AllElectronics, and you have five\n",
      "managers working for you.: 0.8333333333333333, You would like to organize all the companyâ€™s customers into\n",
      "five groups so that each group can be assigned to a different manager.: 4.0, Strategically, you\n",
      "would like that the customers in each group are as similar as possible.: 2.666666666666666, Moreover, two\n",
      "given customers having very different business patterns should not be placed in the same\n",
      "group.: 3.333333333333333, Your intention behind this business strategy is to develop customer relationship\n",
      "campaigns that specifically target each group, based on common features shared by the\n",
      "customers per group.: 5.666666666666666, What kind of data mining techniques can help you to accomplish\n",
      "this task?\n",
      ": 1.5, Unlike in classification, the class label (or group ID) of each customer is unknown.\n",
      ": 2.1666666666666665, You need to discover these groupings.: 0.6666666666666666, Given a large number of customers and many\n",
      "attributes describing customer profiles, it can be very costly or even infeasible to have a\n",
      "human study the data and manually come up with a way to partition the customers into\n",
      "strategic groups.: 5.666666666666666, You need a clustering tool to help.: 1.0}\n"
     ]
    }
   ],
   "source": [
    "print(sentence_scores)"
   ]
  },
  {
   "cell_type": "code",
   "execution_count": 32,
   "id": "c18a2293",
   "metadata": {},
   "outputs": [],
   "source": [
    "# now we have to extract the 30 percent of the text with maximum scores\n",
    "from heapq import nlargest # the module which implements heap"
   ]
  },
  {
   "cell_type": "code",
   "execution_count": 33,
   "id": "deb2a930",
   "metadata": {},
   "outputs": [
    {
     "data": {
      "text/plain": [
       "3"
      ]
     },
     "execution_count": 33,
     "metadata": {},
     "output_type": "execute_result"
    }
   ],
   "source": [
    "select_length = int(len(sentence_tokens)*.30)\n",
    "select_length"
   ]
  },
  {
   "cell_type": "code",
   "execution_count": 34,
   "id": "a419df85",
   "metadata": {},
   "outputs": [],
   "source": [
    "# we need to select (select_length) number on sentence \n",
    "summary = nlargest(select_length,sentence_scores, key = sentence_scores.get)"
   ]
  },
  {
   "cell_type": "code",
   "execution_count": 35,
   "id": "3be6790f",
   "metadata": {},
   "outputs": [
    {
     "data": {
      "text/plain": [
       "[Your intention behind this business strategy is to develop customer relationship\n",
       " campaigns that specifically target each group, based on common features shared by the\n",
       " customers per group.,\n",
       " Given a large number of customers and many\n",
       " attributes describing customer profiles, it can be very costly or even infeasible to have a\n",
       " human study the data and manually come up with a way to partition the customers into\n",
       " strategic groups.,\n",
       " You would like to organize all the companyâ€™s customers into\n",
       " five groups so that each group can be assigned to a different manager.]"
      ]
     },
     "execution_count": 35,
     "metadata": {},
     "output_type": "execute_result"
    }
   ],
   "source": [
    "summary"
   ]
  },
  {
   "cell_type": "code",
   "execution_count": 36,
   "id": "c1becefb",
   "metadata": {},
   "outputs": [],
   "source": [
    "final_summary = [word.text for word in summary]"
   ]
  },
  {
   "cell_type": "code",
   "execution_count": 37,
   "id": "16c8af61",
   "metadata": {},
   "outputs": [],
   "source": [
    "summary = ' '.join(final_summary)"
   ]
  },
  {
   "cell_type": "code",
   "execution_count": 38,
   "id": "cd36325d",
   "metadata": {},
   "outputs": [
    {
     "name": "stdout",
     "output_type": "stream",
     "text": [
      "Your intention behind this business strategy is to develop customer relationship\n",
      "campaigns that specifically target each group, based on common features shared by the\n",
      "customers per group. Given a large number of customers and many\n",
      "attributes describing customer profiles, it can be very costly or even infeasible to have a\n",
      "human study the data and manually come up with a way to partition the customers into\n",
      "strategic groups. You would like to organize all the companyâ€™s customers into\n",
      "five groups so that each group can be assigned to a different manager.\n"
     ]
    }
   ],
   "source": [
    "print(summary)"
   ]
  },
  {
   "cell_type": "code",
   "execution_count": 39,
   "id": "fb129153",
   "metadata": {},
   "outputs": [
    {
     "name": "stdout",
     "output_type": "stream",
     "text": [
      "Imagine that you are the Director of Customer Relationships at AllElectronics, and you have five\n",
      "managers working for you. You would like to organize all the companyâ€™s customers into\n",
      "five groups so that each group can be assigned to a different manager. Strategically, you\n",
      "would like that the customers in each group are as similar as possible. Moreover, two\n",
      "given customers having very different business patterns should not be placed in the same\n",
      "group. Your intention behind this business strategy is to develop customer relationship\n",
      "campaigns that specifically target each group, based on common features shared by the\n",
      "customers per group. What kind of data mining techniques can help you to accomplish\n",
      "this task?\n",
      "Unlike in classification, the class label (or group ID) of each customer is unknown.\n",
      "You need to discover these groupings. Given a large number of customers and many\n",
      "attributes describing customer profiles, it can be very costly or even infeasible to have a\n",
      "human study the data and manually come up with a way to partition the customers into\n",
      "strategic groups. You need a clustering tool to help.\n"
     ]
    }
   ],
   "source": [
    "# original text\n",
    "print(text)"
   ]
  },
  {
   "cell_type": "code",
   "execution_count": null,
   "id": "1036a77e",
   "metadata": {},
   "outputs": [],
   "source": []
  }
 ],
 "metadata": {
  "kernelspec": {
   "display_name": "Python 3 (ipykernel)",
   "language": "python",
   "name": "python3"
  },
  "language_info": {
   "codemirror_mode": {
    "name": "ipython",
    "version": 3
   },
   "file_extension": ".py",
   "mimetype": "text/x-python",
   "name": "python",
   "nbconvert_exporter": "python",
   "pygments_lexer": "ipython3",
   "version": "3.9.2"
  },
  "vscode": {
   "interpreter": {
    "hash": "a2855dcd1446957b995c617c7eb571a1440b2353b6f13a4547fcc7eb2a499362"
   }
  }
 },
 "nbformat": 4,
 "nbformat_minor": 5
}
