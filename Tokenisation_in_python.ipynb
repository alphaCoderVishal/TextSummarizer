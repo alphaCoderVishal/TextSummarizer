{
 "cells": [
  {
   "cell_type": "code",
   "execution_count": 1,
   "id": "3a04a99a",
   "metadata": {},
   "outputs": [
    {
     "ename": "ModuleNotFoundError",
     "evalue": "No module named 'nltk'",
     "output_type": "error",
     "traceback": [
      "\u001b[1;31m---------------------------------------------------------------------------\u001b[0m",
      "\u001b[1;31mModuleNotFoundError\u001b[0m                       Traceback (most recent call last)",
      "Cell \u001b[1;32mIn [1], line 1\u001b[0m\n\u001b[1;32m----> 1\u001b[0m \u001b[38;5;28;01mimport\u001b[39;00m \u001b[38;5;21;01mnltk\u001b[39;00m\n\u001b[0;32m      2\u001b[0m nltk\u001b[38;5;241m.\u001b[39mdownload(\u001b[38;5;124m'\u001b[39m\u001b[38;5;124mpunkt\u001b[39m\u001b[38;5;124m'\u001b[39m)\n\u001b[0;32m      4\u001b[0m text \u001b[38;5;241m=\u001b[39m \u001b[38;5;124m\"\u001b[39m\u001b[38;5;124mThis is an example of tokenizing text in Python using the nltk library.\u001b[39m\u001b[38;5;124m\"\u001b[39m\n",
      "\u001b[1;31mModuleNotFoundError\u001b[0m: No module named 'nltk'"
     ]
    }
   ],
   "source": [
    "import nltk\n",
    "nltk.download('punkt')\n",
    "\n",
    "text = \"This is an example of tokenizing text in Python using the nltk library.\"\n",
    "\n",
    "tokens = nltk.word_tokenize(text)\n",
    "print(tokens)\n"
   ]
  },
  {
   "cell_type": "code",
   "execution_count": 10,
   "id": "76b616b1",
   "metadata": {},
   "outputs": [],
   "source": [
    "import spacy\n",
    "from spacy.lang.en.stop_words import STOP_WORDS\n",
    "from string import punctuation"
   ]
  },
  {
   "cell_type": "code",
   "execution_count": 11,
   "id": "b0543c8c",
   "metadata": {},
   "outputs": [],
   "source": [
    "# we will import text from pdf file\n",
    "file = open(\"article.txt\",\"r\")\n"
   ]
  },
  {
   "cell_type": "code",
   "execution_count": 12,
   "id": "3be64538",
   "metadata": {},
   "outputs": [
    {
     "name": "stdout",
     "output_type": "stream",
     "text": [
      "<_io.TextIOWrapper name='article.txt' mode='r' encoding='cp1252'>\n"
     ]
    }
   ],
   "source": [
    "print(file)"
   ]
  },
  {
   "cell_type": "code",
   "execution_count": 13,
   "id": "5488bacd",
   "metadata": {},
   "outputs": [],
   "source": [
    "# for word in text:\n",
    "#     print(word)"
   ]
  },
  {
   "cell_type": "code",
   "execution_count": 14,
   "id": "eb4ec60e",
   "metadata": {},
   "outputs": [],
   "source": [
    "# we need to extract text from the file\n",
    "\n",
    "text = \"\"\n",
    "\n",
    "\n",
    "for line in file:\n",
    "    for word in line:\n",
    "        text += word\n",
    "        \n",
    "        \n",
    "\n"
   ]
  },
  {
   "cell_type": "code",
   "execution_count": 7,
   "id": "772cb2bc",
   "metadata": {},
   "outputs": [
    {
     "name": "stdout",
     "output_type": "stream",
     "text": [
      "With thousands of stocks, bonds, and mutual funds to choose from, picking the right investments can confuse even the most seasoned investor. But if you don't do it correctly, you can undermine your own ability to build wealth and a nest egg for retirement. So what's the best thing to do? Instead of stock picking, you should start by deciding what mix of stocks, bonds, and mutual funds you want to hold. This is referred to as your asset allocation. In this article, we take a look at asset allocation, and five of the most important things you need to know about this technique.\n",
      "\n",
      "KEY TAKEAWAYS\n",
      "Asset allocation tries to balance risk by dividing assets among investment vehicles.\n",
      "The risk-return tradeoff is at the core of what asset allocation is all about.\n",
      "Don't put all your faith in financial planning software and survey sheets.\n",
      "Know your goals.\n",
      "Time allows you to take advantage of compounding and the time value of money.\n",
      "What Is Asset Allocation?\n",
      "Asset allocation is an investment portfolio technique that aims to balance risk by dividing assets among major categories such as cash, bonds, stocks, real estate, and derivatives. Each asset class has different levels of return and risk, so each will behave differently over time.\n",
      "\n",
      "\n",
      "For instance, while one asset category increases in value, another may decrease or may not increase as much. Some critics see this balance as a recipe for mediocre returns, but for most investors, it's the best protection against a major loss should things ever go amiss in one investment class or sub-class.\n",
      "\n",
      "\n",
      "The consensus among most financial professionals is that asset allocation is one of the most important decisions investors make. In other words, your selection of stocks or bonds is secondary to the way you allocate your assets to high and low-risk stocks, to short and long-term bonds, and to cash.\n",
      "\n",
      "\n",
      " Most financial professionals believe that asset allocation is one of the most important decisions investors can make.\n",
      "There is no simple formula that can find the right asset allocation for every individual. If there were, we certainly wouldn't be able to explain it in one article. We can, however, outline five points that we feel are important when thinking about asset allocation.\n",
      "\n",
      "\n",
      "1. Risk vs. Return\n",
      "The risk-return tradeoff is at the core of what asset allocation is all about. It's easy for everyone to say that they want the highest possible return, but simply choosing the assets with the highest potentialâ€”stocks and derivativesâ€”isn't the answer.\n",
      "\n",
      "\n",
      "The crashes of 1929, 1981, 1987, and the more recent declines following the global financial crisis between 2007 to 2009 are all examples of times when investing in only stocks with the highest potential return was not the most prudent plan of action. It's time to face the truth: Every year your returns are going to be beaten by another investor, mutual fund, pension plan, etc. What separates greedy and return-hungry investors from successful ones is the ability to weigh the relationship between risk and return.\n",
      "\n",
      "\n",
      "Yes, investors with a higher risk tolerance should allocate more money into stocks. But if you can't remain invested through the short-term fluctuations of a bear market, you should cut your exposure to equities.\n",
      "\n",
      "\n",
      "2. Software and Planner Sheets\n",
      "Financial planning software and survey sheets designed by financial advisors or investment firms can be beneficial, but never rely solely on software or some pre-determined plan. For example, one old rule of thumb that some advisors use to determine the proportion a person should allocate to stocks is to subtract the person's age from 100. In other words, if you're 35, you should put 65% of your money into stocks and the remaining 35% into bonds, real estate, and cash. More recent advice has shifted to 110 or even 120 minus your age.\n",
      "\n",
      "\n",
      "But standard worksheets sometimes don't take into account other important information such as whether or not you are a parent, retiree, or spouse. Other times, these worksheets are based on a set of simple questions that don't capture your financial goals.\n",
      "\n",
      "Remember, financial institutions love to peg you into a standard plan not because it's best for you, but because it's easy for them. Rules of thumb and planner sheets can give people a rough guideline, but don't get boxed into what they tell you.\n",
      "\n",
      "3. Know Your Goals\n",
      "We all have goals. Whether you aspire to build a fat retirement fund, own a yacht or vacation home, pay for your child's education, or simply save for a new car, you should consider it in your asset-allocation plan. All these goals need to be considered when determining the right mix.\n",
      "\n",
      "For example, if you plan to own a retirement condo on the beach in 20 years, you don't have to worry about short-term fluctuations in the stock market. But if you have a child who will be entering college in five to six years, you may need to tilt your asset allocation to safer fixed-income investments. And as you approach retirement, you may want to shift to a higher proportion of fixed-income investments to equity holdings.\n",
      "\n",
      "4. Time Is Your Best Friend\n",
      "The U.S. Department of Labor has said that for every 10 years you delay saving for retirementâ€”or some other long-term goalâ€”you have to save three times as much each month to catch up.\n",
      "\n",
      "ï»¿\n",
      "\n",
      "Having time not only allows you to take advantage of compounding and the time value of money, but it also means you can put more of your portfolio into higher risk/return investments, namely stocks. A couple of bad years in the stock market will likely show up as nothing more than an insignificant blip 30 years from now.\n",
      "\n",
      "5. Just Do It!\n",
      "Once you determine the right mix of stocks, bonds, and other investments, it's time to implement it. The first step is to find out how your current portfolio breaks down.\n",
      "\n",
      "It's fairly straightforward to see the percentage of assets in stocks versus bonds, but don't forget to categorize what type of stocks you ownâ€”small, mid, or large cap. You should also categorize your bonds according to their maturityâ€”short, mid or long-term.\n",
      "\n",
      "Mutual funds can be more problematic. Fund names don't always tell the entire story. You have to dig deeper in the prospectus to figure out where fund assets are invested.\n",
      "\n",
      "The Bottom Line\n",
      "There is no single solution for allocating your assets. Individual investors require individual solutions. Furthermore, if a long-term horizon is something you don't have, don't worry. It's never too late to get started. It's also never too late to give your existing portfolio a face-lift. Asset allocation is not a one-time event, it's a life-long process of progression and fine-tuning. \n",
      "\n",
      "SPONSORED\n",
      "Win Up to $10,000 While Trading Digital Assets\n",
      "Digital asset trading just got easier. With OKX, a leading digital asset financial service provider, you can access world-class security as you trade and store assets. Whatâ€™s more, you can win a Mystery Box worth up to $10,000 when you complete a deposit of more than $50 through a crypto purchase or top-up within 30 days of registration. Learn more and sign up to claim your Mystery Box today.\n",
      "\n"
     ]
    }
   ],
   "source": [
    "print(text)"
   ]
  },
  {
   "cell_type": "code",
   "execution_count": 17,
   "id": "4e81b94c",
   "metadata": {},
   "outputs": [],
   "source": [
    "# Now time to lead the small English model for processing the text\n",
    "nlp = spacy.load(\"en_core_web_sm\")"
   ]
  },
  {
   "cell_type": "code",
   "execution_count": 18,
   "id": "260d064e",
   "metadata": {},
   "outputs": [],
   "source": [
    "doc = nlp(text)"
   ]
  },
  {
   "cell_type": "code",
   "execution_count": 19,
   "id": "32089f64",
   "metadata": {},
   "outputs": [
    {
     "data": {
      "text/plain": [
       "spacy.tokens.doc.Doc"
      ]
     },
     "execution_count": 19,
     "metadata": {},
     "output_type": "execute_result"
    }
   ],
   "source": [
    "type(doc)"
   ]
  },
  {
   "cell_type": "code",
   "execution_count": 20,
   "id": "a7f470e5",
   "metadata": {},
   "outputs": [
    {
     "name": "stdout",
     "output_type": "stream",
     "text": [
      "With thousands of stocks, bonds, and mutual funds to choose from, picking the right investments can confuse even the most seasoned investor. But if you don't do it correctly, you can undermine your own ability to build wealth and a nest egg for retirement. So what's the best thing to do? Instead of stock picking, you should start by deciding what mix of stocks, bonds, and mutual funds you want to hold. This is referred to as your asset allocation. In this article, we take a look at asset allocation, and five of the most important things you need to know about this technique.\n",
      "\n",
      "KEY TAKEAWAYS\n",
      "Asset allocation tries to balance risk by dividing assets among investment vehicles.\n",
      "The risk-return tradeoff is at the core of what asset allocation is all about.\n",
      "Don't put all your faith in financial planning software and survey sheets.\n",
      "Know your goals.\n",
      "Time allows you to take advantage of compounding and the time value of money.\n",
      "What Is Asset Allocation?\n",
      "Asset allocation is an investment portfolio technique that aims to balance risk by dividing assets among major categories such as cash, bonds, stocks, real estate, and derivatives. Each asset class has different levels of return and risk, so each will behave differently over time.\n",
      "\n",
      "\n",
      "For instance, while one asset category increases in value, another may decrease or may not increase as much. Some critics see this balance as a recipe for mediocre returns, but for most investors, it's the best protection against a major loss should things ever go amiss in one investment class or sub-class.\n",
      "\n",
      "\n",
      "The consensus among most financial professionals is that asset allocation is one of the most important decisions investors make. In other words, your selection of stocks or bonds is secondary to the way you allocate your assets to high and low-risk stocks, to short and long-term bonds, and to cash.\n",
      "\n",
      "\n",
      " Most financial professionals believe that asset allocation is one of the most important decisions investors can make.\n",
      "There is no simple formula that can find the right asset allocation for every individual. If there were, we certainly wouldn't be able to explain it in one article. We can, however, outline five points that we feel are important when thinking about asset allocation.\n",
      "\n",
      "\n",
      "1. Risk vs. Return\n",
      "The risk-return tradeoff is at the core of what asset allocation is all about. It's easy for everyone to say that they want the highest possible return, but simply choosing the assets with the highest potentialâ€”stocks and derivativesâ€”isn't the answer.\n",
      "\n",
      "\n",
      "The crashes of 1929, 1981, 1987, and the more recent declines following the global financial crisis between 2007 to 2009 are all examples of times when investing in only stocks with the highest potential return was not the most prudent plan of action. It's time to face the truth: Every year your returns are going to be beaten by another investor, mutual fund, pension plan, etc. What separates greedy and return-hungry investors from successful ones is the ability to weigh the relationship between risk and return.\n",
      "\n",
      "\n",
      "Yes, investors with a higher risk tolerance should allocate more money into stocks. But if you can't remain invested through the short-term fluctuations of a bear market, you should cut your exposure to equities.\n",
      "\n",
      "\n",
      "2. Software and Planner Sheets\n",
      "Financial planning software and survey sheets designed by financial advisors or investment firms can be beneficial, but never rely solely on software or some pre-determined plan. For example, one old rule of thumb that some advisors use to determine the proportion a person should allocate to stocks is to subtract the person's age from 100. In other words, if you're 35, you should put 65% of your money into stocks and the remaining 35% into bonds, real estate, and cash. More recent advice has shifted to 110 or even 120 minus your age.\n",
      "\n",
      "\n",
      "But standard worksheets sometimes don't take into account other important information such as whether or not you are a parent, retiree, or spouse. Other times, these worksheets are based on a set of simple questions that don't capture your financial goals.\n",
      "\n",
      "Remember, financial institutions love to peg you into a standard plan not because it's best for you, but because it's easy for them. Rules of thumb and planner sheets can give people a rough guideline, but don't get boxed into what they tell you.\n",
      "\n",
      "3. Know Your Goals\n",
      "We all have goals. Whether you aspire to build a fat retirement fund, own a yacht or vacation home, pay for your child's education, or simply save for a new car, you should consider it in your asset-allocation plan. All these goals need to be considered when determining the right mix.\n",
      "\n",
      "For example, if you plan to own a retirement condo on the beach in 20 years, you don't have to worry about short-term fluctuations in the stock market. But if you have a child who will be entering college in five to six years, you may need to tilt your asset allocation to safer fixed-income investments. And as you approach retirement, you may want to shift to a higher proportion of fixed-income investments to equity holdings.\n",
      "\n",
      "4. Time Is Your Best Friend\n",
      "The U.S. Department of Labor has said that for every 10 years you delay saving for retirementâ€”or some other long-term goalâ€”you have to save three times as much each month to catch up.\n",
      "\n",
      "ï»¿\n",
      "\n",
      "Having time not only allows you to take advantage of compounding and the time value of money, but it also means you can put more of your portfolio into higher risk/return investments, namely stocks. A couple of bad years in the stock market will likely show up as nothing more than an insignificant blip 30 years from now.\n",
      "\n",
      "5. Just Do It!\n",
      "Once you determine the right mix of stocks, bonds, and other investments, it's time to implement it. The first step is to find out how your current portfolio breaks down.\n",
      "\n",
      "It's fairly straightforward to see the percentage of assets in stocks versus bonds, but don't forget to categorize what type of stocks you ownâ€”small, mid, or large cap. You should also categorize your bonds according to their maturityâ€”short, mid or long-term.\n",
      "\n",
      "Mutual funds can be more problematic. Fund names don't always tell the entire story. You have to dig deeper in the prospectus to figure out where fund assets are invested.\n",
      "\n",
      "The Bottom Line\n",
      "There is no single solution for allocating your assets. Individual investors require individual solutions. Furthermore, if a long-term horizon is something you don't have, don't worry. It's never too late to get started. It's also never too late to give your existing portfolio a face-lift. Asset allocation is not a one-time event, it's a life-long process of progression and fine-tuning. \n",
      "\n",
      "SPONSORED\n",
      "Win Up to $10,000 While Trading Digital Assets\n",
      "Digital asset trading just got easier. With OKX, a leading digital asset financial service provider, you can access world-class security as you trade and store assets. Whatâ€™s more, you can win a Mystery Box worth up to $10,000 when you complete a deposit of more than $50 through a crypto purchase or top-up within 30 days of registration. Learn more and sign up to claim your Mystery Box today.\n",
      "\n"
     ]
    }
   ],
   "source": [
    "print(doc)"
   ]
  },
  {
   "cell_type": "code",
   "execution_count": null,
   "id": "66e72f97",
   "metadata": {},
   "outputs": [],
   "source": [
    "# In spaCy, a Doc object is a container for a sequence of tokens,\n",
    "# where each token is represented by a Token object.\n",
    "# The Token object has various attributes and methods that allow you\n",
    "# to access information about the token, such as its text, its lemma, its part-of-speech tag, etc.\n",
    "\n",
    "# The text attribute is one of the attributes of a Token object and represents the original string representation of the token as it appeared in the text. For example, if the original text was \"Hello, world!\", the tokens would be \"Hello,\" and \"world!\" and their text attribute would be \"Hello,\" and \"world!\", respectively.\n",
    "\n",
    "# By accessing the text attribute of each token in a spaCy document, you can extract the text of each token and store it in a list or process it further."
   ]
  },
  {
   "cell_type": "code",
   "execution_count": 21,
   "id": "41f4ca01",
   "metadata": {},
   "outputs": [],
   "source": [
    "tokens = [token.text for token in doc]"
   ]
  },
  {
   "cell_type": "code",
   "execution_count": 22,
   "id": "b02e441c",
   "metadata": {},
   "outputs": [
    {
     "name": "stdout",
     "output_type": "stream",
     "text": [
      "['With', 'thousands', 'of', 'stocks', ',', 'bonds', ',', 'and', 'mutual', 'funds', 'to', 'choose', 'from', ',', 'picking', 'the', 'right', 'investments', 'can', 'confuse', 'even', 'the', 'most', 'seasoned', 'investor', '.', 'But', 'if', 'you', 'do', \"n't\", 'do', 'it', 'correctly', ',', 'you', 'can', 'undermine', 'your', 'own', 'ability', 'to', 'build', 'wealth', 'and', 'a', 'nest', 'egg', 'for', 'retirement', '.', 'So', 'what', \"'s\", 'the', 'best', 'thing', 'to', 'do', '?', 'Instead', 'of', 'stock', 'picking', ',', 'you', 'should', 'start', 'by', 'deciding', 'what', 'mix', 'of', 'stocks', ',', 'bonds', ',', 'and', 'mutual', 'funds', 'you', 'want', 'to', 'hold', '.', 'This', 'is', 'referred', 'to', 'as', 'your', 'asset', 'allocation', '.', 'In', 'this', 'article', ',', 'we', 'take', 'a', 'look', 'at', 'asset', 'allocation', ',', 'and', 'five', 'of', 'the', 'most', 'important', 'things', 'you', 'need', 'to', 'know', 'about', 'this', 'technique', '.', '\\n\\n', 'KEY', 'TAKEAWAYS', '\\n', 'Asset', 'allocation', 'tries', 'to', 'balance', 'risk', 'by', 'dividing', 'assets', 'among', 'investment', 'vehicles', '.', '\\n', 'The', 'risk', '-', 'return', 'tradeoff', 'is', 'at', 'the', 'core', 'of', 'what', 'asset', 'allocation', 'is', 'all', 'about', '.', '\\n', 'Do', \"n't\", 'put', 'all', 'your', 'faith', 'in', 'financial', 'planning', 'software', 'and', 'survey', 'sheets', '.', '\\n', 'Know', 'your', 'goals', '.', '\\n', 'Time', 'allows', 'you', 'to', 'take', 'advantage', 'of', 'compounding', 'and', 'the', 'time', 'value', 'of', 'money', '.', '\\n', 'What', 'Is', 'Asset', 'Allocation', '?', '\\n', 'Asset', 'allocation', 'is', 'an', 'investment', 'portfolio', 'technique', 'that', 'aims', 'to', 'balance', 'risk', 'by', 'dividing', 'assets', 'among', 'major', 'categories', 'such', 'as', 'cash', ',', 'bonds', ',', 'stocks', ',', 'real', 'estate', ',', 'and', 'derivatives', '.', 'Each', 'asset', 'class', 'has', 'different', 'levels', 'of', 'return', 'and', 'risk', ',', 'so', 'each', 'will', 'behave', 'differently', 'over', 'time', '.', '\\n\\n\\n', 'For', 'instance', ',', 'while', 'one', 'asset', 'category', 'increases', 'in', 'value', ',', 'another', 'may', 'decrease', 'or', 'may', 'not', 'increase', 'as', 'much', '.', 'Some', 'critics', 'see', 'this', 'balance', 'as', 'a', 'recipe', 'for', 'mediocre', 'returns', ',', 'but', 'for', 'most', 'investors', ',', 'it', \"'s\", 'the', 'best', 'protection', 'against', 'a', 'major', 'loss', 'should', 'things', 'ever', 'go', 'amiss', 'in', 'one', 'investment', 'class', 'or', 'sub', '-', 'class', '.', '\\n\\n\\n', 'The', 'consensus', 'among', 'most', 'financial', 'professionals', 'is', 'that', 'asset', 'allocation', 'is', 'one', 'of', 'the', 'most', 'important', 'decisions', 'investors', 'make', '.', 'In', 'other', 'words', ',', 'your', 'selection', 'of', 'stocks', 'or', 'bonds', 'is', 'secondary', 'to', 'the', 'way', 'you', 'allocate', 'your', 'assets', 'to', 'high', 'and', 'low', '-', 'risk', 'stocks', ',', 'to', 'short', 'and', 'long', '-', 'term', 'bonds', ',', 'and', 'to', 'cash', '.', '\\n\\n\\n ', 'Most', 'financial', 'professionals', 'believe', 'that', 'asset', 'allocation', 'is', 'one', 'of', 'the', 'most', 'important', 'decisions', 'investors', 'can', 'make', '.', '\\n', 'There', 'is', 'no', 'simple', 'formula', 'that', 'can', 'find', 'the', 'right', 'asset', 'allocation', 'for', 'every', 'individual', '.', 'If', 'there', 'were', ',', 'we', 'certainly', 'would', \"n't\", 'be', 'able', 'to', 'explain', 'it', 'in', 'one', 'article', '.', 'We', 'can', ',', 'however', ',', 'outline', 'five', 'points', 'that', 'we', 'feel', 'are', 'important', 'when', 'thinking', 'about', 'asset', 'allocation', '.', '\\n\\n\\n', '1', '.', 'Risk', 'vs.', 'Return', '\\n', 'The', 'risk', '-', 'return', 'tradeoff', 'is', 'at', 'the', 'core', 'of', 'what', 'asset', 'allocation', 'is', 'all', 'about', '.', 'It', \"'s\", 'easy', 'for', 'everyone', 'to', 'say', 'that', 'they', 'want', 'the', 'highest', 'possible', 'return', ',', 'but', 'simply', 'choosing', 'the', 'assets', 'with', 'the', 'highest', 'potentialâ€”stocks', 'and', \"derivativesâ€”isn't\", 'the', 'answer', '.', '\\n\\n\\n', 'The', 'crashes', 'of', '1929', ',', '1981', ',', '1987', ',', 'and', 'the', 'more', 'recent', 'declines', 'following', 'the', 'global', 'financial', 'crisis', 'between', '2007', 'to', '2009', 'are', 'all', 'examples', 'of', 'times', 'when', 'investing', 'in', 'only', 'stocks', 'with', 'the', 'highest', 'potential', 'return', 'was', 'not', 'the', 'most', 'prudent', 'plan', 'of', 'action', '.', 'It', \"'s\", 'time', 'to', 'face', 'the', 'truth', ':', 'Every', 'year', 'your', 'returns', 'are', 'going', 'to', 'be', 'beaten', 'by', 'another', 'investor', ',', 'mutual', 'fund', ',', 'pension', 'plan', ',', 'etc', '.', 'What', 'separates', 'greedy', 'and', 'return', '-', 'hungry', 'investors', 'from', 'successful', 'ones', 'is', 'the', 'ability', 'to', 'weigh', 'the', 'relationship', 'between', 'risk', 'and', 'return', '.', '\\n\\n\\n', 'Yes', ',', 'investors', 'with', 'a', 'higher', 'risk', 'tolerance', 'should', 'allocate', 'more', 'money', 'into', 'stocks', '.', 'But', 'if', 'you', 'ca', \"n't\", 'remain', 'invested', 'through', 'the', 'short', '-', 'term', 'fluctuations', 'of', 'a', 'bear', 'market', ',', 'you', 'should', 'cut', 'your', 'exposure', 'to', 'equities', '.', '\\n\\n\\n', '2', '.', 'Software', 'and', 'Planner', 'Sheets', '\\n', 'Financial', 'planning', 'software', 'and', 'survey', 'sheets', 'designed', 'by', 'financial', 'advisors', 'or', 'investment', 'firms', 'can', 'be', 'beneficial', ',', 'but', 'never', 'rely', 'solely', 'on', 'software', 'or', 'some', 'pre', '-', 'determined', 'plan', '.', 'For', 'example', ',', 'one', 'old', 'rule', 'of', 'thumb', 'that', 'some', 'advisors', 'use', 'to', 'determine', 'the', 'proportion', 'a', 'person', 'should', 'allocate', 'to', 'stocks', 'is', 'to', 'subtract', 'the', 'person', \"'s\", 'age', 'from', '100', '.', 'In', 'other', 'words', ',', 'if', 'you', \"'re\", '35', ',', 'you', 'should', 'put', '65', '%', 'of', 'your', 'money', 'into', 'stocks', 'and', 'the', 'remaining', '35', '%', 'into', 'bonds', ',', 'real', 'estate', ',', 'and', 'cash', '.', 'More', 'recent', 'advice', 'has', 'shifted', 'to', '110', 'or', 'even', '120', 'minus', 'your', 'age', '.', '\\n\\n\\n', 'But', 'standard', 'worksheets', 'sometimes', 'do', \"n't\", 'take', 'into', 'account', 'other', 'important', 'information', 'such', 'as', 'whether', 'or', 'not', 'you', 'are', 'a', 'parent', ',', 'retiree', ',', 'or', 'spouse', '.', 'Other', 'times', ',', 'these', 'worksheets', 'are', 'based', 'on', 'a', 'set', 'of', 'simple', 'questions', 'that', 'do', \"n't\", 'capture', 'your', 'financial', 'goals', '.', '\\n\\n', 'Remember', ',', 'financial', 'institutions', 'love', 'to', 'peg', 'you', 'into', 'a', 'standard', 'plan', 'not', 'because', 'it', \"'s\", 'best', 'for', 'you', ',', 'but', 'because', 'it', \"'s\", 'easy', 'for', 'them', '.', 'Rules', 'of', 'thumb', 'and', 'planner', 'sheets', 'can', 'give', 'people', 'a', 'rough', 'guideline', ',', 'but', 'do', \"n't\", 'get', 'boxed', 'into', 'what', 'they', 'tell', 'you', '.', '\\n\\n', '3', '.', 'Know', 'Your', 'Goals', '\\n', 'We', 'all', 'have', 'goals', '.', 'Whether', 'you', 'aspire', 'to', 'build', 'a', 'fat', 'retirement', 'fund', ',', 'own', 'a', 'yacht', 'or', 'vacation', 'home', ',', 'pay', 'for', 'your', 'child', \"'s\", 'education', ',', 'or', 'simply', 'save', 'for', 'a', 'new', 'car', ',', 'you', 'should', 'consider', 'it', 'in', 'your', 'asset', '-', 'allocation', 'plan', '.', 'All', 'these', 'goals', 'need', 'to', 'be', 'considered', 'when', 'determining', 'the', 'right', 'mix', '.', '\\n\\n', 'For', 'example', ',', 'if', 'you', 'plan', 'to', 'own', 'a', 'retirement', 'condo', 'on', 'the', 'beach', 'in', '20', 'years', ',', 'you', 'do', \"n't\", 'have', 'to', 'worry', 'about', 'short', '-', 'term', 'fluctuations', 'in', 'the', 'stock', 'market', '.', 'But', 'if', 'you', 'have', 'a', 'child', 'who', 'will', 'be', 'entering', 'college', 'in', 'five', 'to', 'six', 'years', ',', 'you', 'may', 'need', 'to', 'tilt', 'your', 'asset', 'allocation', 'to', 'safer', 'fixed', '-', 'income', 'investments', '.', 'And', 'as', 'you', 'approach', 'retirement', ',', 'you', 'may', 'want', 'to', 'shift', 'to', 'a', 'higher', 'proportion', 'of', 'fixed', '-', 'income', 'investments', 'to', 'equity', 'holdings', '.', '\\n\\n', '4', '.', 'Time', 'Is', 'Your', 'Best', 'Friend', '\\n', 'The', 'U.S.', 'Department', 'of', 'Labor', 'has', 'said', 'that', 'for', 'every', '10', 'years', 'you', 'delay', 'saving', 'for', 'retirementâ€”or', 'some', 'other', 'long', '-', 'term', 'goalâ€”you', 'have', 'to', 'save', 'three', 'times', 'as', 'much', 'each', 'month', 'to', 'catch', 'up', '.', '\\n\\n', 'ï', '»', '¿', '\\n\\n', 'Having', 'time', 'not', 'only', 'allows', 'you', 'to', 'take', 'advantage', 'of', 'compounding', 'and', 'the', 'time', 'value', 'of', 'money', ',', 'but', 'it', 'also', 'means', 'you', 'can', 'put', 'more', 'of', 'your', 'portfolio', 'into', 'higher', 'risk', '/', 'return', 'investments', ',', 'namely', 'stocks', '.', 'A', 'couple', 'of', 'bad', 'years', 'in', 'the', 'stock', 'market', 'will', 'likely', 'show', 'up', 'as', 'nothing', 'more', 'than', 'an', 'insignificant', 'blip', '30', 'years', 'from', 'now', '.', '\\n\\n', '5', '.', 'Just', 'Do', 'It', '!', '\\n', 'Once', 'you', 'determine', 'the', 'right', 'mix', 'of', 'stocks', ',', 'bonds', ',', 'and', 'other', 'investments', ',', 'it', \"'s\", 'time', 'to', 'implement', 'it', '.', 'The', 'first', 'step', 'is', 'to', 'find', 'out', 'how', 'your', 'current', 'portfolio', 'breaks', 'down', '.', '\\n\\n', 'It', \"'s\", 'fairly', 'straightforward', 'to', 'see', 'the', 'percentage', 'of', 'assets', 'in', 'stocks', 'versus', 'bonds', ',', 'but', 'do', \"n't\", 'forget', 'to', 'categorize', 'what', 'type', 'of', 'stocks', 'you', 'ownâ€”small', ',', 'mid', ',', 'or', 'large', 'cap', '.', 'You', 'should', 'also', 'categorize', 'your', 'bonds', 'according', 'to', 'their', 'maturityâ€”short', ',', 'mid', 'or', 'long', '-', 'term', '.', '\\n\\n', 'Mutual', 'funds', 'can', 'be', 'more', 'problematic', '.', 'Fund', 'names', 'do', \"n't\", 'always', 'tell', 'the', 'entire', 'story', '.', 'You', 'have', 'to', 'dig', 'deeper', 'in', 'the', 'prospectus', 'to', 'figure', 'out', 'where', 'fund', 'assets', 'are', 'invested', '.', '\\n\\n', 'The', 'Bottom', 'Line', '\\n', 'There', 'is', 'no', 'single', 'solution', 'for', 'allocating', 'your', 'assets', '.', 'Individual', 'investors', 'require', 'individual', 'solutions', '.', 'Furthermore', ',', 'if', 'a', 'long', '-', 'term', 'horizon', 'is', 'something', 'you', 'do', \"n't\", 'have', ',', 'do', \"n't\", 'worry', '.', 'It', \"'s\", 'never', 'too', 'late', 'to', 'get', 'started', '.', 'It', \"'s\", 'also', 'never', 'too', 'late', 'to', 'give', 'your', 'existing', 'portfolio', 'a', 'face', '-', 'lift', '.', 'Asset', 'allocation', 'is', 'not', 'a', 'one', '-', 'time', 'event', ',', 'it', \"'s\", 'a', 'life', '-', 'long', 'process', 'of', 'progression', 'and', 'fine', '-', 'tuning', '.', '\\n\\n', 'SPONSORED', '\\n', 'Win', 'Up', 'to', '$', '10,000', 'While', 'Trading', 'Digital', 'Assets', '\\n', 'Digital', 'asset', 'trading', 'just', 'got', 'easier', '.', 'With', 'OKX', ',', 'a', 'leading', 'digital', 'asset', 'financial', 'service', 'provider', ',', 'you', 'can', 'access', 'world', '-', 'class', 'security', 'as', 'you', 'trade', 'and', 'store', 'assets', '.', 'Whatâ€', '™', 's', 'more', ',', 'you', 'can', 'win', 'a', 'Mystery', 'Box', 'worth', 'up', 'to', '$', '10,000', 'when', 'you', 'complete', 'a', 'deposit', 'of', 'more', 'than', '$', '50', 'through', 'a', 'crypto', 'purchase', 'or', 'top', '-', 'up', 'within', '30', 'days', 'of', 'registration', '.', 'Learn', 'more', 'and', 'sign', 'up', 'to', 'claim', 'your', 'Mystery', 'Box', 'today', '.', '\\n']\n"
     ]
    }
   ],
   "source": [
    "print(tokens)"
   ]
  },
  {
   "cell_type": "code",
   "execution_count": 25,
   "id": "25530357",
   "metadata": {},
   "outputs": [
    {
     "data": {
      "text/plain": [
       "'!\"#$%&\\'()*+,-./:;<=>?@[\\\\]^_`{|}~\\n'"
      ]
     },
     "execution_count": 25,
     "metadata": {},
     "output_type": "execute_result"
    }
   ],
   "source": [
    "# See the token in not clean \n",
    "# it contains punctions and end of line etc\n",
    "punctuation"
   ]
  },
  {
   "cell_type": "code",
   "execution_count": 24,
   "id": "baf13496",
   "metadata": {},
   "outputs": [],
   "source": [
    "# clearly no end of line is included here \n",
    "# so here let's include include it\n",
    "punctuation += '\\n'"
   ]
  },
  {
   "cell_type": "code",
   "execution_count": 26,
   "id": "61b79fa0",
   "metadata": {},
   "outputs": [],
   "source": [
    "tokens = [token for token in tokens if token not in punctuation]"
   ]
  },
  {
   "cell_type": "code",
   "execution_count": 27,
   "id": "77eb4d48",
   "metadata": {},
   "outputs": [
    {
     "name": "stdout",
     "output_type": "stream",
     "text": [
      "['With', 'thousands', 'of', 'stocks', 'bonds', 'and', 'mutual', 'funds', 'to', 'choose', 'from', 'picking', 'the', 'right', 'investments', 'can', 'confuse', 'even', 'the', 'most', 'seasoned', 'investor', 'But', 'if', 'you', 'do', \"n't\", 'do', 'it', 'correctly', 'you', 'can', 'undermine', 'your', 'own', 'ability', 'to', 'build', 'wealth', 'and', 'a', 'nest', 'egg', 'for', 'retirement', 'So', 'what', \"'s\", 'the', 'best', 'thing', 'to', 'do', 'Instead', 'of', 'stock', 'picking', 'you', 'should', 'start', 'by', 'deciding', 'what', 'mix', 'of', 'stocks', 'bonds', 'and', 'mutual', 'funds', 'you', 'want', 'to', 'hold', 'This', 'is', 'referred', 'to', 'as', 'your', 'asset', 'allocation', 'In', 'this', 'article', 'we', 'take', 'a', 'look', 'at', 'asset', 'allocation', 'and', 'five', 'of', 'the', 'most', 'important', 'things', 'you', 'need', 'to', 'know', 'about', 'this', 'technique', '\\n\\n', 'KEY', 'TAKEAWAYS', 'Asset', 'allocation', 'tries', 'to', 'balance', 'risk', 'by', 'dividing', 'assets', 'among', 'investment', 'vehicles', 'The', 'risk', 'return', 'tradeoff', 'is', 'at', 'the', 'core', 'of', 'what', 'asset', 'allocation', 'is', 'all', 'about', 'Do', \"n't\", 'put', 'all', 'your', 'faith', 'in', 'financial', 'planning', 'software', 'and', 'survey', 'sheets', 'Know', 'your', 'goals', 'Time', 'allows', 'you', 'to', 'take', 'advantage', 'of', 'compounding', 'and', 'the', 'time', 'value', 'of', 'money', 'What', 'Is', 'Asset', 'Allocation', 'Asset', 'allocation', 'is', 'an', 'investment', 'portfolio', 'technique', 'that', 'aims', 'to', 'balance', 'risk', 'by', 'dividing', 'assets', 'among', 'major', 'categories', 'such', 'as', 'cash', 'bonds', 'stocks', 'real', 'estate', 'and', 'derivatives', 'Each', 'asset', 'class', 'has', 'different', 'levels', 'of', 'return', 'and', 'risk', 'so', 'each', 'will', 'behave', 'differently', 'over', 'time', '\\n\\n\\n', 'For', 'instance', 'while', 'one', 'asset', 'category', 'increases', 'in', 'value', 'another', 'may', 'decrease', 'or', 'may', 'not', 'increase', 'as', 'much', 'Some', 'critics', 'see', 'this', 'balance', 'as', 'a', 'recipe', 'for', 'mediocre', 'returns', 'but', 'for', 'most', 'investors', 'it', \"'s\", 'the', 'best', 'protection', 'against', 'a', 'major', 'loss', 'should', 'things', 'ever', 'go', 'amiss', 'in', 'one', 'investment', 'class', 'or', 'sub', 'class', '\\n\\n\\n', 'The', 'consensus', 'among', 'most', 'financial', 'professionals', 'is', 'that', 'asset', 'allocation', 'is', 'one', 'of', 'the', 'most', 'important', 'decisions', 'investors', 'make', 'In', 'other', 'words', 'your', 'selection', 'of', 'stocks', 'or', 'bonds', 'is', 'secondary', 'to', 'the', 'way', 'you', 'allocate', 'your', 'assets', 'to', 'high', 'and', 'low', 'risk', 'stocks', 'to', 'short', 'and', 'long', 'term', 'bonds', 'and', 'to', 'cash', '\\n\\n\\n ', 'Most', 'financial', 'professionals', 'believe', 'that', 'asset', 'allocation', 'is', 'one', 'of', 'the', 'most', 'important', 'decisions', 'investors', 'can', 'make', 'There', 'is', 'no', 'simple', 'formula', 'that', 'can', 'find', 'the', 'right', 'asset', 'allocation', 'for', 'every', 'individual', 'If', 'there', 'were', 'we', 'certainly', 'would', \"n't\", 'be', 'able', 'to', 'explain', 'it', 'in', 'one', 'article', 'We', 'can', 'however', 'outline', 'five', 'points', 'that', 'we', 'feel', 'are', 'important', 'when', 'thinking', 'about', 'asset', 'allocation', '\\n\\n\\n', '1', 'Risk', 'vs.', 'Return', 'The', 'risk', 'return', 'tradeoff', 'is', 'at', 'the', 'core', 'of', 'what', 'asset', 'allocation', 'is', 'all', 'about', 'It', \"'s\", 'easy', 'for', 'everyone', 'to', 'say', 'that', 'they', 'want', 'the', 'highest', 'possible', 'return', 'but', 'simply', 'choosing', 'the', 'assets', 'with', 'the', 'highest', 'potentialâ€”stocks', 'and', \"derivativesâ€”isn't\", 'the', 'answer', '\\n\\n\\n', 'The', 'crashes', 'of', '1929', '1981', '1987', 'and', 'the', 'more', 'recent', 'declines', 'following', 'the', 'global', 'financial', 'crisis', 'between', '2007', 'to', '2009', 'are', 'all', 'examples', 'of', 'times', 'when', 'investing', 'in', 'only', 'stocks', 'with', 'the', 'highest', 'potential', 'return', 'was', 'not', 'the', 'most', 'prudent', 'plan', 'of', 'action', 'It', \"'s\", 'time', 'to', 'face', 'the', 'truth', 'Every', 'year', 'your', 'returns', 'are', 'going', 'to', 'be', 'beaten', 'by', 'another', 'investor', 'mutual', 'fund', 'pension', 'plan', 'etc', 'What', 'separates', 'greedy', 'and', 'return', 'hungry', 'investors', 'from', 'successful', 'ones', 'is', 'the', 'ability', 'to', 'weigh', 'the', 'relationship', 'between', 'risk', 'and', 'return', '\\n\\n\\n', 'Yes', 'investors', 'with', 'a', 'higher', 'risk', 'tolerance', 'should', 'allocate', 'more', 'money', 'into', 'stocks', 'But', 'if', 'you', 'ca', \"n't\", 'remain', 'invested', 'through', 'the', 'short', 'term', 'fluctuations', 'of', 'a', 'bear', 'market', 'you', 'should', 'cut', 'your', 'exposure', 'to', 'equities', '\\n\\n\\n', '2', 'Software', 'and', 'Planner', 'Sheets', 'Financial', 'planning', 'software', 'and', 'survey', 'sheets', 'designed', 'by', 'financial', 'advisors', 'or', 'investment', 'firms', 'can', 'be', 'beneficial', 'but', 'never', 'rely', 'solely', 'on', 'software', 'or', 'some', 'pre', 'determined', 'plan', 'For', 'example', 'one', 'old', 'rule', 'of', 'thumb', 'that', 'some', 'advisors', 'use', 'to', 'determine', 'the', 'proportion', 'a', 'person', 'should', 'allocate', 'to', 'stocks', 'is', 'to', 'subtract', 'the', 'person', \"'s\", 'age', 'from', '100', 'In', 'other', 'words', 'if', 'you', \"'re\", '35', 'you', 'should', 'put', '65', 'of', 'your', 'money', 'into', 'stocks', 'and', 'the', 'remaining', '35', 'into', 'bonds', 'real', 'estate', 'and', 'cash', 'More', 'recent', 'advice', 'has', 'shifted', 'to', '110', 'or', 'even', '120', 'minus', 'your', 'age', '\\n\\n\\n', 'But', 'standard', 'worksheets', 'sometimes', 'do', \"n't\", 'take', 'into', 'account', 'other', 'important', 'information', 'such', 'as', 'whether', 'or', 'not', 'you', 'are', 'a', 'parent', 'retiree', 'or', 'spouse', 'Other', 'times', 'these', 'worksheets', 'are', 'based', 'on', 'a', 'set', 'of', 'simple', 'questions', 'that', 'do', \"n't\", 'capture', 'your', 'financial', 'goals', '\\n\\n', 'Remember', 'financial', 'institutions', 'love', 'to', 'peg', 'you', 'into', 'a', 'standard', 'plan', 'not', 'because', 'it', \"'s\", 'best', 'for', 'you', 'but', 'because', 'it', \"'s\", 'easy', 'for', 'them', 'Rules', 'of', 'thumb', 'and', 'planner', 'sheets', 'can', 'give', 'people', 'a', 'rough', 'guideline', 'but', 'do', \"n't\", 'get', 'boxed', 'into', 'what', 'they', 'tell', 'you', '\\n\\n', '3', 'Know', 'Your', 'Goals', 'We', 'all', 'have', 'goals', 'Whether', 'you', 'aspire', 'to', 'build', 'a', 'fat', 'retirement', 'fund', 'own', 'a', 'yacht', 'or', 'vacation', 'home', 'pay', 'for', 'your', 'child', \"'s\", 'education', 'or', 'simply', 'save', 'for', 'a', 'new', 'car', 'you', 'should', 'consider', 'it', 'in', 'your', 'asset', 'allocation', 'plan', 'All', 'these', 'goals', 'need', 'to', 'be', 'considered', 'when', 'determining', 'the', 'right', 'mix', '\\n\\n', 'For', 'example', 'if', 'you', 'plan', 'to', 'own', 'a', 'retirement', 'condo', 'on', 'the', 'beach', 'in', '20', 'years', 'you', 'do', \"n't\", 'have', 'to', 'worry', 'about', 'short', 'term', 'fluctuations', 'in', 'the', 'stock', 'market', 'But', 'if', 'you', 'have', 'a', 'child', 'who', 'will', 'be', 'entering', 'college', 'in', 'five', 'to', 'six', 'years', 'you', 'may', 'need', 'to', 'tilt', 'your', 'asset', 'allocation', 'to', 'safer', 'fixed', 'income', 'investments', 'And', 'as', 'you', 'approach', 'retirement', 'you', 'may', 'want', 'to', 'shift', 'to', 'a', 'higher', 'proportion', 'of', 'fixed', 'income', 'investments', 'to', 'equity', 'holdings', '\\n\\n', '4', 'Time', 'Is', 'Your', 'Best', 'Friend', 'The', 'U.S.', 'Department', 'of', 'Labor', 'has', 'said', 'that', 'for', 'every', '10', 'years', 'you', 'delay', 'saving', 'for', 'retirementâ€”or', 'some', 'other', 'long', 'term', 'goalâ€”you', 'have', 'to', 'save', 'three', 'times', 'as', 'much', 'each', 'month', 'to', 'catch', 'up', '\\n\\n', 'ï', '»', '¿', '\\n\\n', 'Having', 'time', 'not', 'only', 'allows', 'you', 'to', 'take', 'advantage', 'of', 'compounding', 'and', 'the', 'time', 'value', 'of', 'money', 'but', 'it', 'also', 'means', 'you', 'can', 'put', 'more', 'of', 'your', 'portfolio', 'into', 'higher', 'risk', 'return', 'investments', 'namely', 'stocks', 'A', 'couple', 'of', 'bad', 'years', 'in', 'the', 'stock', 'market', 'will', 'likely', 'show', 'up', 'as', 'nothing', 'more', 'than', 'an', 'insignificant', 'blip', '30', 'years', 'from', 'now', '\\n\\n', '5', 'Just', 'Do', 'It', 'Once', 'you', 'determine', 'the', 'right', 'mix', 'of', 'stocks', 'bonds', 'and', 'other', 'investments', 'it', \"'s\", 'time', 'to', 'implement', 'it', 'The', 'first', 'step', 'is', 'to', 'find', 'out', 'how', 'your', 'current', 'portfolio', 'breaks', 'down', '\\n\\n', 'It', \"'s\", 'fairly', 'straightforward', 'to', 'see', 'the', 'percentage', 'of', 'assets', 'in', 'stocks', 'versus', 'bonds', 'but', 'do', \"n't\", 'forget', 'to', 'categorize', 'what', 'type', 'of', 'stocks', 'you', 'ownâ€”small', 'mid', 'or', 'large', 'cap', 'You', 'should', 'also', 'categorize', 'your', 'bonds', 'according', 'to', 'their', 'maturityâ€”short', 'mid', 'or', 'long', 'term', '\\n\\n', 'Mutual', 'funds', 'can', 'be', 'more', 'problematic', 'Fund', 'names', 'do', \"n't\", 'always', 'tell', 'the', 'entire', 'story', 'You', 'have', 'to', 'dig', 'deeper', 'in', 'the', 'prospectus', 'to', 'figure', 'out', 'where', 'fund', 'assets', 'are', 'invested', '\\n\\n', 'The', 'Bottom', 'Line', 'There', 'is', 'no', 'single', 'solution', 'for', 'allocating', 'your', 'assets', 'Individual', 'investors', 'require', 'individual', 'solutions', 'Furthermore', 'if', 'a', 'long', 'term', 'horizon', 'is', 'something', 'you', 'do', \"n't\", 'have', 'do', \"n't\", 'worry', 'It', \"'s\", 'never', 'too', 'late', 'to', 'get', 'started', 'It', \"'s\", 'also', 'never', 'too', 'late', 'to', 'give', 'your', 'existing', 'portfolio', 'a', 'face', 'lift', 'Asset', 'allocation', 'is', 'not', 'a', 'one', 'time', 'event', 'it', \"'s\", 'a', 'life', 'long', 'process', 'of', 'progression', 'and', 'fine', 'tuning', '\\n\\n', 'SPONSORED', 'Win', 'Up', 'to', '10,000', 'While', 'Trading', 'Digital', 'Assets', 'Digital', 'asset', 'trading', 'just', 'got', 'easier', 'With', 'OKX', 'a', 'leading', 'digital', 'asset', 'financial', 'service', 'provider', 'you', 'can', 'access', 'world', 'class', 'security', 'as', 'you', 'trade', 'and', 'store', 'assets', 'Whatâ€', '™', 's', 'more', 'you', 'can', 'win', 'a', 'Mystery', 'Box', 'worth', 'up', 'to', '10,000', 'when', 'you', 'complete', 'a', 'deposit', 'of', 'more', 'than', '50', 'through', 'a', 'crypto', 'purchase', 'or', 'top', 'up', 'within', '30', 'days', 'of', 'registration', 'Learn', 'more', 'and', 'sign', 'up', 'to', 'claim', 'your', 'Mystery', 'Box', 'today']\n"
     ]
    }
   ],
   "source": [
    "print(tokens)"
   ]
  },
  {
   "cell_type": "code",
   "execution_count": 28,
   "id": "67187e68",
   "metadata": {},
   "outputs": [],
   "source": [
    "# now our tokens in cleaned\n"
   ]
  },
  {
   "cell_type": "code",
   "execution_count": null,
   "id": "66936f05",
   "metadata": {},
   "outputs": [],
   "source": []
  }
 ],
 "metadata": {
  "kernelspec": {
   "display_name": "Python 3 (ipykernel)",
   "language": "python",
   "name": "python3"
  },
  "language_info": {
   "codemirror_mode": {
    "name": "ipython",
    "version": 3
   },
   "file_extension": ".py",
   "mimetype": "text/x-python",
   "name": "python",
   "nbconvert_exporter": "python",
   "pygments_lexer": "ipython3",
   "version": "3.9.2"
  }
 },
 "nbformat": 4,
 "nbformat_minor": 5
}
