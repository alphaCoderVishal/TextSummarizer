{
 "cells": [
  {
   "cell_type": "code",
   "execution_count": 6,
   "id": "76b616b1",
   "metadata": {},
   "outputs": [],
   "source": [
    "import spacy\n",
    "from spacy.lang.en.stop_words import STOP_WORDS\n",
    "from string import punctuation"
   ]
  },
  {
   "cell_type": "code",
   "execution_count": 7,
   "id": "b0543c8c",
   "metadata": {},
   "outputs": [],
   "source": [
    "# we will import text from pdf file\n",
    "file = open(\"article.txt\",\"r\")\n"
   ]
  },
  {
   "cell_type": "code",
   "execution_count": 8,
   "id": "3be64538",
   "metadata": {},
   "outputs": [
    {
     "name": "stdout",
     "output_type": "stream",
     "text": [
      "<_io.TextIOWrapper name='article.txt' mode='r' encoding='cp1252'>\n"
     ]
    }
   ],
   "source": [
    "print(file)"
   ]
  },
  {
   "cell_type": "code",
   "execution_count": 9,
   "id": "5488bacd",
   "metadata": {},
   "outputs": [],
   "source": [
    "# for word in text:\n",
    "#     print(word)"
   ]
  },
  {
   "cell_type": "code",
   "execution_count": 10,
   "id": "eb4ec60e",
   "metadata": {},
   "outputs": [],
   "source": [
    "# we need to extract text from the file\n",
    "\n",
    "text = \"\"\n",
    "\n",
    "\n",
    "for line in file:\n",
    "    for word in line:\n",
    "        text += word\n",
    "        \n",
    "        \n",
    "\n"
   ]
  },
  {
   "cell_type": "code",
   "execution_count": 11,
   "id": "772cb2bc",
   "metadata": {},
   "outputs": [
    {
     "name": "stdout",
     "output_type": "stream",
     "text": [
      "With thousands of stocks, bonds, and mutual funds to choose from, picking the right investments can confuse even the most seasoned investor. But if you don't do it correctly, you can undermine your own ability to build wealth and a nest egg for retirement. So what's the best thing to do? Instead of stock picking, you should start by deciding what mix of stocks, bonds, and mutual funds you want to hold. This is referred to as your asset allocation. In this article, we take a look at asset allocation, and five of the most important things you need to know about this technique.\n",
      "\n",
      "KEY TAKEAWAYS\n",
      "Asset allocation tries to balance risk by dividing assets among investment vehicles.\n",
      "The risk-return tradeoff is at the core of what asset allocation is all about.\n",
      "Don't put all your faith in financial planning software and survey sheets.\n",
      "Know your goals.\n",
      "Time allows you to take advantage of compounding and the time value of money.\n",
      "What Is Asset Allocation?\n",
      "Asset allocation is an investment portfolio technique that aims to balance risk by dividing assets among major categories such as cash, bonds, stocks, real estate, and derivatives. Each asset class has different levels of return and risk, so each will behave differently over time.\n",
      "\n",
      "\n",
      "For instance, while one asset category increases in value, another may decrease or may not increase as much. Some critics see this balance as a recipe for mediocre returns, but for most investors, it's the best protection against a major loss should things ever go amiss in one investment class or sub-class.\n",
      "\n",
      "\n",
      "The consensus among most financial professionals is that asset allocation is one of the most important decisions investors make. In other words, your selection of stocks or bonds is secondary to the way you allocate your assets to high and low-risk stocks, to short and long-term bonds, and to cash.\n",
      "\n",
      "\n",
      " Most financial professionals believe that asset allocation is one of the most important decisions investors can make.\n",
      "There is no simple formula that can find the right asset allocation for every individual. If there were, we certainly wouldn't be able to explain it in one article. We can, however, outline five points that we feel are important when thinking about asset allocation.\n",
      "\n",
      "\n",
      "1. Risk vs. Return\n",
      "The risk-return tradeoff is at the core of what asset allocation is all about. It's easy for everyone to say that they want the highest possible return, but simply choosing the assets with the highest potentialâ€”stocks and derivativesâ€”isn't the answer.\n",
      "\n",
      "\n",
      "The crashes of 1929, 1981, 1987, and the more recent declines following the global financial crisis between 2007 to 2009 are all examples of times when investing in only stocks with the highest potential return was not the most prudent plan of action. It's time to face the truth: Every year your returns are going to be beaten by another investor, mutual fund, pension plan, etc. What separates greedy and return-hungry investors from successful ones is the ability to weigh the relationship between risk and return.\n",
      "\n",
      "\n",
      "Yes, investors with a higher risk tolerance should allocate more money into stocks. But if you can't remain invested through the short-term fluctuations of a bear market, you should cut your exposure to equities.\n",
      "\n",
      "\n",
      "2. Software and Planner Sheets\n",
      "Financial planning software and survey sheets designed by financial advisors or investment firms can be beneficial, but never rely solely on software or some pre-determined plan. For example, one old rule of thumb that some advisors use to determine the proportion a person should allocate to stocks is to subtract the person's age from 100. In other words, if you're 35, you should put 65% of your money into stocks and the remaining 35% into bonds, real estate, and cash. More recent advice has shifted to 110 or even 120 minus your age.\n",
      "\n",
      "\n",
      "But standard worksheets sometimes don't take into account other important information such as whether or not you are a parent, retiree, or spouse. Other times, these worksheets are based on a set of simple questions that don't capture your financial goals.\n",
      "\n",
      "Remember, financial institutions love to peg you into a standard plan not because it's best for you, but because it's easy for them. Rules of thumb and planner sheets can give people a rough guideline, but don't get boxed into what they tell you.\n",
      "\n",
      "3. Know Your Goals\n",
      "We all have goals. Whether you aspire to build a fat retirement fund, own a yacht or vacation home, pay for your child's education, or simply save for a new car, you should consider it in your asset-allocation plan. All these goals need to be considered when determining the right mix.\n",
      "\n",
      "For example, if you plan to own a retirement condo on the beach in 20 years, you don't have to worry about short-term fluctuations in the stock market. But if you have a child who will be entering college in five to six years, you may need to tilt your asset allocation to safer fixed-income investments. And as you approach retirement, you may want to shift to a higher proportion of fixed-income investments to equity holdings.\n",
      "\n",
      "4. Time Is Your Best Friend\n",
      "The U.S. Department of Labor has said that for every 10 years you delay saving for retirementâ€”or some other long-term goalâ€”you have to save three times as much each month to catch up.\n",
      "\n",
      "ï»¿\n",
      "\n",
      "Having time not only allows you to take advantage of compounding and the time value of money, but it also means you can put more of your portfolio into higher risk/return investments, namely stocks. A couple of bad years in the stock market will likely show up as nothing more than an insignificant blip 30 years from now.\n",
      "\n",
      "5. Just Do It!\n",
      "Once you determine the right mix of stocks, bonds, and other investments, it's time to implement it. The first step is to find out how your current portfolio breaks down.\n",
      "\n",
      "It's fairly straightforward to see the percentage of assets in stocks versus bonds, but don't forget to categorize what type of stocks you ownâ€”small, mid, or large cap. You should also categorize your bonds according to their maturityâ€”short, mid or long-term.\n",
      "\n",
      "Mutual funds can be more problematic. Fund names don't always tell the entire story. You have to dig deeper in the prospectus to figure out where fund assets are invested.\n",
      "\n",
      "The Bottom Line\n",
      "There is no single solution for allocating your assets. Individual investors require individual solutions. Furthermore, if a long-term horizon is something you don't have, don't worry. It's never too late to get started. It's also never too late to give your existing portfolio a face-lift. Asset allocation is not a one-time event, it's a life-long process of progression and fine-tuning. \n",
      "\n",
      "SPONSORED\n",
      "Win Up to $10,000 While Trading Digital Assets\n",
      "Digital asset trading just got easier. With OKX, a leading digital asset financial service provider, you can access world-class security as you trade and store assets. Whatâ€™s more, you can win a Mystery Box worth up to $10,000 when you complete a deposit of more than $50 through a crypto purchase or top-up within 30 days of registration. Learn more and sign up to claim your Mystery Box today.\n",
      "hello\n",
      "\n"
     ]
    }
   ],
   "source": [
    "print(text)\n",
    "stopword = list(STOP_WORDS)"
   ]
  },
  {
   "cell_type": "code",
   "execution_count": 12,
   "id": "4e81b94c",
   "metadata": {},
   "outputs": [],
   "source": [
    "# Now time to lead the small English model for processing the text\n",
    "nlp = spacy.load(\"en_core_web_sm\")"
   ]
  },
  {
   "cell_type": "code",
   "execution_count": 13,
   "id": "260d064e",
   "metadata": {},
   "outputs": [],
   "source": [
    "doc = nlp(text)"
   ]
  },
  {
   "cell_type": "code",
   "execution_count": 14,
   "id": "32089f64",
   "metadata": {},
   "outputs": [
    {
     "data": {
      "text/plain": [
       "spacy.tokens.doc.Doc"
      ]
     },
     "execution_count": 14,
     "metadata": {},
     "output_type": "execute_result"
    }
   ],
   "source": [
    "type(doc)"
   ]
  },
  {
   "cell_type": "code",
   "execution_count": 15,
   "id": "a7f470e5",
   "metadata": {},
   "outputs": [
    {
     "name": "stdout",
     "output_type": "stream",
     "text": [
      "With thousands of stocks, bonds, and mutual funds to choose from, picking the right investments can confuse even the most seasoned investor. But if you don't do it correctly, you can undermine your own ability to build wealth and a nest egg for retirement. So what's the best thing to do? Instead of stock picking, you should start by deciding what mix of stocks, bonds, and mutual funds you want to hold. This is referred to as your asset allocation. In this article, we take a look at asset allocation, and five of the most important things you need to know about this technique.\n",
      "\n",
      "KEY TAKEAWAYS\n",
      "Asset allocation tries to balance risk by dividing assets among investment vehicles.\n",
      "The risk-return tradeoff is at the core of what asset allocation is all about.\n",
      "Don't put all your faith in financial planning software and survey sheets.\n",
      "Know your goals.\n",
      "Time allows you to take advantage of compounding and the time value of money.\n",
      "What Is Asset Allocation?\n",
      "Asset allocation is an investment portfolio technique that aims to balance risk by dividing assets among major categories such as cash, bonds, stocks, real estate, and derivatives. Each asset class has different levels of return and risk, so each will behave differently over time.\n",
      "\n",
      "\n",
      "For instance, while one asset category increases in value, another may decrease or may not increase as much. Some critics see this balance as a recipe for mediocre returns, but for most investors, it's the best protection against a major loss should things ever go amiss in one investment class or sub-class.\n",
      "\n",
      "\n",
      "The consensus among most financial professionals is that asset allocation is one of the most important decisions investors make. In other words, your selection of stocks or bonds is secondary to the way you allocate your assets to high and low-risk stocks, to short and long-term bonds, and to cash.\n",
      "\n",
      "\n",
      " Most financial professionals believe that asset allocation is one of the most important decisions investors can make.\n",
      "There is no simple formula that can find the right asset allocation for every individual. If there were, we certainly wouldn't be able to explain it in one article. We can, however, outline five points that we feel are important when thinking about asset allocation.\n",
      "\n",
      "\n",
      "1. Risk vs. Return\n",
      "The risk-return tradeoff is at the core of what asset allocation is all about. It's easy for everyone to say that they want the highest possible return, but simply choosing the assets with the highest potentialâ€”stocks and derivativesâ€”isn't the answer.\n",
      "\n",
      "\n",
      "The crashes of 1929, 1981, 1987, and the more recent declines following the global financial crisis between 2007 to 2009 are all examples of times when investing in only stocks with the highest potential return was not the most prudent plan of action. It's time to face the truth: Every year your returns are going to be beaten by another investor, mutual fund, pension plan, etc. What separates greedy and return-hungry investors from successful ones is the ability to weigh the relationship between risk and return.\n",
      "\n",
      "\n",
      "Yes, investors with a higher risk tolerance should allocate more money into stocks. But if you can't remain invested through the short-term fluctuations of a bear market, you should cut your exposure to equities.\n",
      "\n",
      "\n",
      "2. Software and Planner Sheets\n",
      "Financial planning software and survey sheets designed by financial advisors or investment firms can be beneficial, but never rely solely on software or some pre-determined plan. For example, one old rule of thumb that some advisors use to determine the proportion a person should allocate to stocks is to subtract the person's age from 100. In other words, if you're 35, you should put 65% of your money into stocks and the remaining 35% into bonds, real estate, and cash. More recent advice has shifted to 110 or even 120 minus your age.\n",
      "\n",
      "\n",
      "But standard worksheets sometimes don't take into account other important information such as whether or not you are a parent, retiree, or spouse. Other times, these worksheets are based on a set of simple questions that don't capture your financial goals.\n",
      "\n",
      "Remember, financial institutions love to peg you into a standard plan not because it's best for you, but because it's easy for them. Rules of thumb and planner sheets can give people a rough guideline, but don't get boxed into what they tell you.\n",
      "\n",
      "3. Know Your Goals\n",
      "We all have goals. Whether you aspire to build a fat retirement fund, own a yacht or vacation home, pay for your child's education, or simply save for a new car, you should consider it in your asset-allocation plan. All these goals need to be considered when determining the right mix.\n",
      "\n",
      "For example, if you plan to own a retirement condo on the beach in 20 years, you don't have to worry about short-term fluctuations in the stock market. But if you have a child who will be entering college in five to six years, you may need to tilt your asset allocation to safer fixed-income investments. And as you approach retirement, you may want to shift to a higher proportion of fixed-income investments to equity holdings.\n",
      "\n",
      "4. Time Is Your Best Friend\n",
      "The U.S. Department of Labor has said that for every 10 years you delay saving for retirementâ€”or some other long-term goalâ€”you have to save three times as much each month to catch up.\n",
      "\n",
      "ï»¿\n",
      "\n",
      "Having time not only allows you to take advantage of compounding and the time value of money, but it also means you can put more of your portfolio into higher risk/return investments, namely stocks. A couple of bad years in the stock market will likely show up as nothing more than an insignificant blip 30 years from now.\n",
      "\n",
      "5. Just Do It!\n",
      "Once you determine the right mix of stocks, bonds, and other investments, it's time to implement it. The first step is to find out how your current portfolio breaks down.\n",
      "\n",
      "It's fairly straightforward to see the percentage of assets in stocks versus bonds, but don't forget to categorize what type of stocks you ownâ€”small, mid, or large cap. You should also categorize your bonds according to their maturityâ€”short, mid or long-term.\n",
      "\n",
      "Mutual funds can be more problematic. Fund names don't always tell the entire story. You have to dig deeper in the prospectus to figure out where fund assets are invested.\n",
      "\n",
      "The Bottom Line\n",
      "There is no single solution for allocating your assets. Individual investors require individual solutions. Furthermore, if a long-term horizon is something you don't have, don't worry. It's never too late to get started. It's also never too late to give your existing portfolio a face-lift. Asset allocation is not a one-time event, it's a life-long process of progression and fine-tuning. \n",
      "\n",
      "SPONSORED\n",
      "Win Up to $10,000 While Trading Digital Assets\n",
      "Digital asset trading just got easier. With OKX, a leading digital asset financial service provider, you can access world-class security as you trade and store assets. Whatâ€™s more, you can win a Mystery Box worth up to $10,000 when you complete a deposit of more than $50 through a crypto purchase or top-up within 30 days of registration. Learn more and sign up to claim your Mystery Box today.\n",
      "hello\n",
      "\n"
     ]
    }
   ],
   "source": [
    "print(doc)"
   ]
  },
  {
   "cell_type": "code",
   "execution_count": 16,
   "id": "66e72f97",
   "metadata": {},
   "outputs": [],
   "source": [
    "# In spaCy, a Doc object is a container for a sequence of tokens,\n",
    "# where each token is represented by a Token object.\n",
    "# The Token object has various attributes and methods that allow you\n",
    "# to access information about the token, such as its text, its lemma, its part-of-speech tag, etc.\n",
    "\n",
    "# The text attribute is one of the attributes of a Token object and represents the original string representation of the token as it appeared in the text. For example, if the original text was \"Hello, world!\", the tokens would be \"Hello,\" and \"world!\" and their text attribute would be \"Hello,\" and \"world!\", respectively.\n",
    "\n",
    "# By accessing the text attribute of each token in a spaCy document, you can extract the text of each token and store it in a list or process it further."
   ]
  },
  {
   "cell_type": "code",
   "execution_count": 17,
   "id": "41f4ca01",
   "metadata": {},
   "outputs": [],
   "source": [
    "tokens = [token.text for token in doc]"
   ]
  },
  {
   "cell_type": "code",
   "execution_count": 18,
   "id": "b02e441c",
   "metadata": {},
   "outputs": [
    {
     "name": "stdout",
     "output_type": "stream",
     "text": [
      "['With', 'thousands', 'of', 'stocks', ',', 'bonds', ',', 'and', 'mutual', 'funds', 'to', 'choose', 'from', ',', 'picking', 'the', 'right', 'investments', 'can', 'confuse', 'even', 'the', 'most', 'seasoned', 'investor', '.', 'But', 'if', 'you', 'do', \"n't\", 'do', 'it', 'correctly', ',', 'you', 'can', 'undermine', 'your', 'own', 'ability', 'to', 'build', 'wealth', 'and', 'a', 'nest', 'egg', 'for', 'retirement', '.', 'So', 'what', \"'s\", 'the', 'best', 'thing', 'to', 'do', '?', 'Instead', 'of', 'stock', 'picking', ',', 'you', 'should', 'start', 'by', 'deciding', 'what', 'mix', 'of', 'stocks', ',', 'bonds', ',', 'and', 'mutual', 'funds', 'you', 'want', 'to', 'hold', '.', 'This', 'is', 'referred', 'to', 'as', 'your', 'asset', 'allocation', '.', 'In', 'this', 'article', ',', 'we', 'take', 'a', 'look', 'at', 'asset', 'allocation', ',', 'and', 'five', 'of', 'the', 'most', 'important', 'things', 'you', 'need', 'to', 'know', 'about', 'this', 'technique', '.', '\\n\\n', 'KEY', 'TAKEAWAYS', '\\n', 'Asset', 'allocation', 'tries', 'to', 'balance', 'risk', 'by', 'dividing', 'assets', 'among', 'investment', 'vehicles', '.', '\\n', 'The', 'risk', '-', 'return', 'tradeoff', 'is', 'at', 'the', 'core', 'of', 'what', 'asset', 'allocation', 'is', 'all', 'about', '.', '\\n', 'Do', \"n't\", 'put', 'all', 'your', 'faith', 'in', 'financial', 'planning', 'software', 'and', 'survey', 'sheets', '.', '\\n', 'Know', 'your', 'goals', '.', '\\n', 'Time', 'allows', 'you', 'to', 'take', 'advantage', 'of', 'compounding', 'and', 'the', 'time', 'value', 'of', 'money', '.', '\\n', 'What', 'Is', 'Asset', 'Allocation', '?', '\\n', 'Asset', 'allocation', 'is', 'an', 'investment', 'portfolio', 'technique', 'that', 'aims', 'to', 'balance', 'risk', 'by', 'dividing', 'assets', 'among', 'major', 'categories', 'such', 'as', 'cash', ',', 'bonds', ',', 'stocks', ',', 'real', 'estate', ',', 'and', 'derivatives', '.', 'Each', 'asset', 'class', 'has', 'different', 'levels', 'of', 'return', 'and', 'risk', ',', 'so', 'each', 'will', 'behave', 'differently', 'over', 'time', '.', '\\n\\n\\n', 'For', 'instance', ',', 'while', 'one', 'asset', 'category', 'increases', 'in', 'value', ',', 'another', 'may', 'decrease', 'or', 'may', 'not', 'increase', 'as', 'much', '.', 'Some', 'critics', 'see', 'this', 'balance', 'as', 'a', 'recipe', 'for', 'mediocre', 'returns', ',', 'but', 'for', 'most', 'investors', ',', 'it', \"'s\", 'the', 'best', 'protection', 'against', 'a', 'major', 'loss', 'should', 'things', 'ever', 'go', 'amiss', 'in', 'one', 'investment', 'class', 'or', 'sub', '-', 'class', '.', '\\n\\n\\n', 'The', 'consensus', 'among', 'most', 'financial', 'professionals', 'is', 'that', 'asset', 'allocation', 'is', 'one', 'of', 'the', 'most', 'important', 'decisions', 'investors', 'make', '.', 'In', 'other', 'words', ',', 'your', 'selection', 'of', 'stocks', 'or', 'bonds', 'is', 'secondary', 'to', 'the', 'way', 'you', 'allocate', 'your', 'assets', 'to', 'high', 'and', 'low', '-', 'risk', 'stocks', ',', 'to', 'short', 'and', 'long', '-', 'term', 'bonds', ',', 'and', 'to', 'cash', '.', '\\n\\n\\n ', 'Most', 'financial', 'professionals', 'believe', 'that', 'asset', 'allocation', 'is', 'one', 'of', 'the', 'most', 'important', 'decisions', 'investors', 'can', 'make', '.', '\\n', 'There', 'is', 'no', 'simple', 'formula', 'that', 'can', 'find', 'the', 'right', 'asset', 'allocation', 'for', 'every', 'individual', '.', 'If', 'there', 'were', ',', 'we', 'certainly', 'would', \"n't\", 'be', 'able', 'to', 'explain', 'it', 'in', 'one', 'article', '.', 'We', 'can', ',', 'however', ',', 'outline', 'five', 'points', 'that', 'we', 'feel', 'are', 'important', 'when', 'thinking', 'about', 'asset', 'allocation', '.', '\\n\\n\\n', '1', '.', 'Risk', 'vs.', 'Return', '\\n', 'The', 'risk', '-', 'return', 'tradeoff', 'is', 'at', 'the', 'core', 'of', 'what', 'asset', 'allocation', 'is', 'all', 'about', '.', 'It', \"'s\", 'easy', 'for', 'everyone', 'to', 'say', 'that', 'they', 'want', 'the', 'highest', 'possible', 'return', ',', 'but', 'simply', 'choosing', 'the', 'assets', 'with', 'the', 'highest', 'potentialâ€”stocks', 'and', \"derivativesâ€”isn't\", 'the', 'answer', '.', '\\n\\n\\n', 'The', 'crashes', 'of', '1929', ',', '1981', ',', '1987', ',', 'and', 'the', 'more', 'recent', 'declines', 'following', 'the', 'global', 'financial', 'crisis', 'between', '2007', 'to', '2009', 'are', 'all', 'examples', 'of', 'times', 'when', 'investing', 'in', 'only', 'stocks', 'with', 'the', 'highest', 'potential', 'return', 'was', 'not', 'the', 'most', 'prudent', 'plan', 'of', 'action', '.', 'It', \"'s\", 'time', 'to', 'face', 'the', 'truth', ':', 'Every', 'year', 'your', 'returns', 'are', 'going', 'to', 'be', 'beaten', 'by', 'another', 'investor', ',', 'mutual', 'fund', ',', 'pension', 'plan', ',', 'etc', '.', 'What', 'separates', 'greedy', 'and', 'return', '-', 'hungry', 'investors', 'from', 'successful', 'ones', 'is', 'the', 'ability', 'to', 'weigh', 'the', 'relationship', 'between', 'risk', 'and', 'return', '.', '\\n\\n\\n', 'Yes', ',', 'investors', 'with', 'a', 'higher', 'risk', 'tolerance', 'should', 'allocate', 'more', 'money', 'into', 'stocks', '.', 'But', 'if', 'you', 'ca', \"n't\", 'remain', 'invested', 'through', 'the', 'short', '-', 'term', 'fluctuations', 'of', 'a', 'bear', 'market', ',', 'you', 'should', 'cut', 'your', 'exposure', 'to', 'equities', '.', '\\n\\n\\n', '2', '.', 'Software', 'and', 'Planner', 'Sheets', '\\n', 'Financial', 'planning', 'software', 'and', 'survey', 'sheets', 'designed', 'by', 'financial', 'advisors', 'or', 'investment', 'firms', 'can', 'be', 'beneficial', ',', 'but', 'never', 'rely', 'solely', 'on', 'software', 'or', 'some', 'pre', '-', 'determined', 'plan', '.', 'For', 'example', ',', 'one', 'old', 'rule', 'of', 'thumb', 'that', 'some', 'advisors', 'use', 'to', 'determine', 'the', 'proportion', 'a', 'person', 'should', 'allocate', 'to', 'stocks', 'is', 'to', 'subtract', 'the', 'person', \"'s\", 'age', 'from', '100', '.', 'In', 'other', 'words', ',', 'if', 'you', \"'re\", '35', ',', 'you', 'should', 'put', '65', '%', 'of', 'your', 'money', 'into', 'stocks', 'and', 'the', 'remaining', '35', '%', 'into', 'bonds', ',', 'real', 'estate', ',', 'and', 'cash', '.', 'More', 'recent', 'advice', 'has', 'shifted', 'to', '110', 'or', 'even', '120', 'minus', 'your', 'age', '.', '\\n\\n\\n', 'But', 'standard', 'worksheets', 'sometimes', 'do', \"n't\", 'take', 'into', 'account', 'other', 'important', 'information', 'such', 'as', 'whether', 'or', 'not', 'you', 'are', 'a', 'parent', ',', 'retiree', ',', 'or', 'spouse', '.', 'Other', 'times', ',', 'these', 'worksheets', 'are', 'based', 'on', 'a', 'set', 'of', 'simple', 'questions', 'that', 'do', \"n't\", 'capture', 'your', 'financial', 'goals', '.', '\\n\\n', 'Remember', ',', 'financial', 'institutions', 'love', 'to', 'peg', 'you', 'into', 'a', 'standard', 'plan', 'not', 'because', 'it', \"'s\", 'best', 'for', 'you', ',', 'but', 'because', 'it', \"'s\", 'easy', 'for', 'them', '.', 'Rules', 'of', 'thumb', 'and', 'planner', 'sheets', 'can', 'give', 'people', 'a', 'rough', 'guideline', ',', 'but', 'do', \"n't\", 'get', 'boxed', 'into', 'what', 'they', 'tell', 'you', '.', '\\n\\n', '3', '.', 'Know', 'Your', 'Goals', '\\n', 'We', 'all', 'have', 'goals', '.', 'Whether', 'you', 'aspire', 'to', 'build', 'a', 'fat', 'retirement', 'fund', ',', 'own', 'a', 'yacht', 'or', 'vacation', 'home', ',', 'pay', 'for', 'your', 'child', \"'s\", 'education', ',', 'or', 'simply', 'save', 'for', 'a', 'new', 'car', ',', 'you', 'should', 'consider', 'it', 'in', 'your', 'asset', '-', 'allocation', 'plan', '.', 'All', 'these', 'goals', 'need', 'to', 'be', 'considered', 'when', 'determining', 'the', 'right', 'mix', '.', '\\n\\n', 'For', 'example', ',', 'if', 'you', 'plan', 'to', 'own', 'a', 'retirement', 'condo', 'on', 'the', 'beach', 'in', '20', 'years', ',', 'you', 'do', \"n't\", 'have', 'to', 'worry', 'about', 'short', '-', 'term', 'fluctuations', 'in', 'the', 'stock', 'market', '.', 'But', 'if', 'you', 'have', 'a', 'child', 'who', 'will', 'be', 'entering', 'college', 'in', 'five', 'to', 'six', 'years', ',', 'you', 'may', 'need', 'to', 'tilt', 'your', 'asset', 'allocation', 'to', 'safer', 'fixed', '-', 'income', 'investments', '.', 'And', 'as', 'you', 'approach', 'retirement', ',', 'you', 'may', 'want', 'to', 'shift', 'to', 'a', 'higher', 'proportion', 'of', 'fixed', '-', 'income', 'investments', 'to', 'equity', 'holdings', '.', '\\n\\n', '4', '.', 'Time', 'Is', 'Your', 'Best', 'Friend', '\\n', 'The', 'U.S.', 'Department', 'of', 'Labor', 'has', 'said', 'that', 'for', 'every', '10', 'years', 'you', 'delay', 'saving', 'for', 'retirementâ€”or', 'some', 'other', 'long', '-', 'term', 'goalâ€”you', 'have', 'to', 'save', 'three', 'times', 'as', 'much', 'each', 'month', 'to', 'catch', 'up', '.', '\\n\\n', 'ï', '»', '¿', '\\n\\n', 'Having', 'time', 'not', 'only', 'allows', 'you', 'to', 'take', 'advantage', 'of', 'compounding', 'and', 'the', 'time', 'value', 'of', 'money', ',', 'but', 'it', 'also', 'means', 'you', 'can', 'put', 'more', 'of', 'your', 'portfolio', 'into', 'higher', 'risk', '/', 'return', 'investments', ',', 'namely', 'stocks', '.', 'A', 'couple', 'of', 'bad', 'years', 'in', 'the', 'stock', 'market', 'will', 'likely', 'show', 'up', 'as', 'nothing', 'more', 'than', 'an', 'insignificant', 'blip', '30', 'years', 'from', 'now', '.', '\\n\\n', '5', '.', 'Just', 'Do', 'It', '!', '\\n', 'Once', 'you', 'determine', 'the', 'right', 'mix', 'of', 'stocks', ',', 'bonds', ',', 'and', 'other', 'investments', ',', 'it', \"'s\", 'time', 'to', 'implement', 'it', '.', 'The', 'first', 'step', 'is', 'to', 'find', 'out', 'how', 'your', 'current', 'portfolio', 'breaks', 'down', '.', '\\n\\n', 'It', \"'s\", 'fairly', 'straightforward', 'to', 'see', 'the', 'percentage', 'of', 'assets', 'in', 'stocks', 'versus', 'bonds', ',', 'but', 'do', \"n't\", 'forget', 'to', 'categorize', 'what', 'type', 'of', 'stocks', 'you', 'ownâ€”small', ',', 'mid', ',', 'or', 'large', 'cap', '.', 'You', 'should', 'also', 'categorize', 'your', 'bonds', 'according', 'to', 'their', 'maturityâ€”short', ',', 'mid', 'or', 'long', '-', 'term', '.', '\\n\\n', 'Mutual', 'funds', 'can', 'be', 'more', 'problematic', '.', 'Fund', 'names', 'do', \"n't\", 'always', 'tell', 'the', 'entire', 'story', '.', 'You', 'have', 'to', 'dig', 'deeper', 'in', 'the', 'prospectus', 'to', 'figure', 'out', 'where', 'fund', 'assets', 'are', 'invested', '.', '\\n\\n', 'The', 'Bottom', 'Line', '\\n', 'There', 'is', 'no', 'single', 'solution', 'for', 'allocating', 'your', 'assets', '.', 'Individual', 'investors', 'require', 'individual', 'solutions', '.', 'Furthermore', ',', 'if', 'a', 'long', '-', 'term', 'horizon', 'is', 'something', 'you', 'do', \"n't\", 'have', ',', 'do', \"n't\", 'worry', '.', 'It', \"'s\", 'never', 'too', 'late', 'to', 'get', 'started', '.', 'It', \"'s\", 'also', 'never', 'too', 'late', 'to', 'give', 'your', 'existing', 'portfolio', 'a', 'face', '-', 'lift', '.', 'Asset', 'allocation', 'is', 'not', 'a', 'one', '-', 'time', 'event', ',', 'it', \"'s\", 'a', 'life', '-', 'long', 'process', 'of', 'progression', 'and', 'fine', '-', 'tuning', '.', '\\n\\n', 'SPONSORED', '\\n', 'Win', 'Up', 'to', '$', '10,000', 'While', 'Trading', 'Digital', 'Assets', '\\n', 'Digital', 'asset', 'trading', 'just', 'got', 'easier', '.', 'With', 'OKX', ',', 'a', 'leading', 'digital', 'asset', 'financial', 'service', 'provider', ',', 'you', 'can', 'access', 'world', '-', 'class', 'security', 'as', 'you', 'trade', 'and', 'store', 'assets', '.', 'Whatâ€', '™', 's', 'more', ',', 'you', 'can', 'win', 'a', 'Mystery', 'Box', 'worth', 'up', 'to', '$', '10,000', 'when', 'you', 'complete', 'a', 'deposit', 'of', 'more', 'than', '$', '50', 'through', 'a', 'crypto', 'purchase', 'or', 'top', '-', 'up', 'within', '30', 'days', 'of', 'registration', '.', 'Learn', 'more', 'and', 'sign', 'up', 'to', 'claim', 'your', 'Mystery', 'Box', 'today', '.', '\\n', 'hello', '\\n']\n"
     ]
    }
   ],
   "source": [
    "print(tokens)"
   ]
  },
  {
   "cell_type": "code",
   "execution_count": 19,
   "id": "25530357",
   "metadata": {},
   "outputs": [
    {
     "data": {
      "text/plain": [
       "'!\"#$%&\\'()*+,-./:;<=>?@[\\\\]^_`{|}~'"
      ]
     },
     "execution_count": 19,
     "metadata": {},
     "output_type": "execute_result"
    }
   ],
   "source": [
    "# See the token in not clean \n",
    "# it contains punctions and end of line etc\n",
    "punctuation"
   ]
  },
  {
   "cell_type": "code",
   "execution_count": 20,
   "id": "baf13496",
   "metadata": {},
   "outputs": [],
   "source": [
    "# clearly no end of line is included here \n",
    "# so here let's include include it\n",
    "punctuation += '\\n'"
   ]
  },
  {
   "cell_type": "code",
   "execution_count": 21,
   "id": "61b79fa0",
   "metadata": {},
   "outputs": [],
   "source": [
    "tokens = [token for token in tokens if token not in punctuation]"
   ]
  },
  {
   "cell_type": "code",
   "execution_count": 22,
   "id": "77eb4d48",
   "metadata": {},
   "outputs": [
    {
     "name": "stdout",
     "output_type": "stream",
     "text": [
      "['With', 'thousands', 'of', 'stocks', 'bonds', 'and', 'mutual', 'funds', 'to', 'choose', 'from', 'picking', 'the', 'right', 'investments', 'can', 'confuse', 'even', 'the', 'most', 'seasoned', 'investor', 'But', 'if', 'you', 'do', \"n't\", 'do', 'it', 'correctly', 'you', 'can', 'undermine', 'your', 'own', 'ability', 'to', 'build', 'wealth', 'and', 'a', 'nest', 'egg', 'for', 'retirement', 'So', 'what', \"'s\", 'the', 'best', 'thing', 'to', 'do', 'Instead', 'of', 'stock', 'picking', 'you', 'should', 'start', 'by', 'deciding', 'what', 'mix', 'of', 'stocks', 'bonds', 'and', 'mutual', 'funds', 'you', 'want', 'to', 'hold', 'This', 'is', 'referred', 'to', 'as', 'your', 'asset', 'allocation', 'In', 'this', 'article', 'we', 'take', 'a', 'look', 'at', 'asset', 'allocation', 'and', 'five', 'of', 'the', 'most', 'important', 'things', 'you', 'need', 'to', 'know', 'about', 'this', 'technique', '\\n\\n', 'KEY', 'TAKEAWAYS', 'Asset', 'allocation', 'tries', 'to', 'balance', 'risk', 'by', 'dividing', 'assets', 'among', 'investment', 'vehicles', 'The', 'risk', 'return', 'tradeoff', 'is', 'at', 'the', 'core', 'of', 'what', 'asset', 'allocation', 'is', 'all', 'about', 'Do', \"n't\", 'put', 'all', 'your', 'faith', 'in', 'financial', 'planning', 'software', 'and', 'survey', 'sheets', 'Know', 'your', 'goals', 'Time', 'allows', 'you', 'to', 'take', 'advantage', 'of', 'compounding', 'and', 'the', 'time', 'value', 'of', 'money', 'What', 'Is', 'Asset', 'Allocation', 'Asset', 'allocation', 'is', 'an', 'investment', 'portfolio', 'technique', 'that', 'aims', 'to', 'balance', 'risk', 'by', 'dividing', 'assets', 'among', 'major', 'categories', 'such', 'as', 'cash', 'bonds', 'stocks', 'real', 'estate', 'and', 'derivatives', 'Each', 'asset', 'class', 'has', 'different', 'levels', 'of', 'return', 'and', 'risk', 'so', 'each', 'will', 'behave', 'differently', 'over', 'time', '\\n\\n\\n', 'For', 'instance', 'while', 'one', 'asset', 'category', 'increases', 'in', 'value', 'another', 'may', 'decrease', 'or', 'may', 'not', 'increase', 'as', 'much', 'Some', 'critics', 'see', 'this', 'balance', 'as', 'a', 'recipe', 'for', 'mediocre', 'returns', 'but', 'for', 'most', 'investors', 'it', \"'s\", 'the', 'best', 'protection', 'against', 'a', 'major', 'loss', 'should', 'things', 'ever', 'go', 'amiss', 'in', 'one', 'investment', 'class', 'or', 'sub', 'class', '\\n\\n\\n', 'The', 'consensus', 'among', 'most', 'financial', 'professionals', 'is', 'that', 'asset', 'allocation', 'is', 'one', 'of', 'the', 'most', 'important', 'decisions', 'investors', 'make', 'In', 'other', 'words', 'your', 'selection', 'of', 'stocks', 'or', 'bonds', 'is', 'secondary', 'to', 'the', 'way', 'you', 'allocate', 'your', 'assets', 'to', 'high', 'and', 'low', 'risk', 'stocks', 'to', 'short', 'and', 'long', 'term', 'bonds', 'and', 'to', 'cash', '\\n\\n\\n ', 'Most', 'financial', 'professionals', 'believe', 'that', 'asset', 'allocation', 'is', 'one', 'of', 'the', 'most', 'important', 'decisions', 'investors', 'can', 'make', 'There', 'is', 'no', 'simple', 'formula', 'that', 'can', 'find', 'the', 'right', 'asset', 'allocation', 'for', 'every', 'individual', 'If', 'there', 'were', 'we', 'certainly', 'would', \"n't\", 'be', 'able', 'to', 'explain', 'it', 'in', 'one', 'article', 'We', 'can', 'however', 'outline', 'five', 'points', 'that', 'we', 'feel', 'are', 'important', 'when', 'thinking', 'about', 'asset', 'allocation', '\\n\\n\\n', '1', 'Risk', 'vs.', 'Return', 'The', 'risk', 'return', 'tradeoff', 'is', 'at', 'the', 'core', 'of', 'what', 'asset', 'allocation', 'is', 'all', 'about', 'It', \"'s\", 'easy', 'for', 'everyone', 'to', 'say', 'that', 'they', 'want', 'the', 'highest', 'possible', 'return', 'but', 'simply', 'choosing', 'the', 'assets', 'with', 'the', 'highest', 'potentialâ€”stocks', 'and', \"derivativesâ€”isn't\", 'the', 'answer', '\\n\\n\\n', 'The', 'crashes', 'of', '1929', '1981', '1987', 'and', 'the', 'more', 'recent', 'declines', 'following', 'the', 'global', 'financial', 'crisis', 'between', '2007', 'to', '2009', 'are', 'all', 'examples', 'of', 'times', 'when', 'investing', 'in', 'only', 'stocks', 'with', 'the', 'highest', 'potential', 'return', 'was', 'not', 'the', 'most', 'prudent', 'plan', 'of', 'action', 'It', \"'s\", 'time', 'to', 'face', 'the', 'truth', 'Every', 'year', 'your', 'returns', 'are', 'going', 'to', 'be', 'beaten', 'by', 'another', 'investor', 'mutual', 'fund', 'pension', 'plan', 'etc', 'What', 'separates', 'greedy', 'and', 'return', 'hungry', 'investors', 'from', 'successful', 'ones', 'is', 'the', 'ability', 'to', 'weigh', 'the', 'relationship', 'between', 'risk', 'and', 'return', '\\n\\n\\n', 'Yes', 'investors', 'with', 'a', 'higher', 'risk', 'tolerance', 'should', 'allocate', 'more', 'money', 'into', 'stocks', 'But', 'if', 'you', 'ca', \"n't\", 'remain', 'invested', 'through', 'the', 'short', 'term', 'fluctuations', 'of', 'a', 'bear', 'market', 'you', 'should', 'cut', 'your', 'exposure', 'to', 'equities', '\\n\\n\\n', '2', 'Software', 'and', 'Planner', 'Sheets', 'Financial', 'planning', 'software', 'and', 'survey', 'sheets', 'designed', 'by', 'financial', 'advisors', 'or', 'investment', 'firms', 'can', 'be', 'beneficial', 'but', 'never', 'rely', 'solely', 'on', 'software', 'or', 'some', 'pre', 'determined', 'plan', 'For', 'example', 'one', 'old', 'rule', 'of', 'thumb', 'that', 'some', 'advisors', 'use', 'to', 'determine', 'the', 'proportion', 'a', 'person', 'should', 'allocate', 'to', 'stocks', 'is', 'to', 'subtract', 'the', 'person', \"'s\", 'age', 'from', '100', 'In', 'other', 'words', 'if', 'you', \"'re\", '35', 'you', 'should', 'put', '65', 'of', 'your', 'money', 'into', 'stocks', 'and', 'the', 'remaining', '35', 'into', 'bonds', 'real', 'estate', 'and', 'cash', 'More', 'recent', 'advice', 'has', 'shifted', 'to', '110', 'or', 'even', '120', 'minus', 'your', 'age', '\\n\\n\\n', 'But', 'standard', 'worksheets', 'sometimes', 'do', \"n't\", 'take', 'into', 'account', 'other', 'important', 'information', 'such', 'as', 'whether', 'or', 'not', 'you', 'are', 'a', 'parent', 'retiree', 'or', 'spouse', 'Other', 'times', 'these', 'worksheets', 'are', 'based', 'on', 'a', 'set', 'of', 'simple', 'questions', 'that', 'do', \"n't\", 'capture', 'your', 'financial', 'goals', '\\n\\n', 'Remember', 'financial', 'institutions', 'love', 'to', 'peg', 'you', 'into', 'a', 'standard', 'plan', 'not', 'because', 'it', \"'s\", 'best', 'for', 'you', 'but', 'because', 'it', \"'s\", 'easy', 'for', 'them', 'Rules', 'of', 'thumb', 'and', 'planner', 'sheets', 'can', 'give', 'people', 'a', 'rough', 'guideline', 'but', 'do', \"n't\", 'get', 'boxed', 'into', 'what', 'they', 'tell', 'you', '\\n\\n', '3', 'Know', 'Your', 'Goals', 'We', 'all', 'have', 'goals', 'Whether', 'you', 'aspire', 'to', 'build', 'a', 'fat', 'retirement', 'fund', 'own', 'a', 'yacht', 'or', 'vacation', 'home', 'pay', 'for', 'your', 'child', \"'s\", 'education', 'or', 'simply', 'save', 'for', 'a', 'new', 'car', 'you', 'should', 'consider', 'it', 'in', 'your', 'asset', 'allocation', 'plan', 'All', 'these', 'goals', 'need', 'to', 'be', 'considered', 'when', 'determining', 'the', 'right', 'mix', '\\n\\n', 'For', 'example', 'if', 'you', 'plan', 'to', 'own', 'a', 'retirement', 'condo', 'on', 'the', 'beach', 'in', '20', 'years', 'you', 'do', \"n't\", 'have', 'to', 'worry', 'about', 'short', 'term', 'fluctuations', 'in', 'the', 'stock', 'market', 'But', 'if', 'you', 'have', 'a', 'child', 'who', 'will', 'be', 'entering', 'college', 'in', 'five', 'to', 'six', 'years', 'you', 'may', 'need', 'to', 'tilt', 'your', 'asset', 'allocation', 'to', 'safer', 'fixed', 'income', 'investments', 'And', 'as', 'you', 'approach', 'retirement', 'you', 'may', 'want', 'to', 'shift', 'to', 'a', 'higher', 'proportion', 'of', 'fixed', 'income', 'investments', 'to', 'equity', 'holdings', '\\n\\n', '4', 'Time', 'Is', 'Your', 'Best', 'Friend', 'The', 'U.S.', 'Department', 'of', 'Labor', 'has', 'said', 'that', 'for', 'every', '10', 'years', 'you', 'delay', 'saving', 'for', 'retirementâ€”or', 'some', 'other', 'long', 'term', 'goalâ€”you', 'have', 'to', 'save', 'three', 'times', 'as', 'much', 'each', 'month', 'to', 'catch', 'up', '\\n\\n', 'ï', '»', '¿', '\\n\\n', 'Having', 'time', 'not', 'only', 'allows', 'you', 'to', 'take', 'advantage', 'of', 'compounding', 'and', 'the', 'time', 'value', 'of', 'money', 'but', 'it', 'also', 'means', 'you', 'can', 'put', 'more', 'of', 'your', 'portfolio', 'into', 'higher', 'risk', 'return', 'investments', 'namely', 'stocks', 'A', 'couple', 'of', 'bad', 'years', 'in', 'the', 'stock', 'market', 'will', 'likely', 'show', 'up', 'as', 'nothing', 'more', 'than', 'an', 'insignificant', 'blip', '30', 'years', 'from', 'now', '\\n\\n', '5', 'Just', 'Do', 'It', 'Once', 'you', 'determine', 'the', 'right', 'mix', 'of', 'stocks', 'bonds', 'and', 'other', 'investments', 'it', \"'s\", 'time', 'to', 'implement', 'it', 'The', 'first', 'step', 'is', 'to', 'find', 'out', 'how', 'your', 'current', 'portfolio', 'breaks', 'down', '\\n\\n', 'It', \"'s\", 'fairly', 'straightforward', 'to', 'see', 'the', 'percentage', 'of', 'assets', 'in', 'stocks', 'versus', 'bonds', 'but', 'do', \"n't\", 'forget', 'to', 'categorize', 'what', 'type', 'of', 'stocks', 'you', 'ownâ€”small', 'mid', 'or', 'large', 'cap', 'You', 'should', 'also', 'categorize', 'your', 'bonds', 'according', 'to', 'their', 'maturityâ€”short', 'mid', 'or', 'long', 'term', '\\n\\n', 'Mutual', 'funds', 'can', 'be', 'more', 'problematic', 'Fund', 'names', 'do', \"n't\", 'always', 'tell', 'the', 'entire', 'story', 'You', 'have', 'to', 'dig', 'deeper', 'in', 'the', 'prospectus', 'to', 'figure', 'out', 'where', 'fund', 'assets', 'are', 'invested', '\\n\\n', 'The', 'Bottom', 'Line', 'There', 'is', 'no', 'single', 'solution', 'for', 'allocating', 'your', 'assets', 'Individual', 'investors', 'require', 'individual', 'solutions', 'Furthermore', 'if', 'a', 'long', 'term', 'horizon', 'is', 'something', 'you', 'do', \"n't\", 'have', 'do', \"n't\", 'worry', 'It', \"'s\", 'never', 'too', 'late', 'to', 'get', 'started', 'It', \"'s\", 'also', 'never', 'too', 'late', 'to', 'give', 'your', 'existing', 'portfolio', 'a', 'face', 'lift', 'Asset', 'allocation', 'is', 'not', 'a', 'one', 'time', 'event', 'it', \"'s\", 'a', 'life', 'long', 'process', 'of', 'progression', 'and', 'fine', 'tuning', '\\n\\n', 'SPONSORED', 'Win', 'Up', 'to', '10,000', 'While', 'Trading', 'Digital', 'Assets', 'Digital', 'asset', 'trading', 'just', 'got', 'easier', 'With', 'OKX', 'a', 'leading', 'digital', 'asset', 'financial', 'service', 'provider', 'you', 'can', 'access', 'world', 'class', 'security', 'as', 'you', 'trade', 'and', 'store', 'assets', 'Whatâ€', '™', 's', 'more', 'you', 'can', 'win', 'a', 'Mystery', 'Box', 'worth', 'up', 'to', '10,000', 'when', 'you', 'complete', 'a', 'deposit', 'of', 'more', 'than', '50', 'through', 'a', 'crypto', 'purchase', 'or', 'top', 'up', 'within', '30', 'days', 'of', 'registration', 'Learn', 'more', 'and', 'sign', 'up', 'to', 'claim', 'your', 'Mystery', 'Box', 'today', 'hello']\n"
     ]
    }
   ],
   "source": [
    "print(tokens)"
   ]
  },
  {
   "cell_type": "code",
   "execution_count": 23,
   "id": "67187e68",
   "metadata": {},
   "outputs": [],
   "source": [
    "# now our tokens in cleaned\n",
    "# let's calculate the word frequencies\n",
    "word_frequencies = {}"
   ]
  },
  {
   "cell_type": "code",
   "execution_count": 25,
   "id": "66936f05",
   "metadata": {},
   "outputs": [],
   "source": [
    "for word in doc:\n",
    "    if word.text.lower() not in punctuation:\n",
    "        if word.text.lower() not in stopword:\n",
    "            if word.text not in word_frequencies.keys():\n",
    "                word_frequencies[word.text] = 1\n",
    "            else:\n",
    "                word_frequencies[word.text] += 1"
   ]
  },
  {
   "cell_type": "code",
   "execution_count": 26,
   "id": "0b88ac8f",
   "metadata": {},
   "outputs": [
    {
     "name": "stdout",
     "output_type": "stream",
     "text": [
      "{'thousands': 2, 'stocks': 15, 'bonds': 11, 'mutual': 5, 'funds': 5, 'choose': 2, 'picking': 4, 'right': 5, 'investments': 6, 'confuse': 2, 'seasoned': 2, 'investor': 3, 'correctly': 2, 'undermine': 2, 'ability': 3, 'build': 3, 'wealth': 2, 'nest': 2, 'egg': 2, 'retirement': 5, 'best': 4, 'thing': 2, 'Instead': 2, 'stock': 4, 'start': 2, 'deciding': 2, 'mix': 4, 'want': 4, 'hold': 2, 'referred': 2, 'asset': 16, 'allocation': 15, 'article': 3, 'look': 2, 'important': 6, 'things': 3, 'need': 4, 'know': 2, 'technique': 3, '\\n\\n': 13, 'KEY': 2, 'TAKEAWAYS': 2, 'Asset': 4, 'tries': 1, 'balance': 3, 'risk': 9, 'dividing': 2, 'assets': 8, 'investment': 4, 'vehicles': 1, 'return': 8, 'tradeoff': 2, 'core': 2, 'faith': 1, 'financial': 8, 'planning': 2, 'software': 3, 'survey': 2, 'sheets': 3, 'Know': 2, 'goals': 4, 'Time': 2, 'allows': 2, 'advantage': 2, 'compounding': 2, 'time': 7, 'value': 3, 'money': 4, 'Allocation': 1, 'portfolio': 4, 'aims': 1, 'major': 2, 'categories': 1, 'cash': 3, 'real': 2, 'estate': 2, 'derivatives': 1, 'class': 4, 'different': 1, 'levels': 1, 'behave': 1, 'differently': 1, '\\n\\n\\n': 7, 'instance': 1, 'category': 1, 'increases': 1, 'decrease': 1, 'increase': 1, 'critics': 1, 'recipe': 1, 'mediocre': 1, 'returns': 2, 'investors': 6, 'protection': 1, 'loss': 1, 'amiss': 1, 'sub': 1, 'consensus': 1, 'professionals': 2, 'decisions': 2, 'words': 2, 'selection': 1, 'secondary': 1, 'way': 1, 'allocate': 3, 'high': 1, 'low': 1, 'short': 3, 'long': 5, 'term': 6, '\\n\\n\\n ': 1, 'believe': 1, 'simple': 2, 'formula': 1, 'find': 2, 'individual': 2, 'certainly': 1, 'able': 1, 'explain': 1, 'outline': 1, 'points': 1, 'feel': 1, 'thinking': 1, '1': 1, 'Risk': 1, 'vs.': 1, 'Return': 1, 'easy': 2, 'highest': 3, 'possible': 1, 'simply': 2, 'choosing': 1, 'potentialâ€”stocks': 1, \"derivativesâ€”isn't\": 1, 'answer': 1, 'crashes': 1, '1929': 1, '1981': 1, '1987': 1, 'recent': 2, 'declines': 1, 'following': 1, 'global': 1, 'crisis': 1, '2007': 1, '2009': 1, 'examples': 1, 'times': 3, 'investing': 1, 'potential': 1, 'prudent': 1, 'plan': 6, 'action': 1, 'face': 2, 'truth': 1, 'year': 1, 'going': 1, 'beaten': 1, 'fund': 3, 'pension': 1, 'etc': 1, 'separates': 1, 'greedy': 1, 'hungry': 1, 'successful': 1, 'ones': 1, 'weigh': 1, 'relationship': 1, 'Yes': 1, 'higher': 3, 'tolerance': 1, 'remain': 1, 'invested': 2, 'fluctuations': 2, 'bear': 1, 'market': 3, 'cut': 1, 'exposure': 1, 'equities': 1, '2': 1, 'Software': 1, 'Planner': 1, 'Sheets': 1, 'Financial': 1, 'designed': 1, 'advisors': 2, 'firms': 1, 'beneficial': 1, 'rely': 1, 'solely': 1, 'pre': 1, 'determined': 1, 'example': 2, 'old': 1, 'rule': 1, 'thumb': 2, 'use': 1, 'determine': 2, 'proportion': 2, 'person': 2, 'subtract': 1, 'age': 2, '100': 1, '35': 2, '65': 1, 'remaining': 1, 'advice': 1, 'shifted': 1, '110': 1, '120': 1, 'minus': 1, 'standard': 2, 'worksheets': 2, 'account': 1, 'information': 1, 'parent': 1, 'retiree': 1, 'spouse': 1, 'based': 1, 'set': 1, 'questions': 1, 'capture': 1, 'Remember': 1, 'institutions': 1, 'love': 1, 'peg': 1, 'Rules': 1, 'planner': 1, 'people': 1, 'rough': 1, 'guideline': 1, 'boxed': 1, 'tell': 2, '3': 1, 'Goals': 1, 'aspire': 1, 'fat': 1, 'yacht': 1, 'vacation': 1, 'home': 1, 'pay': 1, 'child': 2, 'education': 1, 'save': 2, 'new': 1, 'car': 1, 'consider': 1, 'considered': 1, 'determining': 1, 'condo': 1, 'beach': 1, '20': 1, 'years': 5, 'worry': 2, 'entering': 1, 'college': 1, 'tilt': 1, 'safer': 1, 'fixed': 2, 'income': 2, 'approach': 1, 'shift': 1, 'equity': 1, 'holdings': 1, '4': 1, 'Best': 1, 'Friend': 1, 'U.S.': 1, 'Department': 1, 'Labor': 1, 'said': 1, '10': 1, 'delay': 1, 'saving': 1, 'retirementâ€”or': 1, 'goalâ€”you': 1, 'month': 1, 'catch': 1, 'ï': 1, '»': 1, '¿': 1, 'Having': 1, 'means': 1, 'couple': 1, 'bad': 1, 'likely': 1, 'insignificant': 1, 'blip': 1, '30': 2, '5': 1, 'implement': 1, 'step': 1, 'current': 1, 'breaks': 1, 'fairly': 1, 'straightforward': 1, 'percentage': 1, 'versus': 1, 'forget': 1, 'categorize': 2, 'type': 1, 'ownâ€”small': 1, 'mid': 2, 'large': 1, 'cap': 1, 'according': 1, 'maturityâ€”short': 1, 'Mutual': 1, 'problematic': 1, 'Fund': 1, 'names': 1, 'entire': 1, 'story': 1, 'dig': 1, 'deeper': 1, 'prospectus': 1, 'figure': 1, 'Line': 1, 'single': 1, 'solution': 1, 'allocating': 1, 'Individual': 1, 'require': 1, 'solutions': 1, 'Furthermore': 1, 'horizon': 1, 'late': 2, 'started': 1, 'existing': 1, 'lift': 1, 'event': 1, 'life': 1, 'process': 1, 'progression': 1, 'fine': 1, 'tuning': 1, 'SPONSORED': 1, 'Win': 1, '10,000': 2, 'Trading': 1, 'Digital': 2, 'Assets': 1, 'trading': 1, 'got': 1, 'easier': 1, 'OKX': 1, 'leading': 1, 'digital': 1, 'service': 1, 'provider': 1, 'access': 1, 'world': 1, 'security': 1, 'trade': 1, 'store': 1, 'Whatâ€': 1, '™': 1, 's': 1, 'win': 1, 'Mystery': 2, 'Box': 2, 'worth': 1, 'complete': 1, 'deposit': 1, '50': 1, 'crypto': 1, 'purchase': 1, 'days': 1, 'registration': 1, 'Learn': 1, 'sign': 1, 'claim': 1, 'today': 1, 'hello': 1}\n"
     ]
    }
   ],
   "source": [
    "print(word_frequencies)\n"
   ]
  },
  {
   "cell_type": "code",
   "execution_count": 27,
   "id": "17d70c71",
   "metadata": {},
   "outputs": [],
   "source": [
    "max_frequency = max(word_frequencies.values())"
   ]
  },
  {
   "cell_type": "code",
   "execution_count": 28,
   "id": "098f3046",
   "metadata": {},
   "outputs": [
    {
     "name": "stdout",
     "output_type": "stream",
     "text": [
      "16\n"
     ]
    }
   ],
   "source": [
    "print(max_frequency)"
   ]
  },
  {
   "cell_type": "code",
   "execution_count": 29,
   "id": "ef87b8d2",
   "metadata": {},
   "outputs": [],
   "source": [
    "# let's find the key with maximum word frequency\n",
    "max_keys = []\n",
    "for key,value in word_frequencies.items():\n",
    "    if value == max_frequency:\n",
    "        max_keys.append(key)"
   ]
  },
  {
   "cell_type": "code",
   "execution_count": 30,
   "id": "9d25af96",
   "metadata": {},
   "outputs": [
    {
     "name": "stdout",
     "output_type": "stream",
     "text": [
      "['asset']\n"
     ]
    }
   ],
   "source": [
    "print(max_keys)"
   ]
  },
  {
   "cell_type": "code",
   "execution_count": 31,
   "id": "520a0ce9",
   "metadata": {},
   "outputs": [
    {
     "name": "stdout",
     "output_type": "stream",
     "text": [
      "['ever', 'used', 'beyond', 'so', 'back', 'someone', 'wherein', 'nowhere', 'are', 'must', 'on', 'then', 'you', 'whenever', 'something', 'one', 'anyhow', 'meanwhile', 'sixty', 'yet', 'along', 'had', 'much', \"'d\", 'somehow', 'n‘t', 'beside', 'mostly', 'myself', 'too', 'side', 'of', 'whose', 'becomes', 'ca', 'thereafter', 'did', 'yourselves', \"'ll\", 'five', '‘s', 'now', 'whereafter', 'any', 'seemed', 'across', 'whence', 'and', 'using', 'though', 'per', \"'ve\", 'nobody', 'take', '‘re', 'some', 'same', 'nothing', 'almost', \"'s\", 'rather', 'anywhere', 'however', \"n't\", \"'m\", 'am', 'toward', 'front', '’m', 'full', 'thereupon', 'via', 'in', 'might', 'wherever', 'the', 'should', 'really', 'six', 'except', 'besides', 'me', 'hereupon', '’s', 'say', 'often', 'around', 'last', 'quite', 'forty', 'it', 'still', 'is', 'otherwise', 'him', 'move', 'themselves', 'well', 'amongst', 're', 'another', 'ten', 'hers', 'once', 'whereas', 'if', 'among', 'show', 'hereafter', 'my', 'cannot', 'everywhere', 'ours', 'latter', 'were', '’ve', \"'re\", 'through', 'n’t', 'doing', 'others', 'due', 'indeed', 'but', 'top', 'until', 'such', 'therein', 'here', 'her', 'can', 'under', 'your', 'his', 'being', 'not', 'ourselves', 'into', 'that', 'see', 'could', 'them', 'put', 'nor', 'each', 'thus', 'everyone', 'four', 'she', 'where', 'else', 'our', 'without', 'within', 'with', 'at', 'enough', 'throughout', 'became', 'made', 'out', 'anyone', 'latterly', 'whether', 'below', 'towards', 'eleven', 'against', 'those', 'regarding', 'why', 'behind', 'twelve', 'yours', 'least', 'during', 'as', 'how', 'which', 'mine', 'various', 'their', 'fifty', 'a', 'yourself', 'fifteen', 'no', 'although', 'three', 'just', 'twenty', 'together', 'next', '’d', 'than', 'many', 'perhaps', '‘d', 'from', 'please', 'will', 'becoming', 'none', 'be', 'these', 'thence', 'few', 'only', 'part', 'seems', 'elsewhere', 'neither', 'been', '‘ve', 'would', 'whereupon', 'bottom', 'may', 'again', 'formerly', 'himself', 'its', 'name', 'anything', 'whole', 'everything', '‘m', 'more', 'either', 'give', 'us', 'this', 'amount', 'over', 'have', 'call', 'several', 'by', 'third', 'seeming', 'serious', 'to', 'while', 'even', 'an', 'always', '’re', 'make', 'they', '’ll', 'all', 'also', 'first', 'above', 'because', 'both', 'never', 'after', 'every', 'whatever', 'itself', 'very', 'hereby', 'less', 'when', 'what', 'onto', 'nevertheless', 'own', 'other', 'moreover', 'he', 'whom', 'about', 'hence', 'was', 'thereby', 'further', 'already', 'herself', 'do', 'since', 'before', 'most', 'noone', 'anyway', 'done', 'who', 'therefore', 'hundred', 'former', 'or', 'between', 'two', 'keep', 'thru', 'go', 'upon', 'off', 'there', 'does', 'unless', 'i', 'get', 'sometimes', 'beforehand', 'up', 'herein', 'eight', 'whereby', 'down', 'whither', 'nine', 'somewhere', 'empty', 'whoever', 'afterwards', 'seem', 'namely', '‘ll', 'alone', 'has', 'we', 'for', 'sometime', 'become']\n"
     ]
    }
   ],
   "source": [
    "print(stopword)"
   ]
  },
  {
   "cell_type": "code",
   "execution_count": 32,
   "id": "f5c52191",
   "metadata": {},
   "outputs": [],
   "source": [
    "#now normalize the frequency\n",
    "for word in word_frequencies.keys():\n",
    "    word_frequencies[word] = word_frequencies[word]/max_frequency"
   ]
  },
  {
   "cell_type": "code",
   "execution_count": 33,
   "id": "cc67f446",
   "metadata": {},
   "outputs": [
    {
     "name": "stdout",
     "output_type": "stream",
     "text": [
      "{'thousands': 0.125, 'stocks': 0.9375, 'bonds': 0.6875, 'mutual': 0.3125, 'funds': 0.3125, 'choose': 0.125, 'picking': 0.25, 'right': 0.3125, 'investments': 0.375, 'confuse': 0.125, 'seasoned': 0.125, 'investor': 0.1875, 'correctly': 0.125, 'undermine': 0.125, 'ability': 0.1875, 'build': 0.1875, 'wealth': 0.125, 'nest': 0.125, 'egg': 0.125, 'retirement': 0.3125, 'best': 0.25, 'thing': 0.125, 'Instead': 0.125, 'stock': 0.25, 'start': 0.125, 'deciding': 0.125, 'mix': 0.25, 'want': 0.25, 'hold': 0.125, 'referred': 0.125, 'asset': 1.0, 'allocation': 0.9375, 'article': 0.1875, 'look': 0.125, 'important': 0.375, 'things': 0.1875, 'need': 0.25, 'know': 0.125, 'technique': 0.1875, '\\n\\n': 0.8125, 'KEY': 0.125, 'TAKEAWAYS': 0.125, 'Asset': 0.25, 'tries': 0.0625, 'balance': 0.1875, 'risk': 0.5625, 'dividing': 0.125, 'assets': 0.5, 'investment': 0.25, 'vehicles': 0.0625, 'return': 0.5, 'tradeoff': 0.125, 'core': 0.125, 'faith': 0.0625, 'financial': 0.5, 'planning': 0.125, 'software': 0.1875, 'survey': 0.125, 'sheets': 0.1875, 'Know': 0.125, 'goals': 0.25, 'Time': 0.125, 'allows': 0.125, 'advantage': 0.125, 'compounding': 0.125, 'time': 0.4375, 'value': 0.1875, 'money': 0.25, 'Allocation': 0.0625, 'portfolio': 0.25, 'aims': 0.0625, 'major': 0.125, 'categories': 0.0625, 'cash': 0.1875, 'real': 0.125, 'estate': 0.125, 'derivatives': 0.0625, 'class': 0.25, 'different': 0.0625, 'levels': 0.0625, 'behave': 0.0625, 'differently': 0.0625, '\\n\\n\\n': 0.4375, 'instance': 0.0625, 'category': 0.0625, 'increases': 0.0625, 'decrease': 0.0625, 'increase': 0.0625, 'critics': 0.0625, 'recipe': 0.0625, 'mediocre': 0.0625, 'returns': 0.125, 'investors': 0.375, 'protection': 0.0625, 'loss': 0.0625, 'amiss': 0.0625, 'sub': 0.0625, 'consensus': 0.0625, 'professionals': 0.125, 'decisions': 0.125, 'words': 0.125, 'selection': 0.0625, 'secondary': 0.0625, 'way': 0.0625, 'allocate': 0.1875, 'high': 0.0625, 'low': 0.0625, 'short': 0.1875, 'long': 0.3125, 'term': 0.375, '\\n\\n\\n ': 0.0625, 'believe': 0.0625, 'simple': 0.125, 'formula': 0.0625, 'find': 0.125, 'individual': 0.125, 'certainly': 0.0625, 'able': 0.0625, 'explain': 0.0625, 'outline': 0.0625, 'points': 0.0625, 'feel': 0.0625, 'thinking': 0.0625, '1': 0.0625, 'Risk': 0.0625, 'vs.': 0.0625, 'Return': 0.0625, 'easy': 0.125, 'highest': 0.1875, 'possible': 0.0625, 'simply': 0.125, 'choosing': 0.0625, 'potentialâ€”stocks': 0.0625, \"derivativesâ€”isn't\": 0.0625, 'answer': 0.0625, 'crashes': 0.0625, '1929': 0.0625, '1981': 0.0625, '1987': 0.0625, 'recent': 0.125, 'declines': 0.0625, 'following': 0.0625, 'global': 0.0625, 'crisis': 0.0625, '2007': 0.0625, '2009': 0.0625, 'examples': 0.0625, 'times': 0.1875, 'investing': 0.0625, 'potential': 0.0625, 'prudent': 0.0625, 'plan': 0.375, 'action': 0.0625, 'face': 0.125, 'truth': 0.0625, 'year': 0.0625, 'going': 0.0625, 'beaten': 0.0625, 'fund': 0.1875, 'pension': 0.0625, 'etc': 0.0625, 'separates': 0.0625, 'greedy': 0.0625, 'hungry': 0.0625, 'successful': 0.0625, 'ones': 0.0625, 'weigh': 0.0625, 'relationship': 0.0625, 'Yes': 0.0625, 'higher': 0.1875, 'tolerance': 0.0625, 'remain': 0.0625, 'invested': 0.125, 'fluctuations': 0.125, 'bear': 0.0625, 'market': 0.1875, 'cut': 0.0625, 'exposure': 0.0625, 'equities': 0.0625, '2': 0.0625, 'Software': 0.0625, 'Planner': 0.0625, 'Sheets': 0.0625, 'Financial': 0.0625, 'designed': 0.0625, 'advisors': 0.125, 'firms': 0.0625, 'beneficial': 0.0625, 'rely': 0.0625, 'solely': 0.0625, 'pre': 0.0625, 'determined': 0.0625, 'example': 0.125, 'old': 0.0625, 'rule': 0.0625, 'thumb': 0.125, 'use': 0.0625, 'determine': 0.125, 'proportion': 0.125, 'person': 0.125, 'subtract': 0.0625, 'age': 0.125, '100': 0.0625, '35': 0.125, '65': 0.0625, 'remaining': 0.0625, 'advice': 0.0625, 'shifted': 0.0625, '110': 0.0625, '120': 0.0625, 'minus': 0.0625, 'standard': 0.125, 'worksheets': 0.125, 'account': 0.0625, 'information': 0.0625, 'parent': 0.0625, 'retiree': 0.0625, 'spouse': 0.0625, 'based': 0.0625, 'set': 0.0625, 'questions': 0.0625, 'capture': 0.0625, 'Remember': 0.0625, 'institutions': 0.0625, 'love': 0.0625, 'peg': 0.0625, 'Rules': 0.0625, 'planner': 0.0625, 'people': 0.0625, 'rough': 0.0625, 'guideline': 0.0625, 'boxed': 0.0625, 'tell': 0.125, '3': 0.0625, 'Goals': 0.0625, 'aspire': 0.0625, 'fat': 0.0625, 'yacht': 0.0625, 'vacation': 0.0625, 'home': 0.0625, 'pay': 0.0625, 'child': 0.125, 'education': 0.0625, 'save': 0.125, 'new': 0.0625, 'car': 0.0625, 'consider': 0.0625, 'considered': 0.0625, 'determining': 0.0625, 'condo': 0.0625, 'beach': 0.0625, '20': 0.0625, 'years': 0.3125, 'worry': 0.125, 'entering': 0.0625, 'college': 0.0625, 'tilt': 0.0625, 'safer': 0.0625, 'fixed': 0.125, 'income': 0.125, 'approach': 0.0625, 'shift': 0.0625, 'equity': 0.0625, 'holdings': 0.0625, '4': 0.0625, 'Best': 0.0625, 'Friend': 0.0625, 'U.S.': 0.0625, 'Department': 0.0625, 'Labor': 0.0625, 'said': 0.0625, '10': 0.0625, 'delay': 0.0625, 'saving': 0.0625, 'retirementâ€”or': 0.0625, 'goalâ€”you': 0.0625, 'month': 0.0625, 'catch': 0.0625, 'ï': 0.0625, '»': 0.0625, '¿': 0.0625, 'Having': 0.0625, 'means': 0.0625, 'couple': 0.0625, 'bad': 0.0625, 'likely': 0.0625, 'insignificant': 0.0625, 'blip': 0.0625, '30': 0.125, '5': 0.0625, 'implement': 0.0625, 'step': 0.0625, 'current': 0.0625, 'breaks': 0.0625, 'fairly': 0.0625, 'straightforward': 0.0625, 'percentage': 0.0625, 'versus': 0.0625, 'forget': 0.0625, 'categorize': 0.125, 'type': 0.0625, 'ownâ€”small': 0.0625, 'mid': 0.125, 'large': 0.0625, 'cap': 0.0625, 'according': 0.0625, 'maturityâ€”short': 0.0625, 'Mutual': 0.0625, 'problematic': 0.0625, 'Fund': 0.0625, 'names': 0.0625, 'entire': 0.0625, 'story': 0.0625, 'dig': 0.0625, 'deeper': 0.0625, 'prospectus': 0.0625, 'figure': 0.0625, 'Line': 0.0625, 'single': 0.0625, 'solution': 0.0625, 'allocating': 0.0625, 'Individual': 0.0625, 'require': 0.0625, 'solutions': 0.0625, 'Furthermore': 0.0625, 'horizon': 0.0625, 'late': 0.125, 'started': 0.0625, 'existing': 0.0625, 'lift': 0.0625, 'event': 0.0625, 'life': 0.0625, 'process': 0.0625, 'progression': 0.0625, 'fine': 0.0625, 'tuning': 0.0625, 'SPONSORED': 0.0625, 'Win': 0.0625, '10,000': 0.125, 'Trading': 0.0625, 'Digital': 0.125, 'Assets': 0.0625, 'trading': 0.0625, 'got': 0.0625, 'easier': 0.0625, 'OKX': 0.0625, 'leading': 0.0625, 'digital': 0.0625, 'service': 0.0625, 'provider': 0.0625, 'access': 0.0625, 'world': 0.0625, 'security': 0.0625, 'trade': 0.0625, 'store': 0.0625, 'Whatâ€': 0.0625, '™': 0.0625, 's': 0.0625, 'win': 0.0625, 'Mystery': 0.125, 'Box': 0.125, 'worth': 0.0625, 'complete': 0.0625, 'deposit': 0.0625, '50': 0.0625, 'crypto': 0.0625, 'purchase': 0.0625, 'days': 0.0625, 'registration': 0.0625, 'Learn': 0.0625, 'sign': 0.0625, 'claim': 0.0625, 'today': 0.0625, 'hello': 0.0625}\n"
     ]
    }
   ],
   "source": [
    "print(word_frequencies)"
   ]
  },
  {
   "cell_type": "code",
   "execution_count": 34,
   "id": "5ee42425",
   "metadata": {},
   "outputs": [],
   "source": [
    "sentence_tokens = [sent for sent in doc.sents]"
   ]
  },
  {
   "cell_type": "code",
   "execution_count": 35,
   "id": "5207479e",
   "metadata": {},
   "outputs": [
    {
     "name": "stdout",
     "output_type": "stream",
     "text": [
      "[With thousands of stocks, bonds, and mutual funds to choose from, picking the right investments can confuse even the most seasoned investor., But if you don't do it correctly, you can undermine your own ability to build wealth and a nest egg for retirement., So what's the best thing to do?, Instead of stock picking, you should start by deciding what mix of stocks, bonds, and mutual funds you want to hold., This is referred to as your asset allocation., In this article, we take a look at asset allocation, and five of the most important things you need to know about this technique.\n",
      "\n",
      ", KEY TAKEAWAYS\n",
      "Asset allocation tries to balance risk by dividing assets among investment vehicles.\n",
      ", The risk-return tradeoff is at the core of what asset allocation is all about.\n",
      ", Don't put all your faith in financial planning software and survey sheets.\n",
      ", Know your goals.\n",
      ", Time allows you to take advantage of compounding and the time value of money.\n",
      ", What Is Asset Allocation?\n",
      ", Asset allocation is an investment portfolio technique that aims to balance risk by dividing assets among major categories such as cash, bonds, stocks, real estate, and derivatives., Each asset class has different levels of return and risk, so each will behave differently over time.\n",
      "\n",
      "\n",
      ", For instance, while one asset category increases in value, another may decrease or may not increase as much., Some critics see this balance as a recipe for mediocre returns, but for most investors, it's the best protection against a major loss should things ever go amiss in one investment class or sub-class.\n",
      "\n",
      "\n",
      ", The consensus among most financial professionals is that asset allocation is one of the most important decisions investors make., In other words, your selection of stocks or bonds is secondary to the way you allocate your assets to high and low-risk stocks, to short and long-term bonds, and to cash.\n",
      "\n",
      "\n",
      " , Most financial professionals believe that asset allocation is one of the most important decisions investors can make.\n",
      ", There is no simple formula that can find the right asset allocation for every individual., If there were, we certainly wouldn't be able to explain it in one article., We can, however, outline five points that we feel are important when thinking about asset allocation.\n",
      "\n",
      "\n",
      ", 1., Risk vs. Return\n",
      "The risk-return tradeoff is at the core of what asset allocation is all about., It's easy for everyone to say that they want the highest possible return, but simply choosing the assets with the highest potentialâ€”stocks and derivativesâ€”isn't the answer.\n",
      "\n",
      "\n",
      ", The crashes of 1929, 1981, 1987, and the more recent declines following the global financial crisis between 2007 to 2009 are all examples of times when investing in only stocks with the highest potential return was not the most prudent plan of action., It's time to face the truth:, Every year your returns are going to be beaten by another investor, mutual fund, pension plan, etc., What separates greedy and return-hungry investors from successful ones is the ability to weigh the relationship between risk and return.\n",
      "\n",
      "\n",
      ", Yes, investors with a higher risk tolerance should allocate more money into stocks., But if you can't remain invested through the short-term fluctuations of a bear market, you should cut your exposure to equities.\n",
      "\n",
      "\n",
      ", 2. Software and Planner Sheets\n",
      "Financial planning software and survey sheets designed by financial advisors or investment firms can be beneficial, but never rely solely on software or some pre-determined plan., For example, one old rule of thumb that some advisors use to determine the proportion a person should allocate to stocks is to subtract the person's age from 100., In other words, if you're 35, you should put 65% of your money into stocks and the remaining 35% into bonds, real estate, and cash., More recent advice has shifted to 110 or even 120 minus your age.\n",
      "\n",
      "\n",
      ", But standard worksheets sometimes don't take into account other important information such as whether or not you are a parent, retiree, or spouse., Other times, these worksheets are based on a set of simple questions that don't capture your financial goals.\n",
      "\n",
      ", Remember, financial institutions love to peg you into a standard plan not because it's best for you, but because it's easy for them., Rules of thumb and planner sheets can give people a rough guideline, but don't get boxed into what they tell you.\n",
      "\n",
      ", 3. Know Your Goals\n",
      "We all have goals., Whether you aspire to build a fat retirement fund, own a yacht or vacation home, pay for your child's education, or simply save for a new car, you should consider it in your asset-allocation plan., All these goals need to be considered when determining the right mix.\n",
      "\n",
      ", For example, if you plan to own a retirement condo on the beach in 20 years, you don't have to worry about short-term fluctuations in the stock market., But if you have a child who will be entering college in five to six years, you may need to tilt your asset allocation to safer fixed-income investments., And as you approach retirement, you may want to shift to a higher proportion of fixed-income investments to equity holdings.\n",
      "\n",
      ", 4., Time Is Your Best Friend\n",
      "The U.S. Department of Labor has said that for every 10 years you delay saving for retirementâ€”or some other long-term goalâ€”you have to save three times as much each month to catch up.\n",
      "\n",
      ", ï»¿\n",
      "\n",
      "Having time not only allows you to take advantage of compounding and the time value of money, but it also means you can put more of your portfolio into higher risk/return investments, namely stocks., A couple of bad years in the stock market will likely show up as nothing more than an insignificant blip 30 years from now.\n",
      "\n",
      ", 5., Just Do It!\n",
      ", Once you determine the right mix of stocks, bonds, and other investments, it's time to implement it., The first step is to find out how your current portfolio breaks down.\n",
      "\n",
      ", It's fairly straightforward to see the percentage of assets in stocks versus bonds, but don't forget to categorize what type of stocks you ownâ€”small, mid, or large cap., You should also categorize your bonds according to their maturityâ€”short, mid or long-term.\n",
      "\n",
      ", Mutual funds can be more problematic., Fund names don't always tell the entire story., You have to dig deeper in the prospectus to figure out where fund assets are invested.\n",
      "\n",
      ", The Bottom Line\n",
      "There is no single solution for allocating your assets., Individual investors require individual solutions., Furthermore, if a long-term horizon is something you don't have, don't worry., It's never too late to get started., It's also never too late to give your existing portfolio a face-lift., Asset allocation is not a one-time event, it's a life-long process of progression and fine-tuning. \n",
      "\n",
      ", SPONSORED\n",
      "Win Up to $10,000 While Trading Digital Assets\n",
      "Digital asset trading just got easier., With OKX, a leading digital asset financial service provider, you can access world-class security as you trade and store assets., Whatâ€™s more, you can win a Mystery Box worth up to $10,000 when you complete a deposit of more than $50 through a crypto purchase or top-up within 30 days of registration., Learn more and sign up to claim your Mystery Box today.\n",
      ", hello\n",
      "]\n"
     ]
    }
   ],
   "source": [
    "print(sentence_tokens)"
   ]
  },
  {
   "cell_type": "code",
   "execution_count": null,
   "id": "10b5a922",
   "metadata": {},
   "outputs": [],
   "source": []
  }
 ],
 "metadata": {
  "kernelspec": {
   "display_name": "Python 3 (ipykernel)",
   "language": "python",
   "name": "python3"
  },
  "language_info": {
   "codemirror_mode": {
    "name": "ipython",
    "version": 3
   },
   "file_extension": ".py",
   "mimetype": "text/x-python",
   "name": "python",
   "nbconvert_exporter": "python",
   "pygments_lexer": "ipython3",
   "version": "3.9.2"
  },
  "vscode": {
   "interpreter": {
    "hash": "a2855dcd1446957b995c617c7eb571a1440b2353b6f13a4547fcc7eb2a499362"
   }
  }
 },
 "nbformat": 4,
 "nbformat_minor": 5
}
