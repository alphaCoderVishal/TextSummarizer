{
 "cells": [
  {
   "cell_type": "code",
   "execution_count": 1,
   "id": "76b616b1",
   "metadata": {},
   "outputs": [],
   "source": [
    "import spacy\n",
    "from spacy.lang.en.stop_words import STOP_WORDS\n",
    "from string import punctuation"
   ]
  },
  {
   "cell_type": "code",
   "execution_count": 2,
   "id": "b0543c8c",
   "metadata": {},
   "outputs": [],
   "source": [
    "# we will import text from pdf file\n",
    "file = open(\"article.txt\",\"r\")\n"
   ]
  },
  {
   "cell_type": "code",
   "execution_count": 3,
   "id": "3be64538",
   "metadata": {},
   "outputs": [
    {
     "name": "stdout",
     "output_type": "stream",
     "text": [
      "<_io.TextIOWrapper name='article.txt' mode='r' encoding='cp1252'>\n"
     ]
    }
   ],
   "source": [
    "print(file)"
   ]
  },
  {
   "cell_type": "code",
   "execution_count": 4,
   "id": "5488bacd",
   "metadata": {},
   "outputs": [],
   "source": [
    "# for word in text:\n",
    "#     print(word)"
   ]
  },
  {
   "cell_type": "code",
   "execution_count": 5,
   "id": "eb4ec60e",
   "metadata": {},
   "outputs": [],
   "source": [
    "# we need to extract text from the file\n",
    "\n",
    "text = \"\"\n",
    "\n",
    "\n",
    "for line in file:\n",
    "    for word in line:\n",
    "        text += word\n",
    "        \n",
    "        \n",
    "\n"
   ]
  },
  {
   "cell_type": "code",
   "execution_count": 6,
   "id": "772cb2bc",
   "metadata": {},
   "outputs": [
    {
     "name": "stdout",
     "output_type": "stream",
     "text": [
      "With thousands of stocks, bonds, and mutual funds to choose from, picking the right investments can confuse even the most seasoned investor. But if you don't do it correctly, you can undermine your own ability to build wealth and a nest egg for retirement. So what's the best thing to do? Instead of stock picking, you should start by deciding what mix of stocks, bonds, and mutual funds you want to hold. This is referred to as your asset allocation. In this article, we take a look at asset allocation, and five of the most important things you need to know about this technique.\n",
      "\n",
      "KEY TAKEAWAYS\n",
      "Asset allocation tries to balance risk by dividing assets among investment vehicles.\n",
      "The risk-return tradeoff is at the core of what asset allocation is all about.\n",
      "Don't put all your faith in financial planning software and survey sheets.\n",
      "Know your goals.\n",
      "Time allows you to take advantage of compounding and the time value of money.\n",
      "What Is Asset Allocation?\n",
      "Asset allocation is an investment portfolio technique that aims to balance risk by dividing assets among major categories such as cash, bonds, stocks, real estate, and derivatives. Each asset class has different levels of return and risk, so each will behave differently over time.\n",
      "\n",
      "\n",
      "For instance, while one asset category increases in value, another may decrease or may not increase as much. Some critics see this balance as a recipe for mediocre returns, but for most investors, it's the best protection against a major loss should things ever go amiss in one investment class or sub-class.\n",
      "\n",
      "\n",
      "The consensus among most financial professionals is that asset allocation is one of the most important decisions investors make. In other words, your selection of stocks or bonds is secondary to the way you allocate your assets to high and low-risk stocks, to short and long-term bonds, and to cash.\n",
      "\n",
      "\n",
      " Most financial professionals believe that asset allocation is one of the most important decisions investors can make.\n",
      "There is no simple formula that can find the right asset allocation for every individual. If there were, we certainly wouldn't be able to explain it in one article. We can, however, outline five points that we feel are important when thinking about asset allocation.\n",
      "\n",
      "\n",
      "1. Risk vs. Return\n",
      "The risk-return tradeoff is at the core of what asset allocation is all about. It's easy for everyone to say that they want the highest possible return, but simply choosing the assets with the highest potentialâ€”stocks and derivativesâ€”isn't the answer.\n",
      "\n",
      "\n",
      "The crashes of 1929, 1981, 1987, and the more recent declines following the global financial crisis between 2007 to 2009 are all examples of times when investing in only stocks with the highest potential return was not the most prudent plan of action. It's time to face the truth: Every year your returns are going to be beaten by another investor, mutual fund, pension plan, etc. What separates greedy and return-hungry investors from successful ones is the ability to weigh the relationship between risk and return.\n",
      "\n",
      "\n",
      "Yes, investors with a higher risk tolerance should allocate more money into stocks. But if you can't remain invested through the short-term fluctuations of a bear market, you should cut your exposure to equities.\n",
      "\n",
      "\n",
      "2. Software and Planner Sheets\n",
      "Financial planning software and survey sheets designed by financial advisors or investment firms can be beneficial, but never rely solely on software or some pre-determined plan. For example, one old rule of thumb that some advisors use to determine the proportion a person should allocate to stocks is to subtract the person's age from 100. In other words, if you're 35, you should put 65% of your money into stocks and the remaining 35% into bonds, real estate, and cash. More recent advice has shifted to 110 or even 120 minus your age.\n",
      "\n",
      "\n",
      "But standard worksheets sometimes don't take into account other important information such as whether or not you are a parent, retiree, or spouse. Other times, these worksheets are based on a set of simple questions that don't capture your financial goals.\n",
      "\n",
      "Remember, financial institutions love to peg you into a standard plan not because it's best for you, but because it's easy for them. Rules of thumb and planner sheets can give people a rough guideline, but don't get boxed into what they tell you.\n",
      "\n",
      "3. Know Your Goals\n",
      "We all have goals. Whether you aspire to build a fat retirement fund, own a yacht or vacation home, pay for your child's education, or simply save for a new car, you should consider it in your asset-allocation plan. All these goals need to be considered when determining the right mix.\n",
      "\n",
      "For example, if you plan to own a retirement condo on the beach in 20 years, you don't have to worry about short-term fluctuations in the stock market. But if you have a child who will be entering college in five to six years, you may need to tilt your asset allocation to safer fixed-income investments. And as you approach retirement, you may want to shift to a higher proportion of fixed-income investments to equity holdings.\n",
      "\n",
      "4. Time Is Your Best Friend\n",
      "The U.S. Department of Labor has said that for every 10 years you delay saving for retirementâ€”or some other long-term goalâ€”you have to save three times as much each month to catch up.\n",
      "\n",
      "ï»¿\n",
      "\n",
      "Having time not only allows you to take advantage of compounding and the time value of money, but it also means you can put more of your portfolio into higher risk/return investments, namely stocks. A couple of bad years in the stock market will likely show up as nothing more than an insignificant blip 30 years from now.\n",
      "\n",
      "5. Just Do It!\n",
      "Once you determine the right mix of stocks, bonds, and other investments, it's time to implement it. The first step is to find out how your current portfolio breaks down.\n",
      "\n",
      "It's fairly straightforward to see the percentage of assets in stocks versus bonds, but don't forget to categorize what type of stocks you ownâ€”small, mid, or large cap. You should also categorize your bonds according to their maturityâ€”short, mid or long-term.\n",
      "\n",
      "Mutual funds can be more problematic. Fund names don't always tell the entire story. You have to dig deeper in the prospectus to figure out where fund assets are invested.\n",
      "\n",
      "The Bottom Line\n",
      "There is no single solution for allocating your assets. Individual investors require individual solutions. Furthermore, if a long-term horizon is something you don't have, don't worry. It's never too late to get started. It's also never too late to give your existing portfolio a face-lift. Asset allocation is not a one-time event, it's a life-long process of progression and fine-tuning. \n",
      "\n",
      "SPONSORED\n",
      "Win Up to $10,000 While Trading Digital Assets\n",
      "Digital asset trading just got easier. With OKX, a leading digital asset financial service provider, you can access world-class security as you trade and store assets. Whatâ€™s more, you can win a Mystery Box worth up to $10,000 when you complete a deposit of more than $50 through a crypto purchase or top-up within 30 days of registration. Learn more and sign up to claim your Mystery Box today.\n",
      "hello\n",
      "\n"
     ]
    }
   ],
   "source": [
    "print(text)\n",
    "stopword = list(STOP_WORDS)"
   ]
  },
  {
   "cell_type": "code",
   "execution_count": 7,
   "id": "4e81b94c",
   "metadata": {},
   "outputs": [],
   "source": [
    "# Now time to lead the small English model for processing the text\n",
    "nlp = spacy.load(\"en_core_web_sm\")"
   ]
  },
  {
   "cell_type": "code",
   "execution_count": 8,
   "id": "260d064e",
   "metadata": {},
   "outputs": [],
   "source": [
    "doc = nlp(text)"
   ]
  },
  {
   "cell_type": "code",
   "execution_count": 9,
   "id": "32089f64",
   "metadata": {},
   "outputs": [
    {
     "data": {
      "text/plain": [
       "spacy.tokens.doc.Doc"
      ]
     },
     "execution_count": 9,
     "metadata": {},
     "output_type": "execute_result"
    }
   ],
   "source": [
    "type(doc)"
   ]
  },
  {
   "cell_type": "code",
   "execution_count": 10,
   "id": "a7f470e5",
   "metadata": {},
   "outputs": [
    {
     "name": "stdout",
     "output_type": "stream",
     "text": [
      "With thousands of stocks, bonds, and mutual funds to choose from, picking the right investments can confuse even the most seasoned investor. But if you don't do it correctly, you can undermine your own ability to build wealth and a nest egg for retirement. So what's the best thing to do? Instead of stock picking, you should start by deciding what mix of stocks, bonds, and mutual funds you want to hold. This is referred to as your asset allocation. In this article, we take a look at asset allocation, and five of the most important things you need to know about this technique.\n",
      "\n",
      "KEY TAKEAWAYS\n",
      "Asset allocation tries to balance risk by dividing assets among investment vehicles.\n",
      "The risk-return tradeoff is at the core of what asset allocation is all about.\n",
      "Don't put all your faith in financial planning software and survey sheets.\n",
      "Know your goals.\n",
      "Time allows you to take advantage of compounding and the time value of money.\n",
      "What Is Asset Allocation?\n",
      "Asset allocation is an investment portfolio technique that aims to balance risk by dividing assets among major categories such as cash, bonds, stocks, real estate, and derivatives. Each asset class has different levels of return and risk, so each will behave differently over time.\n",
      "\n",
      "\n",
      "For instance, while one asset category increases in value, another may decrease or may not increase as much. Some critics see this balance as a recipe for mediocre returns, but for most investors, it's the best protection against a major loss should things ever go amiss in one investment class or sub-class.\n",
      "\n",
      "\n",
      "The consensus among most financial professionals is that asset allocation is one of the most important decisions investors make. In other words, your selection of stocks or bonds is secondary to the way you allocate your assets to high and low-risk stocks, to short and long-term bonds, and to cash.\n",
      "\n",
      "\n",
      " Most financial professionals believe that asset allocation is one of the most important decisions investors can make.\n",
      "There is no simple formula that can find the right asset allocation for every individual. If there were, we certainly wouldn't be able to explain it in one article. We can, however, outline five points that we feel are important when thinking about asset allocation.\n",
      "\n",
      "\n",
      "1. Risk vs. Return\n",
      "The risk-return tradeoff is at the core of what asset allocation is all about. It's easy for everyone to say that they want the highest possible return, but simply choosing the assets with the highest potentialâ€”stocks and derivativesâ€”isn't the answer.\n",
      "\n",
      "\n",
      "The crashes of 1929, 1981, 1987, and the more recent declines following the global financial crisis between 2007 to 2009 are all examples of times when investing in only stocks with the highest potential return was not the most prudent plan of action. It's time to face the truth: Every year your returns are going to be beaten by another investor, mutual fund, pension plan, etc. What separates greedy and return-hungry investors from successful ones is the ability to weigh the relationship between risk and return.\n",
      "\n",
      "\n",
      "Yes, investors with a higher risk tolerance should allocate more money into stocks. But if you can't remain invested through the short-term fluctuations of a bear market, you should cut your exposure to equities.\n",
      "\n",
      "\n",
      "2. Software and Planner Sheets\n",
      "Financial planning software and survey sheets designed by financial advisors or investment firms can be beneficial, but never rely solely on software or some pre-determined plan. For example, one old rule of thumb that some advisors use to determine the proportion a person should allocate to stocks is to subtract the person's age from 100. In other words, if you're 35, you should put 65% of your money into stocks and the remaining 35% into bonds, real estate, and cash. More recent advice has shifted to 110 or even 120 minus your age.\n",
      "\n",
      "\n",
      "But standard worksheets sometimes don't take into account other important information such as whether or not you are a parent, retiree, or spouse. Other times, these worksheets are based on a set of simple questions that don't capture your financial goals.\n",
      "\n",
      "Remember, financial institutions love to peg you into a standard plan not because it's best for you, but because it's easy for them. Rules of thumb and planner sheets can give people a rough guideline, but don't get boxed into what they tell you.\n",
      "\n",
      "3. Know Your Goals\n",
      "We all have goals. Whether you aspire to build a fat retirement fund, own a yacht or vacation home, pay for your child's education, or simply save for a new car, you should consider it in your asset-allocation plan. All these goals need to be considered when determining the right mix.\n",
      "\n",
      "For example, if you plan to own a retirement condo on the beach in 20 years, you don't have to worry about short-term fluctuations in the stock market. But if you have a child who will be entering college in five to six years, you may need to tilt your asset allocation to safer fixed-income investments. And as you approach retirement, you may want to shift to a higher proportion of fixed-income investments to equity holdings.\n",
      "\n",
      "4. Time Is Your Best Friend\n",
      "The U.S. Department of Labor has said that for every 10 years you delay saving for retirementâ€”or some other long-term goalâ€”you have to save three times as much each month to catch up.\n",
      "\n",
      "ï»¿\n",
      "\n",
      "Having time not only allows you to take advantage of compounding and the time value of money, but it also means you can put more of your portfolio into higher risk/return investments, namely stocks. A couple of bad years in the stock market will likely show up as nothing more than an insignificant blip 30 years from now.\n",
      "\n",
      "5. Just Do It!\n",
      "Once you determine the right mix of stocks, bonds, and other investments, it's time to implement it. The first step is to find out how your current portfolio breaks down.\n",
      "\n",
      "It's fairly straightforward to see the percentage of assets in stocks versus bonds, but don't forget to categorize what type of stocks you ownâ€”small, mid, or large cap. You should also categorize your bonds according to their maturityâ€”short, mid or long-term.\n",
      "\n",
      "Mutual funds can be more problematic. Fund names don't always tell the entire story. You have to dig deeper in the prospectus to figure out where fund assets are invested.\n",
      "\n",
      "The Bottom Line\n",
      "There is no single solution for allocating your assets. Individual investors require individual solutions. Furthermore, if a long-term horizon is something you don't have, don't worry. It's never too late to get started. It's also never too late to give your existing portfolio a face-lift. Asset allocation is not a one-time event, it's a life-long process of progression and fine-tuning. \n",
      "\n",
      "SPONSORED\n",
      "Win Up to $10,000 While Trading Digital Assets\n",
      "Digital asset trading just got easier. With OKX, a leading digital asset financial service provider, you can access world-class security as you trade and store assets. Whatâ€™s more, you can win a Mystery Box worth up to $10,000 when you complete a deposit of more than $50 through a crypto purchase or top-up within 30 days of registration. Learn more and sign up to claim your Mystery Box today.\n",
      "hello\n",
      "\n"
     ]
    }
   ],
   "source": [
    "print(doc)"
   ]
  },
  {
   "cell_type": "code",
   "execution_count": 11,
   "id": "66e72f97",
   "metadata": {},
   "outputs": [],
   "source": [
    "# In spaCy, a Doc object is a container for a sequence of tokens,\n",
    "# where each token is represented by a Token object.\n",
    "# The Token object has various attributes and methods that allow you\n",
    "# to access information about the token, such as its text, its lemma, its part-of-speech tag, etc.\n",
    "\n",
    "# The text attribute is one of the attributes of a Token object and represents the original string representation of the token as it appeared in the text. For example, if the original text was \"Hello, world!\", the tokens would be \"Hello,\" and \"world!\" and their text attribute would be \"Hello,\" and \"world!\", respectively.\n",
    "\n",
    "# By accessing the text attribute of each token in a spaCy document, you can extract the text of each token and store it in a list or process it further."
   ]
  },
  {
   "cell_type": "code",
   "execution_count": 12,
   "id": "41f4ca01",
   "metadata": {},
   "outputs": [],
   "source": [
    "tokens = [token.text for token in doc]"
   ]
  },
  {
   "cell_type": "code",
   "execution_count": 13,
   "id": "b02e441c",
   "metadata": {},
   "outputs": [
    {
     "name": "stdout",
     "output_type": "stream",
     "text": [
      "['With', 'thousands', 'of', 'stocks', ',', 'bonds', ',', 'and', 'mutual', 'funds', 'to', 'choose', 'from', ',', 'picking', 'the', 'right', 'investments', 'can', 'confuse', 'even', 'the', 'most', 'seasoned', 'investor', '.', 'But', 'if', 'you', 'do', \"n't\", 'do', 'it', 'correctly', ',', 'you', 'can', 'undermine', 'your', 'own', 'ability', 'to', 'build', 'wealth', 'and', 'a', 'nest', 'egg', 'for', 'retirement', '.', 'So', 'what', \"'s\", 'the', 'best', 'thing', 'to', 'do', '?', 'Instead', 'of', 'stock', 'picking', ',', 'you', 'should', 'start', 'by', 'deciding', 'what', 'mix', 'of', 'stocks', ',', 'bonds', ',', 'and', 'mutual', 'funds', 'you', 'want', 'to', 'hold', '.', 'This', 'is', 'referred', 'to', 'as', 'your', 'asset', 'allocation', '.', 'In', 'this', 'article', ',', 'we', 'take', 'a', 'look', 'at', 'asset', 'allocation', ',', 'and', 'five', 'of', 'the', 'most', 'important', 'things', 'you', 'need', 'to', 'know', 'about', 'this', 'technique', '.', '\\n\\n', 'KEY', 'TAKEAWAYS', '\\n', 'Asset', 'allocation', 'tries', 'to', 'balance', 'risk', 'by', 'dividing', 'assets', 'among', 'investment', 'vehicles', '.', '\\n', 'The', 'risk', '-', 'return', 'tradeoff', 'is', 'at', 'the', 'core', 'of', 'what', 'asset', 'allocation', 'is', 'all', 'about', '.', '\\n', 'Do', \"n't\", 'put', 'all', 'your', 'faith', 'in', 'financial', 'planning', 'software', 'and', 'survey', 'sheets', '.', '\\n', 'Know', 'your', 'goals', '.', '\\n', 'Time', 'allows', 'you', 'to', 'take', 'advantage', 'of', 'compounding', 'and', 'the', 'time', 'value', 'of', 'money', '.', '\\n', 'What', 'Is', 'Asset', 'Allocation', '?', '\\n', 'Asset', 'allocation', 'is', 'an', 'investment', 'portfolio', 'technique', 'that', 'aims', 'to', 'balance', 'risk', 'by', 'dividing', 'assets', 'among', 'major', 'categories', 'such', 'as', 'cash', ',', 'bonds', ',', 'stocks', ',', 'real', 'estate', ',', 'and', 'derivatives', '.', 'Each', 'asset', 'class', 'has', 'different', 'levels', 'of', 'return', 'and', 'risk', ',', 'so', 'each', 'will', 'behave', 'differently', 'over', 'time', '.', '\\n\\n\\n', 'For', 'instance', ',', 'while', 'one', 'asset', 'category', 'increases', 'in', 'value', ',', 'another', 'may', 'decrease', 'or', 'may', 'not', 'increase', 'as', 'much', '.', 'Some', 'critics', 'see', 'this', 'balance', 'as', 'a', 'recipe', 'for', 'mediocre', 'returns', ',', 'but', 'for', 'most', 'investors', ',', 'it', \"'s\", 'the', 'best', 'protection', 'against', 'a', 'major', 'loss', 'should', 'things', 'ever', 'go', 'amiss', 'in', 'one', 'investment', 'class', 'or', 'sub', '-', 'class', '.', '\\n\\n\\n', 'The', 'consensus', 'among', 'most', 'financial', 'professionals', 'is', 'that', 'asset', 'allocation', 'is', 'one', 'of', 'the', 'most', 'important', 'decisions', 'investors', 'make', '.', 'In', 'other', 'words', ',', 'your', 'selection', 'of', 'stocks', 'or', 'bonds', 'is', 'secondary', 'to', 'the', 'way', 'you', 'allocate', 'your', 'assets', 'to', 'high', 'and', 'low', '-', 'risk', 'stocks', ',', 'to', 'short', 'and', 'long', '-', 'term', 'bonds', ',', 'and', 'to', 'cash', '.', '\\n\\n\\n ', 'Most', 'financial', 'professionals', 'believe', 'that', 'asset', 'allocation', 'is', 'one', 'of', 'the', 'most', 'important', 'decisions', 'investors', 'can', 'make', '.', '\\n', 'There', 'is', 'no', 'simple', 'formula', 'that', 'can', 'find', 'the', 'right', 'asset', 'allocation', 'for', 'every', 'individual', '.', 'If', 'there', 'were', ',', 'we', 'certainly', 'would', \"n't\", 'be', 'able', 'to', 'explain', 'it', 'in', 'one', 'article', '.', 'We', 'can', ',', 'however', ',', 'outline', 'five', 'points', 'that', 'we', 'feel', 'are', 'important', 'when', 'thinking', 'about', 'asset', 'allocation', '.', '\\n\\n\\n', '1', '.', 'Risk', 'vs.', 'Return', '\\n', 'The', 'risk', '-', 'return', 'tradeoff', 'is', 'at', 'the', 'core', 'of', 'what', 'asset', 'allocation', 'is', 'all', 'about', '.', 'It', \"'s\", 'easy', 'for', 'everyone', 'to', 'say', 'that', 'they', 'want', 'the', 'highest', 'possible', 'return', ',', 'but', 'simply', 'choosing', 'the', 'assets', 'with', 'the', 'highest', 'potentialâ€”stocks', 'and', \"derivativesâ€”isn't\", 'the', 'answer', '.', '\\n\\n\\n', 'The', 'crashes', 'of', '1929', ',', '1981', ',', '1987', ',', 'and', 'the', 'more', 'recent', 'declines', 'following', 'the', 'global', 'financial', 'crisis', 'between', '2007', 'to', '2009', 'are', 'all', 'examples', 'of', 'times', 'when', 'investing', 'in', 'only', 'stocks', 'with', 'the', 'highest', 'potential', 'return', 'was', 'not', 'the', 'most', 'prudent', 'plan', 'of', 'action', '.', 'It', \"'s\", 'time', 'to', 'face', 'the', 'truth', ':', 'Every', 'year', 'your', 'returns', 'are', 'going', 'to', 'be', 'beaten', 'by', 'another', 'investor', ',', 'mutual', 'fund', ',', 'pension', 'plan', ',', 'etc', '.', 'What', 'separates', 'greedy', 'and', 'return', '-', 'hungry', 'investors', 'from', 'successful', 'ones', 'is', 'the', 'ability', 'to', 'weigh', 'the', 'relationship', 'between', 'risk', 'and', 'return', '.', '\\n\\n\\n', 'Yes', ',', 'investors', 'with', 'a', 'higher', 'risk', 'tolerance', 'should', 'allocate', 'more', 'money', 'into', 'stocks', '.', 'But', 'if', 'you', 'ca', \"n't\", 'remain', 'invested', 'through', 'the', 'short', '-', 'term', 'fluctuations', 'of', 'a', 'bear', 'market', ',', 'you', 'should', 'cut', 'your', 'exposure', 'to', 'equities', '.', '\\n\\n\\n', '2', '.', 'Software', 'and', 'Planner', 'Sheets', '\\n', 'Financial', 'planning', 'software', 'and', 'survey', 'sheets', 'designed', 'by', 'financial', 'advisors', 'or', 'investment', 'firms', 'can', 'be', 'beneficial', ',', 'but', 'never', 'rely', 'solely', 'on', 'software', 'or', 'some', 'pre', '-', 'determined', 'plan', '.', 'For', 'example', ',', 'one', 'old', 'rule', 'of', 'thumb', 'that', 'some', 'advisors', 'use', 'to', 'determine', 'the', 'proportion', 'a', 'person', 'should', 'allocate', 'to', 'stocks', 'is', 'to', 'subtract', 'the', 'person', \"'s\", 'age', 'from', '100', '.', 'In', 'other', 'words', ',', 'if', 'you', \"'re\", '35', ',', 'you', 'should', 'put', '65', '%', 'of', 'your', 'money', 'into', 'stocks', 'and', 'the', 'remaining', '35', '%', 'into', 'bonds', ',', 'real', 'estate', ',', 'and', 'cash', '.', 'More', 'recent', 'advice', 'has', 'shifted', 'to', '110', 'or', 'even', '120', 'minus', 'your', 'age', '.', '\\n\\n\\n', 'But', 'standard', 'worksheets', 'sometimes', 'do', \"n't\", 'take', 'into', 'account', 'other', 'important', 'information', 'such', 'as', 'whether', 'or', 'not', 'you', 'are', 'a', 'parent', ',', 'retiree', ',', 'or', 'spouse', '.', 'Other', 'times', ',', 'these', 'worksheets', 'are', 'based', 'on', 'a', 'set', 'of', 'simple', 'questions', 'that', 'do', \"n't\", 'capture', 'your', 'financial', 'goals', '.', '\\n\\n', 'Remember', ',', 'financial', 'institutions', 'love', 'to', 'peg', 'you', 'into', 'a', 'standard', 'plan', 'not', 'because', 'it', \"'s\", 'best', 'for', 'you', ',', 'but', 'because', 'it', \"'s\", 'easy', 'for', 'them', '.', 'Rules', 'of', 'thumb', 'and', 'planner', 'sheets', 'can', 'give', 'people', 'a', 'rough', 'guideline', ',', 'but', 'do', \"n't\", 'get', 'boxed', 'into', 'what', 'they', 'tell', 'you', '.', '\\n\\n', '3', '.', 'Know', 'Your', 'Goals', '\\n', 'We', 'all', 'have', 'goals', '.', 'Whether', 'you', 'aspire', 'to', 'build', 'a', 'fat', 'retirement', 'fund', ',', 'own', 'a', 'yacht', 'or', 'vacation', 'home', ',', 'pay', 'for', 'your', 'child', \"'s\", 'education', ',', 'or', 'simply', 'save', 'for', 'a', 'new', 'car', ',', 'you', 'should', 'consider', 'it', 'in', 'your', 'asset', '-', 'allocation', 'plan', '.', 'All', 'these', 'goals', 'need', 'to', 'be', 'considered', 'when', 'determining', 'the', 'right', 'mix', '.', '\\n\\n', 'For', 'example', ',', 'if', 'you', 'plan', 'to', 'own', 'a', 'retirement', 'condo', 'on', 'the', 'beach', 'in', '20', 'years', ',', 'you', 'do', \"n't\", 'have', 'to', 'worry', 'about', 'short', '-', 'term', 'fluctuations', 'in', 'the', 'stock', 'market', '.', 'But', 'if', 'you', 'have', 'a', 'child', 'who', 'will', 'be', 'entering', 'college', 'in', 'five', 'to', 'six', 'years', ',', 'you', 'may', 'need', 'to', 'tilt', 'your', 'asset', 'allocation', 'to', 'safer', 'fixed', '-', 'income', 'investments', '.', 'And', 'as', 'you', 'approach', 'retirement', ',', 'you', 'may', 'want', 'to', 'shift', 'to', 'a', 'higher', 'proportion', 'of', 'fixed', '-', 'income', 'investments', 'to', 'equity', 'holdings', '.', '\\n\\n', '4', '.', 'Time', 'Is', 'Your', 'Best', 'Friend', '\\n', 'The', 'U.S.', 'Department', 'of', 'Labor', 'has', 'said', 'that', 'for', 'every', '10', 'years', 'you', 'delay', 'saving', 'for', 'retirementâ€”or', 'some', 'other', 'long', '-', 'term', 'goalâ€”you', 'have', 'to', 'save', 'three', 'times', 'as', 'much', 'each', 'month', 'to', 'catch', 'up', '.', '\\n\\n', 'ï', '»', '¿', '\\n\\n', 'Having', 'time', 'not', 'only', 'allows', 'you', 'to', 'take', 'advantage', 'of', 'compounding', 'and', 'the', 'time', 'value', 'of', 'money', ',', 'but', 'it', 'also', 'means', 'you', 'can', 'put', 'more', 'of', 'your', 'portfolio', 'into', 'higher', 'risk', '/', 'return', 'investments', ',', 'namely', 'stocks', '.', 'A', 'couple', 'of', 'bad', 'years', 'in', 'the', 'stock', 'market', 'will', 'likely', 'show', 'up', 'as', 'nothing', 'more', 'than', 'an', 'insignificant', 'blip', '30', 'years', 'from', 'now', '.', '\\n\\n', '5', '.', 'Just', 'Do', 'It', '!', '\\n', 'Once', 'you', 'determine', 'the', 'right', 'mix', 'of', 'stocks', ',', 'bonds', ',', 'and', 'other', 'investments', ',', 'it', \"'s\", 'time', 'to', 'implement', 'it', '.', 'The', 'first', 'step', 'is', 'to', 'find', 'out', 'how', 'your', 'current', 'portfolio', 'breaks', 'down', '.', '\\n\\n', 'It', \"'s\", 'fairly', 'straightforward', 'to', 'see', 'the', 'percentage', 'of', 'assets', 'in', 'stocks', 'versus', 'bonds', ',', 'but', 'do', \"n't\", 'forget', 'to', 'categorize', 'what', 'type', 'of', 'stocks', 'you', 'ownâ€”small', ',', 'mid', ',', 'or', 'large', 'cap', '.', 'You', 'should', 'also', 'categorize', 'your', 'bonds', 'according', 'to', 'their', 'maturityâ€”short', ',', 'mid', 'or', 'long', '-', 'term', '.', '\\n\\n', 'Mutual', 'funds', 'can', 'be', 'more', 'problematic', '.', 'Fund', 'names', 'do', \"n't\", 'always', 'tell', 'the', 'entire', 'story', '.', 'You', 'have', 'to', 'dig', 'deeper', 'in', 'the', 'prospectus', 'to', 'figure', 'out', 'where', 'fund', 'assets', 'are', 'invested', '.', '\\n\\n', 'The', 'Bottom', 'Line', '\\n', 'There', 'is', 'no', 'single', 'solution', 'for', 'allocating', 'your', 'assets', '.', 'Individual', 'investors', 'require', 'individual', 'solutions', '.', 'Furthermore', ',', 'if', 'a', 'long', '-', 'term', 'horizon', 'is', 'something', 'you', 'do', \"n't\", 'have', ',', 'do', \"n't\", 'worry', '.', 'It', \"'s\", 'never', 'too', 'late', 'to', 'get', 'started', '.', 'It', \"'s\", 'also', 'never', 'too', 'late', 'to', 'give', 'your', 'existing', 'portfolio', 'a', 'face', '-', 'lift', '.', 'Asset', 'allocation', 'is', 'not', 'a', 'one', '-', 'time', 'event', ',', 'it', \"'s\", 'a', 'life', '-', 'long', 'process', 'of', 'progression', 'and', 'fine', '-', 'tuning', '.', '\\n\\n', 'SPONSORED', '\\n', 'Win', 'Up', 'to', '$', '10,000', 'While', 'Trading', 'Digital', 'Assets', '\\n', 'Digital', 'asset', 'trading', 'just', 'got', 'easier', '.', 'With', 'OKX', ',', 'a', 'leading', 'digital', 'asset', 'financial', 'service', 'provider', ',', 'you', 'can', 'access', 'world', '-', 'class', 'security', 'as', 'you', 'trade', 'and', 'store', 'assets', '.', 'Whatâ€', '™', 's', 'more', ',', 'you', 'can', 'win', 'a', 'Mystery', 'Box', 'worth', 'up', 'to', '$', '10,000', 'when', 'you', 'complete', 'a', 'deposit', 'of', 'more', 'than', '$', '50', 'through', 'a', 'crypto', 'purchase', 'or', 'top', '-', 'up', 'within', '30', 'days', 'of', 'registration', '.', 'Learn', 'more', 'and', 'sign', 'up', 'to', 'claim', 'your', 'Mystery', 'Box', 'today', '.', '\\n', 'hello', '\\n']\n"
     ]
    }
   ],
   "source": [
    "print(tokens)"
   ]
  },
  {
   "cell_type": "code",
   "execution_count": 14,
   "id": "25530357",
   "metadata": {},
   "outputs": [
    {
     "data": {
      "text/plain": [
       "'!\"#$%&\\'()*+,-./:;<=>?@[\\\\]^_`{|}~'"
      ]
     },
     "execution_count": 14,
     "metadata": {},
     "output_type": "execute_result"
    }
   ],
   "source": [
    "# See the token in not clean \n",
    "# it contains punctions and end of line etc\n",
    "punctuation"
   ]
  },
  {
   "cell_type": "code",
   "execution_count": 15,
   "id": "baf13496",
   "metadata": {},
   "outputs": [],
   "source": [
    "# clearly no end of line is included here \n",
    "# so here let's include include it\n",
    "punctuation += '\\n'"
   ]
  },
  {
   "cell_type": "code",
   "execution_count": 16,
   "id": "61b79fa0",
   "metadata": {},
   "outputs": [],
   "source": [
    "tokens = [token for token in tokens if token not in punctuation]"
   ]
  },
  {
   "cell_type": "code",
   "execution_count": 17,
   "id": "77eb4d48",
   "metadata": {},
   "outputs": [
    {
     "name": "stdout",
     "output_type": "stream",
     "text": [
      "['With', 'thousands', 'of', 'stocks', 'bonds', 'and', 'mutual', 'funds', 'to', 'choose', 'from', 'picking', 'the', 'right', 'investments', 'can', 'confuse', 'even', 'the', 'most', 'seasoned', 'investor', 'But', 'if', 'you', 'do', \"n't\", 'do', 'it', 'correctly', 'you', 'can', 'undermine', 'your', 'own', 'ability', 'to', 'build', 'wealth', 'and', 'a', 'nest', 'egg', 'for', 'retirement', 'So', 'what', \"'s\", 'the', 'best', 'thing', 'to', 'do', 'Instead', 'of', 'stock', 'picking', 'you', 'should', 'start', 'by', 'deciding', 'what', 'mix', 'of', 'stocks', 'bonds', 'and', 'mutual', 'funds', 'you', 'want', 'to', 'hold', 'This', 'is', 'referred', 'to', 'as', 'your', 'asset', 'allocation', 'In', 'this', 'article', 'we', 'take', 'a', 'look', 'at', 'asset', 'allocation', 'and', 'five', 'of', 'the', 'most', 'important', 'things', 'you', 'need', 'to', 'know', 'about', 'this', 'technique', '\\n\\n', 'KEY', 'TAKEAWAYS', 'Asset', 'allocation', 'tries', 'to', 'balance', 'risk', 'by', 'dividing', 'assets', 'among', 'investment', 'vehicles', 'The', 'risk', 'return', 'tradeoff', 'is', 'at', 'the', 'core', 'of', 'what', 'asset', 'allocation', 'is', 'all', 'about', 'Do', \"n't\", 'put', 'all', 'your', 'faith', 'in', 'financial', 'planning', 'software', 'and', 'survey', 'sheets', 'Know', 'your', 'goals', 'Time', 'allows', 'you', 'to', 'take', 'advantage', 'of', 'compounding', 'and', 'the', 'time', 'value', 'of', 'money', 'What', 'Is', 'Asset', 'Allocation', 'Asset', 'allocation', 'is', 'an', 'investment', 'portfolio', 'technique', 'that', 'aims', 'to', 'balance', 'risk', 'by', 'dividing', 'assets', 'among', 'major', 'categories', 'such', 'as', 'cash', 'bonds', 'stocks', 'real', 'estate', 'and', 'derivatives', 'Each', 'asset', 'class', 'has', 'different', 'levels', 'of', 'return', 'and', 'risk', 'so', 'each', 'will', 'behave', 'differently', 'over', 'time', '\\n\\n\\n', 'For', 'instance', 'while', 'one', 'asset', 'category', 'increases', 'in', 'value', 'another', 'may', 'decrease', 'or', 'may', 'not', 'increase', 'as', 'much', 'Some', 'critics', 'see', 'this', 'balance', 'as', 'a', 'recipe', 'for', 'mediocre', 'returns', 'but', 'for', 'most', 'investors', 'it', \"'s\", 'the', 'best', 'protection', 'against', 'a', 'major', 'loss', 'should', 'things', 'ever', 'go', 'amiss', 'in', 'one', 'investment', 'class', 'or', 'sub', 'class', '\\n\\n\\n', 'The', 'consensus', 'among', 'most', 'financial', 'professionals', 'is', 'that', 'asset', 'allocation', 'is', 'one', 'of', 'the', 'most', 'important', 'decisions', 'investors', 'make', 'In', 'other', 'words', 'your', 'selection', 'of', 'stocks', 'or', 'bonds', 'is', 'secondary', 'to', 'the', 'way', 'you', 'allocate', 'your', 'assets', 'to', 'high', 'and', 'low', 'risk', 'stocks', 'to', 'short', 'and', 'long', 'term', 'bonds', 'and', 'to', 'cash', '\\n\\n\\n ', 'Most', 'financial', 'professionals', 'believe', 'that', 'asset', 'allocation', 'is', 'one', 'of', 'the', 'most', 'important', 'decisions', 'investors', 'can', 'make', 'There', 'is', 'no', 'simple', 'formula', 'that', 'can', 'find', 'the', 'right', 'asset', 'allocation', 'for', 'every', 'individual', 'If', 'there', 'were', 'we', 'certainly', 'would', \"n't\", 'be', 'able', 'to', 'explain', 'it', 'in', 'one', 'article', 'We', 'can', 'however', 'outline', 'five', 'points', 'that', 'we', 'feel', 'are', 'important', 'when', 'thinking', 'about', 'asset', 'allocation', '\\n\\n\\n', '1', 'Risk', 'vs.', 'Return', 'The', 'risk', 'return', 'tradeoff', 'is', 'at', 'the', 'core', 'of', 'what', 'asset', 'allocation', 'is', 'all', 'about', 'It', \"'s\", 'easy', 'for', 'everyone', 'to', 'say', 'that', 'they', 'want', 'the', 'highest', 'possible', 'return', 'but', 'simply', 'choosing', 'the', 'assets', 'with', 'the', 'highest', 'potentialâ€”stocks', 'and', \"derivativesâ€”isn't\", 'the', 'answer', '\\n\\n\\n', 'The', 'crashes', 'of', '1929', '1981', '1987', 'and', 'the', 'more', 'recent', 'declines', 'following', 'the', 'global', 'financial', 'crisis', 'between', '2007', 'to', '2009', 'are', 'all', 'examples', 'of', 'times', 'when', 'investing', 'in', 'only', 'stocks', 'with', 'the', 'highest', 'potential', 'return', 'was', 'not', 'the', 'most', 'prudent', 'plan', 'of', 'action', 'It', \"'s\", 'time', 'to', 'face', 'the', 'truth', 'Every', 'year', 'your', 'returns', 'are', 'going', 'to', 'be', 'beaten', 'by', 'another', 'investor', 'mutual', 'fund', 'pension', 'plan', 'etc', 'What', 'separates', 'greedy', 'and', 'return', 'hungry', 'investors', 'from', 'successful', 'ones', 'is', 'the', 'ability', 'to', 'weigh', 'the', 'relationship', 'between', 'risk', 'and', 'return', '\\n\\n\\n', 'Yes', 'investors', 'with', 'a', 'higher', 'risk', 'tolerance', 'should', 'allocate', 'more', 'money', 'into', 'stocks', 'But', 'if', 'you', 'ca', \"n't\", 'remain', 'invested', 'through', 'the', 'short', 'term', 'fluctuations', 'of', 'a', 'bear', 'market', 'you', 'should', 'cut', 'your', 'exposure', 'to', 'equities', '\\n\\n\\n', '2', 'Software', 'and', 'Planner', 'Sheets', 'Financial', 'planning', 'software', 'and', 'survey', 'sheets', 'designed', 'by', 'financial', 'advisors', 'or', 'investment', 'firms', 'can', 'be', 'beneficial', 'but', 'never', 'rely', 'solely', 'on', 'software', 'or', 'some', 'pre', 'determined', 'plan', 'For', 'example', 'one', 'old', 'rule', 'of', 'thumb', 'that', 'some', 'advisors', 'use', 'to', 'determine', 'the', 'proportion', 'a', 'person', 'should', 'allocate', 'to', 'stocks', 'is', 'to', 'subtract', 'the', 'person', \"'s\", 'age', 'from', '100', 'In', 'other', 'words', 'if', 'you', \"'re\", '35', 'you', 'should', 'put', '65', 'of', 'your', 'money', 'into', 'stocks', 'and', 'the', 'remaining', '35', 'into', 'bonds', 'real', 'estate', 'and', 'cash', 'More', 'recent', 'advice', 'has', 'shifted', 'to', '110', 'or', 'even', '120', 'minus', 'your', 'age', '\\n\\n\\n', 'But', 'standard', 'worksheets', 'sometimes', 'do', \"n't\", 'take', 'into', 'account', 'other', 'important', 'information', 'such', 'as', 'whether', 'or', 'not', 'you', 'are', 'a', 'parent', 'retiree', 'or', 'spouse', 'Other', 'times', 'these', 'worksheets', 'are', 'based', 'on', 'a', 'set', 'of', 'simple', 'questions', 'that', 'do', \"n't\", 'capture', 'your', 'financial', 'goals', '\\n\\n', 'Remember', 'financial', 'institutions', 'love', 'to', 'peg', 'you', 'into', 'a', 'standard', 'plan', 'not', 'because', 'it', \"'s\", 'best', 'for', 'you', 'but', 'because', 'it', \"'s\", 'easy', 'for', 'them', 'Rules', 'of', 'thumb', 'and', 'planner', 'sheets', 'can', 'give', 'people', 'a', 'rough', 'guideline', 'but', 'do', \"n't\", 'get', 'boxed', 'into', 'what', 'they', 'tell', 'you', '\\n\\n', '3', 'Know', 'Your', 'Goals', 'We', 'all', 'have', 'goals', 'Whether', 'you', 'aspire', 'to', 'build', 'a', 'fat', 'retirement', 'fund', 'own', 'a', 'yacht', 'or', 'vacation', 'home', 'pay', 'for', 'your', 'child', \"'s\", 'education', 'or', 'simply', 'save', 'for', 'a', 'new', 'car', 'you', 'should', 'consider', 'it', 'in', 'your', 'asset', 'allocation', 'plan', 'All', 'these', 'goals', 'need', 'to', 'be', 'considered', 'when', 'determining', 'the', 'right', 'mix', '\\n\\n', 'For', 'example', 'if', 'you', 'plan', 'to', 'own', 'a', 'retirement', 'condo', 'on', 'the', 'beach', 'in', '20', 'years', 'you', 'do', \"n't\", 'have', 'to', 'worry', 'about', 'short', 'term', 'fluctuations', 'in', 'the', 'stock', 'market', 'But', 'if', 'you', 'have', 'a', 'child', 'who', 'will', 'be', 'entering', 'college', 'in', 'five', 'to', 'six', 'years', 'you', 'may', 'need', 'to', 'tilt', 'your', 'asset', 'allocation', 'to', 'safer', 'fixed', 'income', 'investments', 'And', 'as', 'you', 'approach', 'retirement', 'you', 'may', 'want', 'to', 'shift', 'to', 'a', 'higher', 'proportion', 'of', 'fixed', 'income', 'investments', 'to', 'equity', 'holdings', '\\n\\n', '4', 'Time', 'Is', 'Your', 'Best', 'Friend', 'The', 'U.S.', 'Department', 'of', 'Labor', 'has', 'said', 'that', 'for', 'every', '10', 'years', 'you', 'delay', 'saving', 'for', 'retirementâ€”or', 'some', 'other', 'long', 'term', 'goalâ€”you', 'have', 'to', 'save', 'three', 'times', 'as', 'much', 'each', 'month', 'to', 'catch', 'up', '\\n\\n', 'ï', '»', '¿', '\\n\\n', 'Having', 'time', 'not', 'only', 'allows', 'you', 'to', 'take', 'advantage', 'of', 'compounding', 'and', 'the', 'time', 'value', 'of', 'money', 'but', 'it', 'also', 'means', 'you', 'can', 'put', 'more', 'of', 'your', 'portfolio', 'into', 'higher', 'risk', 'return', 'investments', 'namely', 'stocks', 'A', 'couple', 'of', 'bad', 'years', 'in', 'the', 'stock', 'market', 'will', 'likely', 'show', 'up', 'as', 'nothing', 'more', 'than', 'an', 'insignificant', 'blip', '30', 'years', 'from', 'now', '\\n\\n', '5', 'Just', 'Do', 'It', 'Once', 'you', 'determine', 'the', 'right', 'mix', 'of', 'stocks', 'bonds', 'and', 'other', 'investments', 'it', \"'s\", 'time', 'to', 'implement', 'it', 'The', 'first', 'step', 'is', 'to', 'find', 'out', 'how', 'your', 'current', 'portfolio', 'breaks', 'down', '\\n\\n', 'It', \"'s\", 'fairly', 'straightforward', 'to', 'see', 'the', 'percentage', 'of', 'assets', 'in', 'stocks', 'versus', 'bonds', 'but', 'do', \"n't\", 'forget', 'to', 'categorize', 'what', 'type', 'of', 'stocks', 'you', 'ownâ€”small', 'mid', 'or', 'large', 'cap', 'You', 'should', 'also', 'categorize', 'your', 'bonds', 'according', 'to', 'their', 'maturityâ€”short', 'mid', 'or', 'long', 'term', '\\n\\n', 'Mutual', 'funds', 'can', 'be', 'more', 'problematic', 'Fund', 'names', 'do', \"n't\", 'always', 'tell', 'the', 'entire', 'story', 'You', 'have', 'to', 'dig', 'deeper', 'in', 'the', 'prospectus', 'to', 'figure', 'out', 'where', 'fund', 'assets', 'are', 'invested', '\\n\\n', 'The', 'Bottom', 'Line', 'There', 'is', 'no', 'single', 'solution', 'for', 'allocating', 'your', 'assets', 'Individual', 'investors', 'require', 'individual', 'solutions', 'Furthermore', 'if', 'a', 'long', 'term', 'horizon', 'is', 'something', 'you', 'do', \"n't\", 'have', 'do', \"n't\", 'worry', 'It', \"'s\", 'never', 'too', 'late', 'to', 'get', 'started', 'It', \"'s\", 'also', 'never', 'too', 'late', 'to', 'give', 'your', 'existing', 'portfolio', 'a', 'face', 'lift', 'Asset', 'allocation', 'is', 'not', 'a', 'one', 'time', 'event', 'it', \"'s\", 'a', 'life', 'long', 'process', 'of', 'progression', 'and', 'fine', 'tuning', '\\n\\n', 'SPONSORED', 'Win', 'Up', 'to', '10,000', 'While', 'Trading', 'Digital', 'Assets', 'Digital', 'asset', 'trading', 'just', 'got', 'easier', 'With', 'OKX', 'a', 'leading', 'digital', 'asset', 'financial', 'service', 'provider', 'you', 'can', 'access', 'world', 'class', 'security', 'as', 'you', 'trade', 'and', 'store', 'assets', 'Whatâ€', '™', 's', 'more', 'you', 'can', 'win', 'a', 'Mystery', 'Box', 'worth', 'up', 'to', '10,000', 'when', 'you', 'complete', 'a', 'deposit', 'of', 'more', 'than', '50', 'through', 'a', 'crypto', 'purchase', 'or', 'top', 'up', 'within', '30', 'days', 'of', 'registration', 'Learn', 'more', 'and', 'sign', 'up', 'to', 'claim', 'your', 'Mystery', 'Box', 'today', 'hello']\n"
     ]
    }
   ],
   "source": [
    "print(tokens)"
   ]
  },
  {
   "cell_type": "code",
   "execution_count": 18,
   "id": "67187e68",
   "metadata": {},
   "outputs": [],
   "source": [
    "# now our tokens in cleaned\n",
    "# let's calculate the word frequencies\n",
    "word_frequencies = {}"
   ]
  },
  {
   "cell_type": "code",
   "execution_count": 19,
   "id": "66936f05",
   "metadata": {},
   "outputs": [],
   "source": [
    "for word in doc:\n",
    "    if word.text.lower() not in punctuation:\n",
    "        if word.text.lower() not in stopword:\n",
    "            if word.text not in word_frequencies.keys():\n",
    "                word_frequencies[word.text] = 1\n",
    "            else:\n",
    "                word_frequencies[word.text] += 1"
   ]
  },
  {
   "cell_type": "code",
   "execution_count": 20,
   "id": "0b88ac8f",
   "metadata": {},
   "outputs": [
    {
     "name": "stdout",
     "output_type": "stream",
     "text": [
      "{'thousands': 1, 'stocks': 13, 'bonds': 9, 'mutual': 3, 'funds': 3, 'choose': 1, 'picking': 2, 'right': 4, 'investments': 5, 'confuse': 1, 'seasoned': 1, 'investor': 2, 'correctly': 1, 'undermine': 1, 'ability': 2, 'build': 2, 'wealth': 1, 'nest': 1, 'egg': 1, 'retirement': 4, 'best': 3, 'thing': 1, 'Instead': 1, 'stock': 3, 'start': 1, 'deciding': 1, 'mix': 3, 'want': 3, 'hold': 1, 'referred': 1, 'asset': 14, 'allocation': 13, 'article': 2, 'look': 1, 'important': 5, 'things': 2, 'need': 3, 'know': 1, 'technique': 2, '\\n\\n': 12, 'KEY': 1, 'TAKEAWAYS': 1, 'Asset': 4, 'tries': 1, 'balance': 3, 'risk': 9, 'dividing': 2, 'assets': 8, 'investment': 4, 'vehicles': 1, 'return': 8, 'tradeoff': 2, 'core': 2, 'faith': 1, 'financial': 8, 'planning': 2, 'software': 3, 'survey': 2, 'sheets': 3, 'Know': 2, 'goals': 4, 'Time': 2, 'allows': 2, 'advantage': 2, 'compounding': 2, 'time': 7, 'value': 3, 'money': 4, 'Allocation': 1, 'portfolio': 4, 'aims': 1, 'major': 2, 'categories': 1, 'cash': 3, 'real': 2, 'estate': 2, 'derivatives': 1, 'class': 4, 'different': 1, 'levels': 1, 'behave': 1, 'differently': 1, '\\n\\n\\n': 7, 'instance': 1, 'category': 1, 'increases': 1, 'decrease': 1, 'increase': 1, 'critics': 1, 'recipe': 1, 'mediocre': 1, 'returns': 2, 'investors': 6, 'protection': 1, 'loss': 1, 'amiss': 1, 'sub': 1, 'consensus': 1, 'professionals': 2, 'decisions': 2, 'words': 2, 'selection': 1, 'secondary': 1, 'way': 1, 'allocate': 3, 'high': 1, 'low': 1, 'short': 3, 'long': 5, 'term': 6, '\\n\\n\\n ': 1, 'believe': 1, 'simple': 2, 'formula': 1, 'find': 2, 'individual': 2, 'certainly': 1, 'able': 1, 'explain': 1, 'outline': 1, 'points': 1, 'feel': 1, 'thinking': 1, '1': 1, 'Risk': 1, 'vs.': 1, 'Return': 1, 'easy': 2, 'highest': 3, 'possible': 1, 'simply': 2, 'choosing': 1, 'potentialâ€”stocks': 1, \"derivativesâ€”isn't\": 1, 'answer': 1, 'crashes': 1, '1929': 1, '1981': 1, '1987': 1, 'recent': 2, 'declines': 1, 'following': 1, 'global': 1, 'crisis': 1, '2007': 1, '2009': 1, 'examples': 1, 'times': 3, 'investing': 1, 'potential': 1, 'prudent': 1, 'plan': 6, 'action': 1, 'face': 2, 'truth': 1, 'year': 1, 'going': 1, 'beaten': 1, 'fund': 3, 'pension': 1, 'etc': 1, 'separates': 1, 'greedy': 1, 'hungry': 1, 'successful': 1, 'ones': 1, 'weigh': 1, 'relationship': 1, 'Yes': 1, 'higher': 3, 'tolerance': 1, 'remain': 1, 'invested': 2, 'fluctuations': 2, 'bear': 1, 'market': 3, 'cut': 1, 'exposure': 1, 'equities': 1, '2': 1, 'Software': 1, 'Planner': 1, 'Sheets': 1, 'Financial': 1, 'designed': 1, 'advisors': 2, 'firms': 1, 'beneficial': 1, 'rely': 1, 'solely': 1, 'pre': 1, 'determined': 1, 'example': 2, 'old': 1, 'rule': 1, 'thumb': 2, 'use': 1, 'determine': 2, 'proportion': 2, 'person': 2, 'subtract': 1, 'age': 2, '100': 1, '35': 2, '65': 1, 'remaining': 1, 'advice': 1, 'shifted': 1, '110': 1, '120': 1, 'minus': 1, 'standard': 2, 'worksheets': 2, 'account': 1, 'information': 1, 'parent': 1, 'retiree': 1, 'spouse': 1, 'based': 1, 'set': 1, 'questions': 1, 'capture': 1, 'Remember': 1, 'institutions': 1, 'love': 1, 'peg': 1, 'Rules': 1, 'planner': 1, 'people': 1, 'rough': 1, 'guideline': 1, 'boxed': 1, 'tell': 2, '3': 1, 'Goals': 1, 'aspire': 1, 'fat': 1, 'yacht': 1, 'vacation': 1, 'home': 1, 'pay': 1, 'child': 2, 'education': 1, 'save': 2, 'new': 1, 'car': 1, 'consider': 1, 'considered': 1, 'determining': 1, 'condo': 1, 'beach': 1, '20': 1, 'years': 5, 'worry': 2, 'entering': 1, 'college': 1, 'tilt': 1, 'safer': 1, 'fixed': 2, 'income': 2, 'approach': 1, 'shift': 1, 'equity': 1, 'holdings': 1, '4': 1, 'Best': 1, 'Friend': 1, 'U.S.': 1, 'Department': 1, 'Labor': 1, 'said': 1, '10': 1, 'delay': 1, 'saving': 1, 'retirementâ€”or': 1, 'goalâ€”you': 1, 'month': 1, 'catch': 1, 'ï': 1, '»': 1, '¿': 1, 'Having': 1, 'means': 1, 'couple': 1, 'bad': 1, 'likely': 1, 'insignificant': 1, 'blip': 1, '30': 2, '5': 1, 'implement': 1, 'step': 1, 'current': 1, 'breaks': 1, 'fairly': 1, 'straightforward': 1, 'percentage': 1, 'versus': 1, 'forget': 1, 'categorize': 2, 'type': 1, 'ownâ€”small': 1, 'mid': 2, 'large': 1, 'cap': 1, 'according': 1, 'maturityâ€”short': 1, 'Mutual': 1, 'problematic': 1, 'Fund': 1, 'names': 1, 'entire': 1, 'story': 1, 'dig': 1, 'deeper': 1, 'prospectus': 1, 'figure': 1, 'Line': 1, 'single': 1, 'solution': 1, 'allocating': 1, 'Individual': 1, 'require': 1, 'solutions': 1, 'Furthermore': 1, 'horizon': 1, 'late': 2, 'started': 1, 'existing': 1, 'lift': 1, 'event': 1, 'life': 1, 'process': 1, 'progression': 1, 'fine': 1, 'tuning': 1, 'SPONSORED': 1, 'Win': 1, '10,000': 2, 'Trading': 1, 'Digital': 2, 'Assets': 1, 'trading': 1, 'got': 1, 'easier': 1, 'OKX': 1, 'leading': 1, 'digital': 1, 'service': 1, 'provider': 1, 'access': 1, 'world': 1, 'security': 1, 'trade': 1, 'store': 1, 'Whatâ€': 1, '™': 1, 's': 1, 'win': 1, 'Mystery': 2, 'Box': 2, 'worth': 1, 'complete': 1, 'deposit': 1, '50': 1, 'crypto': 1, 'purchase': 1, 'days': 1, 'registration': 1, 'Learn': 1, 'sign': 1, 'claim': 1, 'today': 1, 'hello': 1}\n"
     ]
    }
   ],
   "source": [
    "print(word_frequencies)\n"
   ]
  },
  {
   "cell_type": "code",
   "execution_count": 21,
   "id": "17d70c71",
   "metadata": {},
   "outputs": [],
   "source": [
    "max_frequency = max(word_frequencies.values())"
   ]
  },
  {
   "cell_type": "code",
   "execution_count": 22,
   "id": "098f3046",
   "metadata": {},
   "outputs": [
    {
     "name": "stdout",
     "output_type": "stream",
     "text": [
      "14\n"
     ]
    }
   ],
   "source": [
    "print(max_frequency)"
   ]
  },
  {
   "cell_type": "code",
   "execution_count": 23,
   "id": "ef87b8d2",
   "metadata": {},
   "outputs": [],
   "source": [
    "# let's find the key with maximum word frequency\n",
    "max_keys = []\n",
    "for key,value in word_frequencies.items():\n",
    "    if value == max_frequency:\n",
    "        max_keys.append(key)"
   ]
  },
  {
   "cell_type": "code",
   "execution_count": 24,
   "id": "9d25af96",
   "metadata": {},
   "outputs": [
    {
     "name": "stdout",
     "output_type": "stream",
     "text": [
      "['asset']\n"
     ]
    }
   ],
   "source": [
    "print(max_keys)"
   ]
  },
  {
   "cell_type": "code",
   "execution_count": 25,
   "id": "520a0ce9",
   "metadata": {},
   "outputs": [
    {
     "name": "stdout",
     "output_type": "stream",
     "text": [
      "['whereafter', 'six', 'move', 'his', 'these', 'more', 'either', 'i', 'sometimes', 'next', \"'ve\", 'under', 'therefore', 'does', 'yet', 'how', 'throughout', 'make', 'made', 'becoming', 'yours', 'latterly', 'both', 'only', 'take', 'thereby', 'used', 'even', 'each', 'over', 'go', 'nobody', 'toward', 'their', 'most', 'wherein', 'five', 'sixty', 'bottom', 'a', 'however', 'third', 'seems', 'been', 'seeming', 'anyhow', 'whole', 'any', 'every', 'although', 'should', 'everywhere', 'now', 'call', 'our', 'well', 'after', 'afterwards', '’ve', 'whom', 'here', 'my', 'four', 'than', 'in', 'all', 'already', 'otherwise', 'beyond', 'sometime', '‘s', 'least', 'out', 'below', 'formerly', 'three', 'per', 'will', 'am', '’s', 'another', 'except', 'hence', 'at', 'n’t', 'mine', 'hereafter', 'always', 'would', 'everything', 'he', 'around', 'about', 'anyone', 'unless', 'front', 'cannot', 'on', 'n‘t', 'while', 'against', 'ourselves', 'get', 'once', 'also', 'various', 'whether', 'why', 'latter', 'via', 'become', 'never', 'anywhere', 'your', 'besides', 'due', 'elsewhere', 'neither', 'or', 'can', 'side', 'twenty', 'during', 'up', 'hundred', 'being', 'again', 'herself', '‘ve', 'show', 'upon', 'much', 'twelve', 'this', 'were', 'give', 'whereas', 'amount', 'becomes', 'many', 'then', 'what', 'no', 'fifty', 'quite', 'almost', 'before', 'nothing', 'someone', 'from', 'doing', 'ours', 'hers', 'we', 'eleven', 'not', 'among', 'if', '’re', 'nine', 'thru', 'her', 'seemed', 'along', 'please', 'serious', 'together', 'him', 'it', 'off', 'are', 'for', 'but', 'there', 'whose', 'nowhere', 'perhaps', 'itself', 'us', '‘re', 'fifteen', 'as', 'others', 'yourselves', 'that', '’ll', 'towards', \"'d\", 'with', 'herein', 'by', 'indeed', 'rather', 'have', 'since', 'until', 'whither', \"'ll\", 'former', 'other', 'behind', 'was', 'hereby', 'ca', 'down', 'alone', 'and', 'through', '‘m', 'still', 'too', 'own', 'ten', 'whereupon', 'several', 'above', 'thus', 'into', 'within', 'put', 'same', 'wherever', 'without', 'though', '‘d', 'the', 'has', 'forty', 'whatever', 're', 'whenever', 'amongst', 'seem', 'eight', 'anything', 'she', 'everyone', 'back', 'regarding', 'really', \"'re\", 'name', 'mostly', 'myself', 'keep', 'none', 'may', 'often', 'say', 'enough', 'noone', \"'m\", 'thereafter', \"'s\", 'onto', 'an', 'whence', 'part', 'done', 'did', 'of', 'beforehand', 'somewhere', 'themselves', 'somehow', 'thereupon', 'they', 'to', 'yourself', '‘ll', 'where', 'when', 'them', 'became', 'top', '’m', 'thence', 'something', 'you', 'less', 'therein', 'namely', 'see', 'moreover', 'me', 'could', 'whoever', 'across', 'anyway', \"n't\", 'be', 'hereupon', 'just', 'whereby', 'very', 'meanwhile', 'between', '’d', 'further', 'one', 'last', 'beside', 'must', 'himself', 'some', 'first', 'do', 'so', 'might', 'which', 'nevertheless', 'few', 'those', 'using', 'empty', 'ever', 'because', 'who', 'two', 'is', 'full', 'else', 'nor', 'its', 'had', 'such']\n"
     ]
    }
   ],
   "source": [
    "print(stopword)"
   ]
  },
  {
   "cell_type": "code",
   "execution_count": 26,
   "id": "f5c52191",
   "metadata": {},
   "outputs": [],
   "source": [
    "#now normalize the frequency\n",
    "for word in word_frequencies.keys():\n",
    "    word_frequencies[word] = word_frequencies[word]/max_frequency"
   ]
  },
  {
   "cell_type": "code",
   "execution_count": 27,
   "id": "cc67f446",
   "metadata": {},
   "outputs": [
    {
     "name": "stdout",
     "output_type": "stream",
     "text": [
      "{'thousands': 0.07142857142857142, 'stocks': 0.9285714285714286, 'bonds': 0.6428571428571429, 'mutual': 0.21428571428571427, 'funds': 0.21428571428571427, 'choose': 0.07142857142857142, 'picking': 0.14285714285714285, 'right': 0.2857142857142857, 'investments': 0.35714285714285715, 'confuse': 0.07142857142857142, 'seasoned': 0.07142857142857142, 'investor': 0.14285714285714285, 'correctly': 0.07142857142857142, 'undermine': 0.07142857142857142, 'ability': 0.14285714285714285, 'build': 0.14285714285714285, 'wealth': 0.07142857142857142, 'nest': 0.07142857142857142, 'egg': 0.07142857142857142, 'retirement': 0.2857142857142857, 'best': 0.21428571428571427, 'thing': 0.07142857142857142, 'Instead': 0.07142857142857142, 'stock': 0.21428571428571427, 'start': 0.07142857142857142, 'deciding': 0.07142857142857142, 'mix': 0.21428571428571427, 'want': 0.21428571428571427, 'hold': 0.07142857142857142, 'referred': 0.07142857142857142, 'asset': 1.0, 'allocation': 0.9285714285714286, 'article': 0.14285714285714285, 'look': 0.07142857142857142, 'important': 0.35714285714285715, 'things': 0.14285714285714285, 'need': 0.21428571428571427, 'know': 0.07142857142857142, 'technique': 0.14285714285714285, '\\n\\n': 0.8571428571428571, 'KEY': 0.07142857142857142, 'TAKEAWAYS': 0.07142857142857142, 'Asset': 0.2857142857142857, 'tries': 0.07142857142857142, 'balance': 0.21428571428571427, 'risk': 0.6428571428571429, 'dividing': 0.14285714285714285, 'assets': 0.5714285714285714, 'investment': 0.2857142857142857, 'vehicles': 0.07142857142857142, 'return': 0.5714285714285714, 'tradeoff': 0.14285714285714285, 'core': 0.14285714285714285, 'faith': 0.07142857142857142, 'financial': 0.5714285714285714, 'planning': 0.14285714285714285, 'software': 0.21428571428571427, 'survey': 0.14285714285714285, 'sheets': 0.21428571428571427, 'Know': 0.14285714285714285, 'goals': 0.2857142857142857, 'Time': 0.14285714285714285, 'allows': 0.14285714285714285, 'advantage': 0.14285714285714285, 'compounding': 0.14285714285714285, 'time': 0.5, 'value': 0.21428571428571427, 'money': 0.2857142857142857, 'Allocation': 0.07142857142857142, 'portfolio': 0.2857142857142857, 'aims': 0.07142857142857142, 'major': 0.14285714285714285, 'categories': 0.07142857142857142, 'cash': 0.21428571428571427, 'real': 0.14285714285714285, 'estate': 0.14285714285714285, 'derivatives': 0.07142857142857142, 'class': 0.2857142857142857, 'different': 0.07142857142857142, 'levels': 0.07142857142857142, 'behave': 0.07142857142857142, 'differently': 0.07142857142857142, '\\n\\n\\n': 0.5, 'instance': 0.07142857142857142, 'category': 0.07142857142857142, 'increases': 0.07142857142857142, 'decrease': 0.07142857142857142, 'increase': 0.07142857142857142, 'critics': 0.07142857142857142, 'recipe': 0.07142857142857142, 'mediocre': 0.07142857142857142, 'returns': 0.14285714285714285, 'investors': 0.42857142857142855, 'protection': 0.07142857142857142, 'loss': 0.07142857142857142, 'amiss': 0.07142857142857142, 'sub': 0.07142857142857142, 'consensus': 0.07142857142857142, 'professionals': 0.14285714285714285, 'decisions': 0.14285714285714285, 'words': 0.14285714285714285, 'selection': 0.07142857142857142, 'secondary': 0.07142857142857142, 'way': 0.07142857142857142, 'allocate': 0.21428571428571427, 'high': 0.07142857142857142, 'low': 0.07142857142857142, 'short': 0.21428571428571427, 'long': 0.35714285714285715, 'term': 0.42857142857142855, '\\n\\n\\n ': 0.07142857142857142, 'believe': 0.07142857142857142, 'simple': 0.14285714285714285, 'formula': 0.07142857142857142, 'find': 0.14285714285714285, 'individual': 0.14285714285714285, 'certainly': 0.07142857142857142, 'able': 0.07142857142857142, 'explain': 0.07142857142857142, 'outline': 0.07142857142857142, 'points': 0.07142857142857142, 'feel': 0.07142857142857142, 'thinking': 0.07142857142857142, '1': 0.07142857142857142, 'Risk': 0.07142857142857142, 'vs.': 0.07142857142857142, 'Return': 0.07142857142857142, 'easy': 0.14285714285714285, 'highest': 0.21428571428571427, 'possible': 0.07142857142857142, 'simply': 0.14285714285714285, 'choosing': 0.07142857142857142, 'potentialâ€”stocks': 0.07142857142857142, \"derivativesâ€”isn't\": 0.07142857142857142, 'answer': 0.07142857142857142, 'crashes': 0.07142857142857142, '1929': 0.07142857142857142, '1981': 0.07142857142857142, '1987': 0.07142857142857142, 'recent': 0.14285714285714285, 'declines': 0.07142857142857142, 'following': 0.07142857142857142, 'global': 0.07142857142857142, 'crisis': 0.07142857142857142, '2007': 0.07142857142857142, '2009': 0.07142857142857142, 'examples': 0.07142857142857142, 'times': 0.21428571428571427, 'investing': 0.07142857142857142, 'potential': 0.07142857142857142, 'prudent': 0.07142857142857142, 'plan': 0.42857142857142855, 'action': 0.07142857142857142, 'face': 0.14285714285714285, 'truth': 0.07142857142857142, 'year': 0.07142857142857142, 'going': 0.07142857142857142, 'beaten': 0.07142857142857142, 'fund': 0.21428571428571427, 'pension': 0.07142857142857142, 'etc': 0.07142857142857142, 'separates': 0.07142857142857142, 'greedy': 0.07142857142857142, 'hungry': 0.07142857142857142, 'successful': 0.07142857142857142, 'ones': 0.07142857142857142, 'weigh': 0.07142857142857142, 'relationship': 0.07142857142857142, 'Yes': 0.07142857142857142, 'higher': 0.21428571428571427, 'tolerance': 0.07142857142857142, 'remain': 0.07142857142857142, 'invested': 0.14285714285714285, 'fluctuations': 0.14285714285714285, 'bear': 0.07142857142857142, 'market': 0.21428571428571427, 'cut': 0.07142857142857142, 'exposure': 0.07142857142857142, 'equities': 0.07142857142857142, '2': 0.07142857142857142, 'Software': 0.07142857142857142, 'Planner': 0.07142857142857142, 'Sheets': 0.07142857142857142, 'Financial': 0.07142857142857142, 'designed': 0.07142857142857142, 'advisors': 0.14285714285714285, 'firms': 0.07142857142857142, 'beneficial': 0.07142857142857142, 'rely': 0.07142857142857142, 'solely': 0.07142857142857142, 'pre': 0.07142857142857142, 'determined': 0.07142857142857142, 'example': 0.14285714285714285, 'old': 0.07142857142857142, 'rule': 0.07142857142857142, 'thumb': 0.14285714285714285, 'use': 0.07142857142857142, 'determine': 0.14285714285714285, 'proportion': 0.14285714285714285, 'person': 0.14285714285714285, 'subtract': 0.07142857142857142, 'age': 0.14285714285714285, '100': 0.07142857142857142, '35': 0.14285714285714285, '65': 0.07142857142857142, 'remaining': 0.07142857142857142, 'advice': 0.07142857142857142, 'shifted': 0.07142857142857142, '110': 0.07142857142857142, '120': 0.07142857142857142, 'minus': 0.07142857142857142, 'standard': 0.14285714285714285, 'worksheets': 0.14285714285714285, 'account': 0.07142857142857142, 'information': 0.07142857142857142, 'parent': 0.07142857142857142, 'retiree': 0.07142857142857142, 'spouse': 0.07142857142857142, 'based': 0.07142857142857142, 'set': 0.07142857142857142, 'questions': 0.07142857142857142, 'capture': 0.07142857142857142, 'Remember': 0.07142857142857142, 'institutions': 0.07142857142857142, 'love': 0.07142857142857142, 'peg': 0.07142857142857142, 'Rules': 0.07142857142857142, 'planner': 0.07142857142857142, 'people': 0.07142857142857142, 'rough': 0.07142857142857142, 'guideline': 0.07142857142857142, 'boxed': 0.07142857142857142, 'tell': 0.14285714285714285, '3': 0.07142857142857142, 'Goals': 0.07142857142857142, 'aspire': 0.07142857142857142, 'fat': 0.07142857142857142, 'yacht': 0.07142857142857142, 'vacation': 0.07142857142857142, 'home': 0.07142857142857142, 'pay': 0.07142857142857142, 'child': 0.14285714285714285, 'education': 0.07142857142857142, 'save': 0.14285714285714285, 'new': 0.07142857142857142, 'car': 0.07142857142857142, 'consider': 0.07142857142857142, 'considered': 0.07142857142857142, 'determining': 0.07142857142857142, 'condo': 0.07142857142857142, 'beach': 0.07142857142857142, '20': 0.07142857142857142, 'years': 0.35714285714285715, 'worry': 0.14285714285714285, 'entering': 0.07142857142857142, 'college': 0.07142857142857142, 'tilt': 0.07142857142857142, 'safer': 0.07142857142857142, 'fixed': 0.14285714285714285, 'income': 0.14285714285714285, 'approach': 0.07142857142857142, 'shift': 0.07142857142857142, 'equity': 0.07142857142857142, 'holdings': 0.07142857142857142, '4': 0.07142857142857142, 'Best': 0.07142857142857142, 'Friend': 0.07142857142857142, 'U.S.': 0.07142857142857142, 'Department': 0.07142857142857142, 'Labor': 0.07142857142857142, 'said': 0.07142857142857142, '10': 0.07142857142857142, 'delay': 0.07142857142857142, 'saving': 0.07142857142857142, 'retirementâ€”or': 0.07142857142857142, 'goalâ€”you': 0.07142857142857142, 'month': 0.07142857142857142, 'catch': 0.07142857142857142, 'ï': 0.07142857142857142, '»': 0.07142857142857142, '¿': 0.07142857142857142, 'Having': 0.07142857142857142, 'means': 0.07142857142857142, 'couple': 0.07142857142857142, 'bad': 0.07142857142857142, 'likely': 0.07142857142857142, 'insignificant': 0.07142857142857142, 'blip': 0.07142857142857142, '30': 0.14285714285714285, '5': 0.07142857142857142, 'implement': 0.07142857142857142, 'step': 0.07142857142857142, 'current': 0.07142857142857142, 'breaks': 0.07142857142857142, 'fairly': 0.07142857142857142, 'straightforward': 0.07142857142857142, 'percentage': 0.07142857142857142, 'versus': 0.07142857142857142, 'forget': 0.07142857142857142, 'categorize': 0.14285714285714285, 'type': 0.07142857142857142, 'ownâ€”small': 0.07142857142857142, 'mid': 0.14285714285714285, 'large': 0.07142857142857142, 'cap': 0.07142857142857142, 'according': 0.07142857142857142, 'maturityâ€”short': 0.07142857142857142, 'Mutual': 0.07142857142857142, 'problematic': 0.07142857142857142, 'Fund': 0.07142857142857142, 'names': 0.07142857142857142, 'entire': 0.07142857142857142, 'story': 0.07142857142857142, 'dig': 0.07142857142857142, 'deeper': 0.07142857142857142, 'prospectus': 0.07142857142857142, 'figure': 0.07142857142857142, 'Line': 0.07142857142857142, 'single': 0.07142857142857142, 'solution': 0.07142857142857142, 'allocating': 0.07142857142857142, 'Individual': 0.07142857142857142, 'require': 0.07142857142857142, 'solutions': 0.07142857142857142, 'Furthermore': 0.07142857142857142, 'horizon': 0.07142857142857142, 'late': 0.14285714285714285, 'started': 0.07142857142857142, 'existing': 0.07142857142857142, 'lift': 0.07142857142857142, 'event': 0.07142857142857142, 'life': 0.07142857142857142, 'process': 0.07142857142857142, 'progression': 0.07142857142857142, 'fine': 0.07142857142857142, 'tuning': 0.07142857142857142, 'SPONSORED': 0.07142857142857142, 'Win': 0.07142857142857142, '10,000': 0.14285714285714285, 'Trading': 0.07142857142857142, 'Digital': 0.14285714285714285, 'Assets': 0.07142857142857142, 'trading': 0.07142857142857142, 'got': 0.07142857142857142, 'easier': 0.07142857142857142, 'OKX': 0.07142857142857142, 'leading': 0.07142857142857142, 'digital': 0.07142857142857142, 'service': 0.07142857142857142, 'provider': 0.07142857142857142, 'access': 0.07142857142857142, 'world': 0.07142857142857142, 'security': 0.07142857142857142, 'trade': 0.07142857142857142, 'store': 0.07142857142857142, 'Whatâ€': 0.07142857142857142, '™': 0.07142857142857142, 's': 0.07142857142857142, 'win': 0.07142857142857142, 'Mystery': 0.14285714285714285, 'Box': 0.14285714285714285, 'worth': 0.07142857142857142, 'complete': 0.07142857142857142, 'deposit': 0.07142857142857142, '50': 0.07142857142857142, 'crypto': 0.07142857142857142, 'purchase': 0.07142857142857142, 'days': 0.07142857142857142, 'registration': 0.07142857142857142, 'Learn': 0.07142857142857142, 'sign': 0.07142857142857142, 'claim': 0.07142857142857142, 'today': 0.07142857142857142, 'hello': 0.07142857142857142}\n"
     ]
    }
   ],
   "source": [
    "print(word_frequencies)"
   ]
  },
  {
   "cell_type": "code",
   "execution_count": 28,
   "id": "5ee42425",
   "metadata": {},
   "outputs": [],
   "source": [
    "sentence_tokens = [sent for sent in doc.sents]"
   ]
  },
  {
   "cell_type": "code",
   "execution_count": 29,
   "id": "5207479e",
   "metadata": {},
   "outputs": [
    {
     "name": "stdout",
     "output_type": "stream",
     "text": [
      "[With thousands of stocks, bonds, and mutual funds to choose from, picking the right investments can confuse even the most seasoned investor., But if you don't do it correctly, you can undermine your own ability to build wealth and a nest egg for retirement., So what's the best thing to do?, Instead of stock picking, you should start by deciding what mix of stocks, bonds, and mutual funds you want to hold., This is referred to as your asset allocation., In this article, we take a look at asset allocation, and five of the most important things you need to know about this technique.\n",
      "\n",
      ", KEY TAKEAWAYS\n",
      "Asset allocation tries to balance risk by dividing assets among investment vehicles.\n",
      ", The risk-return tradeoff is at the core of what asset allocation is all about.\n",
      ", Don't put all your faith in financial planning software and survey sheets.\n",
      ", Know your goals.\n",
      ", Time allows you to take advantage of compounding and the time value of money.\n",
      ", What Is Asset Allocation?\n",
      ", Asset allocation is an investment portfolio technique that aims to balance risk by dividing assets among major categories such as cash, bonds, stocks, real estate, and derivatives., Each asset class has different levels of return and risk, so each will behave differently over time.\n",
      "\n",
      "\n",
      ", For instance, while one asset category increases in value, another may decrease or may not increase as much., Some critics see this balance as a recipe for mediocre returns, but for most investors, it's the best protection against a major loss should things ever go amiss in one investment class or sub-class.\n",
      "\n",
      "\n",
      ", The consensus among most financial professionals is that asset allocation is one of the most important decisions investors make., In other words, your selection of stocks or bonds is secondary to the way you allocate your assets to high and low-risk stocks, to short and long-term bonds, and to cash.\n",
      "\n",
      "\n",
      " , Most financial professionals believe that asset allocation is one of the most important decisions investors can make.\n",
      ", There is no simple formula that can find the right asset allocation for every individual., If there were, we certainly wouldn't be able to explain it in one article., We can, however, outline five points that we feel are important when thinking about asset allocation.\n",
      "\n",
      "\n",
      ", 1., Risk vs. Return\n",
      "The risk-return tradeoff is at the core of what asset allocation is all about., It's easy for everyone to say that they want the highest possible return, but simply choosing the assets with the highest potentialâ€”stocks and derivativesâ€”isn't the answer.\n",
      "\n",
      "\n",
      ", The crashes of 1929, 1981, 1987, and the more recent declines following the global financial crisis between 2007 to 2009 are all examples of times when investing in only stocks with the highest potential return was not the most prudent plan of action., It's time to face the truth:, Every year your returns are going to be beaten by another investor, mutual fund, pension plan, etc., What separates greedy and return-hungry investors from successful ones is the ability to weigh the relationship between risk and return.\n",
      "\n",
      "\n",
      ", Yes, investors with a higher risk tolerance should allocate more money into stocks., But if you can't remain invested through the short-term fluctuations of a bear market, you should cut your exposure to equities.\n",
      "\n",
      "\n",
      ", 2. Software and Planner Sheets\n",
      "Financial planning software and survey sheets designed by financial advisors or investment firms can be beneficial, but never rely solely on software or some pre-determined plan., For example, one old rule of thumb that some advisors use to determine the proportion a person should allocate to stocks is to subtract the person's age from 100., In other words, if you're 35, you should put 65% of your money into stocks and the remaining 35% into bonds, real estate, and cash., More recent advice has shifted to 110 or even 120 minus your age.\n",
      "\n",
      "\n",
      ", But standard worksheets sometimes don't take into account other important information such as whether or not you are a parent, retiree, or spouse., Other times, these worksheets are based on a set of simple questions that don't capture your financial goals.\n",
      "\n",
      ", Remember, financial institutions love to peg you into a standard plan not because it's best for you, but because it's easy for them., Rules of thumb and planner sheets can give people a rough guideline, but don't get boxed into what they tell you.\n",
      "\n",
      ", 3. Know Your Goals\n",
      "We all have goals., Whether you aspire to build a fat retirement fund, own a yacht or vacation home, pay for your child's education, or simply save for a new car, you should consider it in your asset-allocation plan., All these goals need to be considered when determining the right mix.\n",
      "\n",
      ", For example, if you plan to own a retirement condo on the beach in 20 years, you don't have to worry about short-term fluctuations in the stock market., But if you have a child who will be entering college in five to six years, you may need to tilt your asset allocation to safer fixed-income investments., And as you approach retirement, you may want to shift to a higher proportion of fixed-income investments to equity holdings.\n",
      "\n",
      ", 4., Time Is Your Best Friend\n",
      "The U.S. Department of Labor has said that for every 10 years you delay saving for retirementâ€”or some other long-term goalâ€”you have to save three times as much each month to catch up.\n",
      "\n",
      ", ï»¿\n",
      "\n",
      "Having time not only allows you to take advantage of compounding and the time value of money, but it also means you can put more of your portfolio into higher risk/return investments, namely stocks., A couple of bad years in the stock market will likely show up as nothing more than an insignificant blip 30 years from now.\n",
      "\n",
      ", 5., Just Do It!\n",
      ", Once you determine the right mix of stocks, bonds, and other investments, it's time to implement it., The first step is to find out how your current portfolio breaks down.\n",
      "\n",
      ", It's fairly straightforward to see the percentage of assets in stocks versus bonds, but don't forget to categorize what type of stocks you ownâ€”small, mid, or large cap., You should also categorize your bonds according to their maturityâ€”short, mid or long-term.\n",
      "\n",
      ", Mutual funds can be more problematic., Fund names don't always tell the entire story., You have to dig deeper in the prospectus to figure out where fund assets are invested.\n",
      "\n",
      ", The Bottom Line\n",
      "There is no single solution for allocating your assets., Individual investors require individual solutions., Furthermore, if a long-term horizon is something you don't have, don't worry., It's never too late to get started., It's also never too late to give your existing portfolio a face-lift., Asset allocation is not a one-time event, it's a life-long process of progression and fine-tuning. \n",
      "\n",
      ", SPONSORED\n",
      "Win Up to $10,000 While Trading Digital Assets\n",
      "Digital asset trading just got easier., With OKX, a leading digital asset financial service provider, you can access world-class security as you trade and store assets., Whatâ€™s more, you can win a Mystery Box worth up to $10,000 when you complete a deposit of more than $50 through a crypto purchase or top-up within 30 days of registration., Learn more and sign up to claim your Mystery Box today.\n",
      ", hello\n",
      "]\n"
     ]
    }
   ],
   "source": [
    "print(sentence_tokens)"
   ]
  },
  {
   "cell_type": "code",
   "execution_count": 31,
   "id": "10b5a922",
   "metadata": {},
   "outputs": [],
   "source": [
    "# now calculate sentence score\n",
    "sentence_scores = {}\n",
    "for sent in sentence_tokens:\n",
    "    for word in sent:\n",
    "        if word.text.lower() in word_frequencies.keys():\n",
    "            if sent not in sentence_scores.keys():\n",
    "                sentence_scores[sent] = word_frequencies[word.text.lower()]\n",
    "            else:\n",
    "                sentence_scores[sent] += word_frequencies[word.text.lower()]\n"
   ]
  },
  {
   "cell_type": "code",
   "execution_count": 32,
   "id": "8de9c681",
   "metadata": {},
   "outputs": [
    {
     "name": "stdout",
     "output_type": "stream",
     "text": [
      "{With thousands of stocks, bonds, and mutual funds to choose from, picking the right investments can confuse even the most seasoned investor.: 3.2142857142857144, But if you don't do it correctly, you can undermine your own ability to build wealth and a nest egg for retirement.: 0.9285714285714285, So what's the best thing to do?: 0.2857142857142857, Instead of stock picking, you should start by deciding what mix of stocks, bonds, and mutual funds you want to hold.: 3.0000000000000004, This is referred to as your asset allocation.: 2.0, In this article, we take a look at asset allocation, and five of the most important things you need to know about this technique.\n",
      "\n",
      ": 3.928571428571429, KEY TAKEAWAYS\n",
      "Asset allocation tries to balance risk by dividing assets among investment vehicles.\n",
      ": 3.9285714285714284, The risk-return tradeoff is at the core of what asset allocation is all about.\n",
      ": 3.428571428571429, Don't put all your faith in financial planning software and survey sheets.\n",
      ": 1.357142857142857, Know your goals.\n",
      ": 0.3571428571428571, Time allows you to take advantage of compounding and the time value of money.\n",
      ": 1.9285714285714284, What Is Asset Allocation?\n",
      ": 1.9285714285714286, Asset allocation is an investment portfolio technique that aims to balance risk by dividing assets among major categories such as cash, bonds, stocks, real estate, and derivatives.: 6.642857142857144, Each asset class has different levels of return and risk, so each will behave differently over time.\n",
      "\n",
      "\n",
      ": 3.785714285714286, For instance, while one asset category increases in value, another may decrease or may not increase as much.: 1.5714285714285712, Some critics see this balance as a recipe for mediocre returns, but for most investors, it's the best protection against a major loss should things ever go amiss in one investment class or sub-class.\n",
      "\n",
      "\n",
      ": 3.1428571428571423, The consensus among most financial professionals is that asset allocation is one of the most important decisions investors make.: 3.642857142857143, In other words, your selection of stocks or bonds is secondary to the way you allocate your assets to high and low-risk stocks, to short and long-term bonds, and to cash.\n",
      "\n",
      "\n",
      " : 6.357142857142858, Most financial professionals believe that asset allocation is one of the most important decisions investors can make.\n",
      ": 3.642857142857143, There is no simple formula that can find the right asset allocation for every individual.: 2.714285714285714, If there were, we certainly wouldn't be able to explain it in one article.: 0.3571428571428571, We can, however, outline five points that we feel are important when thinking about asset allocation.\n",
      "\n",
      "\n",
      ": 3.071428571428571, 1.: 0.07142857142857142, Risk vs. Return\n",
      "The risk-return tradeoff is at the core of what asset allocation is all about.: 4.714285714285714, It's easy for everyone to say that they want the highest possible return, but simply choosing the assets with the highest potentialâ€”stocks and derivativesâ€”isn't the answer.\n",
      "\n",
      "\n",
      ": 2.928571428571429, The crashes of 1929, 1981, 1987, and the more recent declines following the global financial crisis between 2007 to 2009 are all examples of times when investing in only stocks with the highest potential return was not the most prudent plan of action.: 4.142857142857142, It's time to face the truth:: 0.7142857142857142, Every year your returns are going to be beaten by another investor, mutual fund, pension plan, etc.: 1.4999999999999998, What separates greedy and return-hungry investors from successful ones is the ability to weigh the relationship between risk and return.\n",
      "\n",
      "\n",
      ": 3.3571428571428568, Yes, investors with a higher risk tolerance should allocate more money into stocks.: 2.7857142857142856, But if you can't remain invested through the short-term fluctuations of a bear market, you should cut your exposure to equities.\n",
      "\n",
      "\n",
      ": 1.9999999999999998, 2. Software and Planner Sheets\n",
      "Financial planning software and survey sheets designed by financial advisors or investment firms can be beneficial, but never rely solely on software or some pre-determined plan.: 4.000000000000001, For example, one old rule of thumb that some advisors use to determine the proportion a person should allocate to stocks is to subtract the person's age from 100.: 2.642857142857143, In other words, if you're 35, you should put 65% of your money into stocks and the remaining 35% into bonds, real estate, and cash.: 2.9285714285714284, More recent advice has shifted to 110 or even 120 minus your age.\n",
      "\n",
      "\n",
      ": 1.1428571428571428, But standard worksheets sometimes don't take into account other important information such as whether or not you are a parent, retiree, or spouse.: 0.9999999999999998, Other times, these worksheets are based on a set of simple questions that don't capture your financial goals.\n",
      "\n",
      ": 2.5, Remember, financial institutions love to peg you into a standard plan not because it's best for you, but because it's easy for them.: 1.714285714285714, Rules of thumb and planner sheets can give people a rough guideline, but don't get boxed into what they tell you.\n",
      "\n",
      ": 1.714285714285714, 3. Know Your Goals\n",
      "We all have goals.: 0.7142857142857142, Whether you aspire to build a fat retirement fund, own a yacht or vacation home, pay for your child's education, or simply save for a new car, you should consider it in your asset-allocation plan.: 4.142857142857143, All these goals need to be considered when determining the right mix.\n",
      "\n",
      ": 2.0, For example, if you plan to own a retirement condo on the beach in 20 years, you don't have to worry about short-term fluctuations in the stock market.: 2.7857142857142856, But if you have a child who will be entering college in five to six years, you may need to tilt your asset allocation to safer fixed-income investments.: 3.571428571428571, And as you approach retirement, you may want to shift to a higher proportion of fixed-income investments to equity holdings.\n",
      "\n",
      ": 2.642857142857143, 4.: 0.07142857142857142, Time Is Your Best Friend\n",
      "The U.S. Department of Labor has said that for every 10 years you delay saving for retirementâ€”or some other long-term goalâ€”you have to save three times as much each month to catch up.\n",
      "\n",
      ": 3.6428571428571432, ï»¿\n",
      "\n",
      "Having time not only allows you to take advantage of compounding and the time value of money, but it also means you can put more of your portfolio into higher risk/return investments, namely stocks.: 6.071428571428571, A couple of bad years in the stock market will likely show up as nothing more than an insignificant blip 30 years from now.\n",
      "\n",
      ": 2.5, 5.: 0.07142857142857142, Once you determine the right mix of stocks, bonds, and other investments, it's time to implement it.: 3.1428571428571432, The first step is to find out how your current portfolio breaks down.\n",
      "\n",
      ": 1.5, It's fairly straightforward to see the percentage of assets in stocks versus bonds, but don't forget to categorize what type of stocks you ownâ€”small, mid, or large cap.: 4.000000000000001, You should also categorize your bonds according to their maturityâ€”short, mid or long-term.\n",
      "\n",
      ": 2.7142857142857144, Mutual funds can be more problematic.: 0.5, Fund names don't always tell the entire story.: 0.5714285714285714, You have to dig deeper in the prospectus to figure out where fund assets are invested.\n",
      "\n",
      ": 2.071428571428571, The Bottom Line\n",
      "There is no single solution for allocating your assets.: 0.7857142857142857, Individual investors require individual solutions.: 0.857142857142857, Furthermore, if a long-term horizon is something you don't have, don't worry.: 1.0, It's never too late to get started.: 0.21428571428571427, It's also never too late to give your existing portfolio a face-lift.: 0.7142857142857142, Asset allocation is not a one-time event, it's a life-long process of progression and fine-tuning. \n",
      "\n",
      ": 4.071428571428573, SPONSORED\n",
      "Win Up to $10,000 While Trading Digital Assets\n",
      "Digital asset trading just got easier.: 2.214285714285715, With OKX, a leading digital asset financial service provider, you can access world-class security as you trade and store assets.: 3.071428571428572, Whatâ€™s more, you can win a Mystery Box worth up to $10,000 when you complete a deposit of more than $50 through a crypto purchase or top-up within 30 days of registration.: 1.0714285714285712, Learn more and sign up to claim your Mystery Box today.\n",
      ": 0.21428571428571427, hello\n",
      ": 0.07142857142857142}\n"
     ]
    }
   ],
   "source": [
    "print(sentence_scores)"
   ]
  },
  {
   "cell_type": "code",
   "execution_count": 33,
   "id": "c18a2293",
   "metadata": {},
   "outputs": [],
   "source": [
    "# now we have to extract the 30 percent of the text with maximum scores\n",
    "from heapq import nlargest # the module which implements heap"
   ]
  },
  {
   "cell_type": "code",
   "execution_count": 34,
   "id": "deb2a930",
   "metadata": {},
   "outputs": [
    {
     "data": {
      "text/plain": [
       "20"
      ]
     },
     "execution_count": 34,
     "metadata": {},
     "output_type": "execute_result"
    }
   ],
   "source": [
    "select_length = int(len(sentence_tokens)*.30)\n",
    "select_length"
   ]
  },
  {
   "cell_type": "code",
   "execution_count": 35,
   "id": "a419df85",
   "metadata": {},
   "outputs": [],
   "source": [
    "# we need to select (select_length) number on sentence \n",
    "summary = nlargest(select_length,sentence_scores, key = sentence_scores.get)"
   ]
  },
  {
   "cell_type": "code",
   "execution_count": 36,
   "id": "3be6790f",
   "metadata": {},
   "outputs": [
    {
     "data": {
      "text/plain": [
       "[Asset allocation is an investment portfolio technique that aims to balance risk by dividing assets among major categories such as cash, bonds, stocks, real estate, and derivatives.,\n",
       " In other words, your selection of stocks or bonds is secondary to the way you allocate your assets to high and low-risk stocks, to short and long-term bonds, and to cash.\n",
       " \n",
       " \n",
       "  ,\n",
       " ï»¿\n",
       " \n",
       " Having time not only allows you to take advantage of compounding and the time value of money, but it also means you can put more of your portfolio into higher risk/return investments, namely stocks.,\n",
       " Risk vs. Return\n",
       " The risk-return tradeoff is at the core of what asset allocation is all about.,\n",
       " Whether you aspire to build a fat retirement fund, own a yacht or vacation home, pay for your child's education, or simply save for a new car, you should consider it in your asset-allocation plan.,\n",
       " The crashes of 1929, 1981, 1987, and the more recent declines following the global financial crisis between 2007 to 2009 are all examples of times when investing in only stocks with the highest potential return was not the most prudent plan of action.,\n",
       " Asset allocation is not a one-time event, it's a life-long process of progression and fine-tuning. \n",
       " ,\n",
       " 2. Software and Planner Sheets\n",
       " Financial planning software and survey sheets designed by financial advisors or investment firms can be beneficial, but never rely solely on software or some pre-determined plan.,\n",
       " It's fairly straightforward to see the percentage of assets in stocks versus bonds, but don't forget to categorize what type of stocks you ownâ€”small, mid, or large cap.,\n",
       " In this article, we take a look at asset allocation, and five of the most important things you need to know about this technique.\n",
       " ,\n",
       " KEY TAKEAWAYS\n",
       " Asset allocation tries to balance risk by dividing assets among investment vehicles.,\n",
       " Each asset class has different levels of return and risk, so each will behave differently over time.\n",
       " \n",
       " ,\n",
       " Time Is Your Best Friend\n",
       " The U.S. Department of Labor has said that for every 10 years you delay saving for retirementâ€”or some other long-term goalâ€”you have to save three times as much each month to catch up.\n",
       " ,\n",
       " The consensus among most financial professionals is that asset allocation is one of the most important decisions investors make.,\n",
       " Most financial professionals believe that asset allocation is one of the most important decisions investors can make.,\n",
       " But if you have a child who will be entering college in five to six years, you may need to tilt your asset allocation to safer fixed-income investments.,\n",
       " The risk-return tradeoff is at the core of what asset allocation is all about.,\n",
       " What separates greedy and return-hungry investors from successful ones is the ability to weigh the relationship between risk and return.\n",
       " \n",
       " ,\n",
       " With thousands of stocks, bonds, and mutual funds to choose from, picking the right investments can confuse even the most seasoned investor.,\n",
       " Once you determine the right mix of stocks, bonds, and other investments, it's time to implement it.]"
      ]
     },
     "execution_count": 36,
     "metadata": {},
     "output_type": "execute_result"
    }
   ],
   "source": [
    "summary"
   ]
  },
  {
   "cell_type": "code",
   "execution_count": 37,
   "id": "c1becefb",
   "metadata": {},
   "outputs": [],
   "source": [
    "final_summary = [word.text for word in summary]"
   ]
  },
  {
   "cell_type": "code",
   "execution_count": 38,
   "id": "16c8af61",
   "metadata": {},
   "outputs": [],
   "source": [
    "summary = ' '.join(final_summary)"
   ]
  },
  {
   "cell_type": "code",
   "execution_count": 39,
   "id": "cd36325d",
   "metadata": {},
   "outputs": [
    {
     "name": "stdout",
     "output_type": "stream",
     "text": [
      "Asset allocation is an investment portfolio technique that aims to balance risk by dividing assets among major categories such as cash, bonds, stocks, real estate, and derivatives. In other words, your selection of stocks or bonds is secondary to the way you allocate your assets to high and low-risk stocks, to short and long-term bonds, and to cash.\n",
      "\n",
      "\n",
      "  ï»¿\n",
      "\n",
      "Having time not only allows you to take advantage of compounding and the time value of money, but it also means you can put more of your portfolio into higher risk/return investments, namely stocks. Risk vs. Return\n",
      "The risk-return tradeoff is at the core of what asset allocation is all about. Whether you aspire to build a fat retirement fund, own a yacht or vacation home, pay for your child's education, or simply save for a new car, you should consider it in your asset-allocation plan. The crashes of 1929, 1981, 1987, and the more recent declines following the global financial crisis between 2007 to 2009 are all examples of times when investing in only stocks with the highest potential return was not the most prudent plan of action. Asset allocation is not a one-time event, it's a life-long process of progression and fine-tuning. \n",
      "\n",
      " 2. Software and Planner Sheets\n",
      "Financial planning software and survey sheets designed by financial advisors or investment firms can be beneficial, but never rely solely on software or some pre-determined plan. It's fairly straightforward to see the percentage of assets in stocks versus bonds, but don't forget to categorize what type of stocks you ownâ€”small, mid, or large cap. In this article, we take a look at asset allocation, and five of the most important things you need to know about this technique.\n",
      "\n",
      " KEY TAKEAWAYS\n",
      "Asset allocation tries to balance risk by dividing assets among investment vehicles.\n",
      " Each asset class has different levels of return and risk, so each will behave differently over time.\n",
      "\n",
      "\n",
      " Time Is Your Best Friend\n",
      "The U.S. Department of Labor has said that for every 10 years you delay saving for retirementâ€”or some other long-term goalâ€”you have to save three times as much each month to catch up.\n",
      "\n",
      " The consensus among most financial professionals is that asset allocation is one of the most important decisions investors make. Most financial professionals believe that asset allocation is one of the most important decisions investors can make.\n",
      " But if you have a child who will be entering college in five to six years, you may need to tilt your asset allocation to safer fixed-income investments. The risk-return tradeoff is at the core of what asset allocation is all about.\n",
      " What separates greedy and return-hungry investors from successful ones is the ability to weigh the relationship between risk and return.\n",
      "\n",
      "\n",
      " With thousands of stocks, bonds, and mutual funds to choose from, picking the right investments can confuse even the most seasoned investor. Once you determine the right mix of stocks, bonds, and other investments, it's time to implement it.\n"
     ]
    }
   ],
   "source": [
    "print(summary)"
   ]
  },
  {
   "cell_type": "code",
   "execution_count": 40,
   "id": "fb129153",
   "metadata": {},
   "outputs": [
    {
     "name": "stdout",
     "output_type": "stream",
     "text": [
      "With thousands of stocks, bonds, and mutual funds to choose from, picking the right investments can confuse even the most seasoned investor. But if you don't do it correctly, you can undermine your own ability to build wealth and a nest egg for retirement. So what's the best thing to do? Instead of stock picking, you should start by deciding what mix of stocks, bonds, and mutual funds you want to hold. This is referred to as your asset allocation. In this article, we take a look at asset allocation, and five of the most important things you need to know about this technique.\n",
      "\n",
      "KEY TAKEAWAYS\n",
      "Asset allocation tries to balance risk by dividing assets among investment vehicles.\n",
      "The risk-return tradeoff is at the core of what asset allocation is all about.\n",
      "Don't put all your faith in financial planning software and survey sheets.\n",
      "Know your goals.\n",
      "Time allows you to take advantage of compounding and the time value of money.\n",
      "What Is Asset Allocation?\n",
      "Asset allocation is an investment portfolio technique that aims to balance risk by dividing assets among major categories such as cash, bonds, stocks, real estate, and derivatives. Each asset class has different levels of return and risk, so each will behave differently over time.\n",
      "\n",
      "\n",
      "For instance, while one asset category increases in value, another may decrease or may not increase as much. Some critics see this balance as a recipe for mediocre returns, but for most investors, it's the best protection against a major loss should things ever go amiss in one investment class or sub-class.\n",
      "\n",
      "\n",
      "The consensus among most financial professionals is that asset allocation is one of the most important decisions investors make. In other words, your selection of stocks or bonds is secondary to the way you allocate your assets to high and low-risk stocks, to short and long-term bonds, and to cash.\n",
      "\n",
      "\n",
      " Most financial professionals believe that asset allocation is one of the most important decisions investors can make.\n",
      "There is no simple formula that can find the right asset allocation for every individual. If there were, we certainly wouldn't be able to explain it in one article. We can, however, outline five points that we feel are important when thinking about asset allocation.\n",
      "\n",
      "\n",
      "1. Risk vs. Return\n",
      "The risk-return tradeoff is at the core of what asset allocation is all about. It's easy for everyone to say that they want the highest possible return, but simply choosing the assets with the highest potentialâ€”stocks and derivativesâ€”isn't the answer.\n",
      "\n",
      "\n",
      "The crashes of 1929, 1981, 1987, and the more recent declines following the global financial crisis between 2007 to 2009 are all examples of times when investing in only stocks with the highest potential return was not the most prudent plan of action. It's time to face the truth: Every year your returns are going to be beaten by another investor, mutual fund, pension plan, etc. What separates greedy and return-hungry investors from successful ones is the ability to weigh the relationship between risk and return.\n",
      "\n",
      "\n",
      "Yes, investors with a higher risk tolerance should allocate more money into stocks. But if you can't remain invested through the short-term fluctuations of a bear market, you should cut your exposure to equities.\n",
      "\n",
      "\n",
      "2. Software and Planner Sheets\n",
      "Financial planning software and survey sheets designed by financial advisors or investment firms can be beneficial, but never rely solely on software or some pre-determined plan. For example, one old rule of thumb that some advisors use to determine the proportion a person should allocate to stocks is to subtract the person's age from 100. In other words, if you're 35, you should put 65% of your money into stocks and the remaining 35% into bonds, real estate, and cash. More recent advice has shifted to 110 or even 120 minus your age.\n",
      "\n",
      "\n",
      "But standard worksheets sometimes don't take into account other important information such as whether or not you are a parent, retiree, or spouse. Other times, these worksheets are based on a set of simple questions that don't capture your financial goals.\n",
      "\n",
      "Remember, financial institutions love to peg you into a standard plan not because it's best for you, but because it's easy for them. Rules of thumb and planner sheets can give people a rough guideline, but don't get boxed into what they tell you.\n",
      "\n",
      "3. Know Your Goals\n",
      "We all have goals. Whether you aspire to build a fat retirement fund, own a yacht or vacation home, pay for your child's education, or simply save for a new car, you should consider it in your asset-allocation plan. All these goals need to be considered when determining the right mix.\n",
      "\n",
      "For example, if you plan to own a retirement condo on the beach in 20 years, you don't have to worry about short-term fluctuations in the stock market. But if you have a child who will be entering college in five to six years, you may need to tilt your asset allocation to safer fixed-income investments. And as you approach retirement, you may want to shift to a higher proportion of fixed-income investments to equity holdings.\n",
      "\n",
      "4. Time Is Your Best Friend\n",
      "The U.S. Department of Labor has said that for every 10 years you delay saving for retirementâ€”or some other long-term goalâ€”you have to save three times as much each month to catch up.\n",
      "\n",
      "ï»¿\n",
      "\n",
      "Having time not only allows you to take advantage of compounding and the time value of money, but it also means you can put more of your portfolio into higher risk/return investments, namely stocks. A couple of bad years in the stock market will likely show up as nothing more than an insignificant blip 30 years from now.\n",
      "\n",
      "5. Just Do It!\n",
      "Once you determine the right mix of stocks, bonds, and other investments, it's time to implement it. The first step is to find out how your current portfolio breaks down.\n",
      "\n",
      "It's fairly straightforward to see the percentage of assets in stocks versus bonds, but don't forget to categorize what type of stocks you ownâ€”small, mid, or large cap. You should also categorize your bonds according to their maturityâ€”short, mid or long-term.\n",
      "\n",
      "Mutual funds can be more problematic. Fund names don't always tell the entire story. You have to dig deeper in the prospectus to figure out where fund assets are invested.\n",
      "\n",
      "The Bottom Line\n",
      "There is no single solution for allocating your assets. Individual investors require individual solutions. Furthermore, if a long-term horizon is something you don't have, don't worry. It's never too late to get started. It's also never too late to give your existing portfolio a face-lift. Asset allocation is not a one-time event, it's a life-long process of progression and fine-tuning. \n",
      "\n",
      "SPONSORED\n",
      "Win Up to $10,000 While Trading Digital Assets\n",
      "Digital asset trading just got easier. With OKX, a leading digital asset financial service provider, you can access world-class security as you trade and store assets. Whatâ€™s more, you can win a Mystery Box worth up to $10,000 when you complete a deposit of more than $50 through a crypto purchase or top-up within 30 days of registration. Learn more and sign up to claim your Mystery Box today.\n",
      "hello\n",
      "\n"
     ]
    }
   ],
   "source": [
    "# original text\n",
    "print(text)"
   ]
  },
  {
   "cell_type": "code",
   "execution_count": null,
   "id": "1036a77e",
   "metadata": {},
   "outputs": [],
   "source": []
  }
 ],
 "metadata": {
  "kernelspec": {
   "display_name": "Python 3 (ipykernel)",
   "language": "python",
   "name": "python3"
  },
  "language_info": {
   "codemirror_mode": {
    "name": "ipython",
    "version": 3
   },
   "file_extension": ".py",
   "mimetype": "text/x-python",
   "name": "python",
   "nbconvert_exporter": "python",
   "pygments_lexer": "ipython3",
   "version": "3.9.2"
  },
  "vscode": {
   "interpreter": {
    "hash": "a2855dcd1446957b995c617c7eb571a1440b2353b6f13a4547fcc7eb2a499362"
   }
  }
 },
 "nbformat": 4,
 "nbformat_minor": 5
}
