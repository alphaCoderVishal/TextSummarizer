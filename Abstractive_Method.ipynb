{
 "cells": [
  {
   "cell_type": "markdown",
   "id": "6ef6bb41",
   "metadata": {},
   "source": [
    "# Abstractive:\n",
    "generate new text that captures the most relevant information.\n"
   ]
  },
  {
   "cell_type": "code",
   "execution_count": 1,
   "id": "e0c8e8c9",
   "metadata": {},
   "outputs": [],
   "source": [
    "#!pip install transformers da"
   ]
  },
  {
   "cell_type": "code",
   "execution_count": 2,
   "id": "431b33a4",
   "metadata": {},
   "outputs": [],
   "source": [
    "#!pip install transformers datasets evaluate rouge_score"
   ]
  },
  {
   "cell_type": "code",
   "execution_count": 3,
   "id": "ab4f1c18",
   "metadata": {},
   "outputs": [],
   "source": [
    "#!pip install --upgrade pip"
   ]
  },
  {
   "cell_type": "code",
   "execution_count": 4,
   "id": "9c2d29e8",
   "metadata": {},
   "outputs": [
    {
     "data": {
      "application/vnd.jupyter.widget-view+json": {
       "model_id": "5c3c81e3245343d2b4e52f139a84bb51",
       "version_major": 2,
       "version_minor": 0
      },
      "text/plain": [
       "VBox(children=(HTML(value='<center> <img\\nsrc=https://huggingface.co/front/assets/huggingface_logo-noborder.sv…"
      ]
     },
     "metadata": {},
     "output_type": "display_data"
    }
   ],
   "source": [
    "from huggingface_hub import notebook_login\n",
    "\n",
    "notebook_login()"
   ]
  },
  {
   "cell_type": "code",
   "execution_count": 5,
   "id": "87b0978d",
   "metadata": {},
   "outputs": [
    {
     "name": "stderr",
     "output_type": "stream",
     "text": [
      "Found cached dataset billsum (C:/Users/vishal567795/.cache/huggingface/datasets/billsum/default/3.0.0/75cf1719d38d6553aa0e0714c393c74579b083ae6e164b2543684e3e92e0c4cc)\n"
     ]
    }
   ],
   "source": [
    "# so we are using the billsum data set here\n",
    "from datasets import load_dataset\n",
    "\n",
    "billsum = load_dataset(\"billsum\", split=\"ca_test\")"
   ]
  },
  {
   "cell_type": "code",
   "execution_count": null,
   "id": "096f8e36",
   "metadata": {},
   "outputs": [],
   "source": []
  },
  {
   "cell_type": "code",
   "execution_count": 6,
   "id": "db6a14ef",
   "metadata": {},
   "outputs": [],
   "source": [
    "#Split the dataset into a train and test set with the train_test_split method:\n",
    "billsum = billsum.train_test_split(test_size=0.2)"
   ]
  },
  {
   "cell_type": "code",
   "execution_count": 7,
   "id": "ed685c70",
   "metadata": {},
   "outputs": [
    {
     "data": {
      "text/plain": [
       "{'text': 'The people of the State of California do enact as follows:\\n\\n\\nSECTION 1.\\nSection 12804.9 of the Vehicle Code is amended to read:\\n12804.9.\\n(a) (1) The examination shall include all of the following:\\n(A) A test of the applicant’s knowledge and understanding of the provisions of this code governing the operation of vehicles upon the\\nhighways.\\nhighways, including, but not limited to,\\nprovisions relating to\\nsafe overtaking and passing, including, but not limited to, Section 21753.\\n(B) A test of the applicant’s ability to read and understand simple English used in highway traffic and directional signs.\\n(C) A test of the applicant’s understanding of traffic signs and signals, including the bikeway signs, markers, and traffic control devices established by the Department of Transportation.\\n(D) An actual demonstration of the applicant’s ability to exercise ordinary and reasonable control in operating a motor vehicle by driving it under the supervision of an examining officer. The applicant shall submit to an examination appropriate to the type of motor vehicle or combination of vehicles he or she desires a license to drive, except that the department may waive the driving test part of the examination for any applicant who submits a license issued by another state, territory, or possession of the United States, the District of Columbia, or the Commonwealth of Puerto Rico if the department verifies through any acknowledged national driver record data source that there are no stops, holds, or other impediments to its issuance. The examining officer may request to see evidence of financial responsibility for the vehicle prior to supervising the demonstration of the applicant’s ability to operate the vehicle. The examining officer may refuse to examine an applicant who is unable to provide proof of financial responsibility for the vehicle, unless proof of financial responsibility is not required by this code.\\n(E) A test of the hearing and eyesight of the applicant, and of other matters that may be necessary to determine the applicant’s mental and physical fitness to operate a motor vehicle upon the highways, and whether any grounds exist for refusal of a license under this code.\\n(2) (A) Before a class A or class B driver’s license, or class C driver’s license with a commercial endorsement, may be issued or renewed, the applicant shall have in his or her driver record a valid report of a medical examination of the applicant given not more than two years prior to the date of the application by a health care professional. As used in this paragraph, “health care professional” means a person who is licensed, certified, or registered in accordance with applicable state laws and regulations to practice medicine and perform physical examinations in the United States. Health care professionals are doctors of medicine, doctors of osteopathy, physician assistants, and registered advanced practice nurses, or doctors of chiropractic who are clinically competent to perform the medical examination presently required of motor carrier drivers by the United States Department of Transportation. The report shall be on a form approved by the department. In establishing the requirements, consideration may be given to the standards presently required of motor carrier drivers by the Federal Motor Carrier Safety Administration.\\n(B) The department may accept a federal waiver of one or more physical qualification standards if the waiver is accompanied by a report of a nonqualifying medical examination for a class A or class B driver’s license, or class C driver’s license with a commercial endorsement, pursuant to Section 391.41(a)(3)(ii) of Subpart E of Part 391 of Title 49 of the Code of Federal Regulations.\\n(3) A physical defect of the applicant that, in the opinion of the department, is compensated for to ensure safe driving ability, shall not prevent the issuance of a license to the applicant.\\n(b) In accordance with the following classifications, an applicant for a driver’s license shall be required to submit to an examination appropriate to the type of motor vehicle or combination of vehicles the applicant desires a license to drive:\\n(1) Class A includes the following:\\n(A) Except as provided in subparagraph (H) of paragraph (3), a combination of vehicles, if a vehicle being towed has a gross vehicle weight rating or gross vehicle weight of more than 10,000 pounds.\\n(B) A vehicle towing more than one vehicle.\\n(C) A trailer bus.\\n(D) The operation of all vehicles under class B and class C.\\n(2) Class B includes the following:\\n(A) Except as provided in subparagraph (H) of paragraph (3), a single vehicle with a gross vehicle weight rating or gross vehicle weight of more than 26,000 pounds.\\n(B) A single vehicle with three or more axles, except any three-axle vehicle weighing less than 6,000 pounds.\\n(C) A bus with a gross vehicle weight rating or gross vehicle weight of more than 26,000 pounds, except a trailer bus.\\n(D) A farm labor vehicle.\\n(E) A single vehicle with three or more axles or a gross vehicle weight rating or gross vehicle weight of more than 26,000 pounds towing another vehicle with a gross vehicle weight rating or gross vehicle weight of 10,000 pounds or less.\\n(F) A house car over 40 feet in length, excluding safety devices and safety bumpers.\\n(G) The operation of all vehicles covered under class C.\\n(3) Class C includes the following:\\n(A) A two-axle vehicle with a gross vehicle weight rating or gross vehicle weight of 26,000 pounds or less, including when the vehicle is towing a trailer or semitrailer with a gross vehicle weight rating or gross vehicle weight of 10,000 pounds or less.\\n(B) Notwithstanding subparagraph (A), a two-axle vehicle weighing 4,000 pounds or more unladen when towing a trailer coach not exceeding 9,000 pounds gross.\\n(C) A house car of 40 feet in length or less.\\n(D) A three-axle vehicle weighing 6,000 pounds gross or less.\\n(E) A house car of 40 feet in length or less or a vehicle towing another vehicle with a gross vehicle weight rating of 10,000 pounds or less, including when a tow dolly is used. A person driving a vehicle may not tow another vehicle in violation of Section 21715.\\n(F) (i) A two-axle vehicle weighing 4,000 pounds or more unladen when towing either a trailer coach or a fifth-wheel travel trailer not exceeding 10,000 pounds gross vehicle weight rating, when the towing of the trailer is not for compensation.\\n(ii) A two-axle vehicle weighing 4,000 pounds or more unladen when towing a fifth-wheel travel trailer exceeding 10,000 pounds, but not exceeding 15,000 pounds, gross vehicle weight rating, when the towing of the trailer is not for compensation, and if the person has passed a specialized written examination provided by the department relating to the knowledge of this code and other safety aspects governing the towing of recreational vehicles upon the highway.\\nThe authority to operate combinations of vehicles under this subparagraph may be granted by endorsement on a class C license upon completion of that written examination.\\n(G) A vehicle or combination of vehicles with a gross combination weight rating or a gross vehicle weight rating, as those terms are defined in subdivisions (j) and (k), respectively, of Section 15210, of 26,000 pounds or less, if all of the following conditions are met:\\n(i) Is operated by a farmer, an employee of a farmer, or an instructor credentialed in agriculture as part of an instructional program in agriculture at the high school, community college, or university level.\\n(ii) Is used exclusively in the conduct of agricultural operations.\\n(iii) Is not used in the capacity of a for-hire carrier or for compensation.\\n(H) Firefighting equipment, provided that the equipment is operated by a person who holds a firefighter endorsement pursuant to Section 12804.11.\\n(I) A motorized scooter.\\n(J) A bus with a gross vehicle weight rating or gross vehicle weight of 26,000 pounds or less, except a trailer bus.\\n(K)  Class C does not include a two-wheel motorcycle or a two-wheel motor-driven cycle.\\n(4) Class M1. A two-wheel motorcycle or a motor-driven cycle. Authority to operate a vehicle included in a class M1 license may be granted by endorsement on a class A, B, or C license upon completion of an appropriate examination.\\n(5) (A) Class M2 includes the following:\\n(i) A motorized bicycle or moped, or a bicycle with an attached motor, except a motorized bicycle described in subdivision (b) of Section 406.\\n(ii) A motorized scooter.\\n(B) Authority to operate vehicles included in class M2 may be granted by endorsement on a class A, B, or C license upon completion of an appropriate examination, except that no endorsement is required for a motorized scooter. Persons holding a class M1 license or endorsement may operate vehicles included in class M2 without further examination.\\n(c) A driver’s license or driver certificate is not valid for operating a commercial motor vehicle, as defined in subdivision (b) of Section 15210, any other motor vehicle defined in paragraph (1) or (2) of subdivision (b), or any other vehicle requiring a driver to hold any driver certificate or any driver’s license endorsement under Section 15275, unless a medical certificate approved by the department that has been issued within two years of the date of the operation of that vehicle and a copy of the medical examination report from which the certificate was issued is on file with the department. Otherwise, the license is valid only for operating class C vehicles that are not commercial vehicles, as defined in subdivision (b) of Section 15210, and for operating class M1 or M2 vehicles, if so endorsed, that are not commercial vehicles, as defined in subdivision (b) of Section 15210.\\n(d) A license or driver certificate issued prior to the enactment of Chapter 7 (commencing with Section 15200) is valid to operate the class or type of vehicles specified under the law in existence prior to that enactment until the license or certificate expires or is otherwise suspended, revoked, or canceled. Upon application for renewal or replacement of a driver’s license, endorsement, or certificate required to operate a commercial motor vehicle, a valid medical certificate on a form approved by the department shall be submitted to the department.\\n(e) The department may accept a certificate of driving skill that is issued by an employer, authorized by the department to issue a certificate under Section 15250, of the applicant, in lieu of a driving test, on class A or B applications, if the applicant has first qualified for a class C license and has met the other examination requirements for the license for which he or she is applying. The certificate may be submitted as evidence of the applicant’s skill in the operation of the types of equipment covered by the license for which he or she is applying.\\n(f) The department may accept a certificate of competence in lieu of a driving test on class M1 or M2 applications, when the certificate is issued by a law enforcement agency for its officers who operate class M1 or M2 vehicles in their duties, if the applicant has met the other examination requirements for the license for which he or she is applying.\\n(g) The department may accept a certificate of satisfactory completion of a novice motorcyclist training program approved by the commissioner pursuant to Section 2932 in lieu of a driving test on class M1 or M2 applications, if the applicant has met the other examination requirements for the license for which he or she is applying. The department shall review and approve the written and driving test used by a program to determine whether the program may issue a certificate of completion.\\n(h) Notwithstanding subdivision (b), a person holding a valid California driver’s license of any class may operate a short-term rental motorized bicycle without taking any special examination for the operation of a motorized bicycle, and without having a class M2 endorsement on that license. As used in this subdivision, “short-term” means 48 hours or less.\\n(i) A person under the age of 21 years shall not be issued a class M1 or M2 license or endorsement unless he or she provides evidence satisfactory to the department of completion of a motorcycle safety training program that is operated pursuant to Article 2 (commencing with Section 2930) of Chapter 5 of Division 2.\\n(j) A driver of a vanpool vehicle may operate with a class C license but shall possess evidence of a medical examination required for a class B license when operating vanpool vehicles. In order to be eligible to drive the vanpool vehicle, the driver shall keep in the vanpool vehicle a statement, signed under penalty of perjury, that he or she has not been convicted of reckless driving, drunk driving, or a hit-and-run offense in the last five years.',\n",
       " 'summary': 'Under existing law, upon application for an original driver’s license, except student licenses, the Department of Motor Vehicles shall require an examination of the applicant. Existing law requires that the examination test the applicant’s knowledge and understanding of, among other things, the provisions of the Vehicle Code governing the operation of vehicles upon the highways.\\nThis bill would require the test of the applicant’s knowledge and understanding of the operation of vehicles on the highway to include provisions that cover safe overtaking and passing, as specified.',\n",
       " 'title': 'An act to amend Section 12804.9 of the Vehicle Code, relating to driver’s licenses.'}"
      ]
     },
     "execution_count": 7,
     "metadata": {},
     "output_type": "execute_result"
    }
   ],
   "source": [
    "billsum[\"train\"][0]"
   ]
  },
  {
   "cell_type": "markdown",
   "id": "eec775b1",
   "metadata": {},
   "source": [
    "There are two fields that you’ll want to use:\n",
    "\n",
    "text: the text of the bill which’ll be the input to the model.\n",
    "summary: a condensed version of text which’ll be the model target."
   ]
  },
  {
   "cell_type": "markdown",
   "id": "3aef91a5",
   "metadata": {},
   "source": [
    "# Preprocessing"
   ]
  },
  {
   "cell_type": "code",
   "execution_count": 8,
   "id": "3c1a38e5",
   "metadata": {},
   "outputs": [],
   "source": [
    "# The next step is to load a T5 tokenizer to process text and summary:\n",
    "from transformers import AutoTokenizer\n",
    "\n",
    "checkpoint = \"t5-small\"\n",
    "tokenizer = AutoTokenizer.from_pretrained(checkpoint)"
   ]
  },
  {
   "cell_type": "markdown",
   "id": "91dba4e0",
   "metadata": {},
   "source": [
    "The preprocessing function you want to create needs to:\n",
    "\n",
    "1.Prefix the input with a prompt so T5 knows this is a summarization task. Some models capable of multiple NLP tasks require prompting for specific tasks.\n",
    "2.Use the keyword text_target argument when tokenizing labels.\n",
    "3.Truncate sequences to be no longer than the maximum length set by the max_length parameter."
   ]
  },
  {
   "cell_type": "code",
   "execution_count": 9,
   "id": "13e907af",
   "metadata": {},
   "outputs": [],
   "source": [
    "prefix = \"summarize: \"\n",
    "\n",
    "\n",
    "def preprocess_function(examples):\n",
    "    inputs = [prefix + doc for doc in examples[\"text\"]]\n",
    "    model_inputs = tokenizer(inputs, max_length=1024, truncation=True)\n",
    "\n",
    "    labels = tokenizer(text_target=examples[\"summary\"], max_length=128, truncation=True)\n",
    "\n",
    "    model_inputs[\"labels\"] = labels[\"input_ids\"]\n",
    "    return model_inputs"
   ]
  },
  {
   "cell_type": "markdown",
   "id": "9b5e9ef8",
   "metadata": {},
   "source": [
    "To apply the preprocessing function over the entire dataset, use 🤗 Datasets map method. You can speed up the map function by setting batched=True to process multiple elements of the dataset at once:"
   ]
  },
  {
   "cell_type": "code",
   "execution_count": 10,
   "id": "dfb52448",
   "metadata": {},
   "outputs": [
    {
     "data": {
      "application/vnd.jupyter.widget-view+json": {
       "model_id": "",
       "version_major": 2,
       "version_minor": 0
      },
      "text/plain": [
       "Map:   0%|          | 0/989 [00:00<?, ? examples/s]"
      ]
     },
     "metadata": {},
     "output_type": "display_data"
    },
    {
     "data": {
      "application/vnd.jupyter.widget-view+json": {
       "model_id": "",
       "version_major": 2,
       "version_minor": 0
      },
      "text/plain": [
       "Map:   0%|          | 0/248 [00:00<?, ? examples/s]"
      ]
     },
     "metadata": {},
     "output_type": "display_data"
    }
   ],
   "source": [
    "tokenized_billsum = billsum.map(preprocess_function, batched=True)\n"
   ]
  },
  {
   "cell_type": "markdown",
   "id": "76b18d4f",
   "metadata": {},
   "source": [
    "Now create a batch of examples using DataCollatorForSeq2Seq. It’s more efficient to dynamically pad the sentences to the longest length in a batch during collation, instead of padding the whole dataset to the maximum length."
   ]
  },
  {
   "cell_type": "code",
   "execution_count": 11,
   "id": "25dcfc21",
   "metadata": {},
   "outputs": [],
   "source": [
    "from transformers import DataCollatorForSeq2Seq\n",
    "\n",
    "data_collator = DataCollatorForSeq2Seq(tokenizer=tokenizer, model=checkpoint, return_tensors=\"tf\")"
   ]
  },
  {
   "cell_type": "markdown",
   "id": "ef157162",
   "metadata": {},
   "source": [
    "# Evaluate"
   ]
  },
  {
   "cell_type": "markdown",
   "id": "94a9b3e6",
   "metadata": {},
   "source": [
    "Including a metric during training is often helpful for evaluating your model’s performance. You can quickly load a evaluation method with the 🤗 Evaluate library. For this task, load the ROUGE metric (see the 🤗 Evaluate quick tour to learn more about how to load and compute a metric):"
   ]
  },
  {
   "cell_type": "code",
   "execution_count": 12,
   "id": "f8ca98c1",
   "metadata": {},
   "outputs": [],
   "source": [
    "import evaluate\n",
    "\n",
    "rouge = evaluate.load(\"rouge\")"
   ]
  },
  {
   "cell_type": "markdown",
   "id": "7c009730",
   "metadata": {},
   "source": [
    "Then create a function that passes your predictions and labels to compute to calculate the ROUGE metric:"
   ]
  },
  {
   "cell_type": "code",
   "execution_count": 13,
   "id": "017b2369",
   "metadata": {},
   "outputs": [],
   "source": [
    "import numpy as np\n",
    "\n",
    "\n",
    "def compute_metrics(eval_pred):\n",
    "    predictions, labels = eval_pred\n",
    "    decoded_preds = tokenizer.batch_decode(predictions, skip_special_tokens=True)\n",
    "    labels = np.where(labels != -100, labels, tokenizer.pad_token_id)\n",
    "    decoded_labels = tokenizer.batch_decode(labels, skip_special_tokens=True)\n",
    "\n",
    "    result = rouge.compute(predictions=decoded_preds, references=decoded_labels, use_stemmer=True)\n",
    "\n",
    "    prediction_lens = [np.count_nonzero(pred != tokenizer.pad_token_id) for pred in predictions]\n",
    "    result[\"gen_len\"] = np.mean(prediction_lens)\n",
    "\n",
    "    return {k: round(v, 4) for k, v in result.items()}"
   ]
  },
  {
   "cell_type": "markdown",
   "id": "86cb5655",
   "metadata": {},
   "source": [
    "Your compute_metrics function is ready to go now, and you’ll return to it when you setup your training."
   ]
  },
  {
   "cell_type": "markdown",
   "id": "04a6c709",
   "metadata": {},
   "source": [
    "# Train"
   ]
  },
  {
   "cell_type": "markdown",
   "id": "56338c4f",
   "metadata": {},
   "source": [
    "You’re ready to start training your model now! Load T5 with AutoModelForSeq2SeqLM:"
   ]
  },
  {
   "cell_type": "code",
   "execution_count": 14,
   "id": "b3d481fd",
   "metadata": {},
   "outputs": [],
   "source": [
    "from transformers import create_optimizer, AdamWeightDecay\n",
    "\n",
    "optimizer = AdamWeightDecay(learning_rate=2e-5, weight_decay_rate=0.01)"
   ]
  },
  {
   "cell_type": "code",
   "execution_count": 15,
   "id": "122337a2",
   "metadata": {},
   "outputs": [
    {
     "name": "stderr",
     "output_type": "stream",
     "text": [
      "All model checkpoint layers were used when initializing TFT5ForConditionalGeneration.\n",
      "\n",
      "All the layers of TFT5ForConditionalGeneration were initialized from the model checkpoint at t5-small.\n",
      "If your task is similar to the task the model of the checkpoint was trained on, you can already use TFT5ForConditionalGeneration for predictions without further training.\n"
     ]
    }
   ],
   "source": [
    "#pip3 install torch torchvision torchaudio --index-url https://download.pytorch.org/whl/cu117\n",
    "from transformers import TFAutoModelForSeq2SeqLM\n",
    "\n",
    "model = TFAutoModelForSeq2SeqLM.from_pretrained(checkpoint)"
   ]
  },
  {
   "cell_type": "code",
   "execution_count": 16,
   "id": "e56952fa",
   "metadata": {},
   "outputs": [
    {
     "name": "stderr",
     "output_type": "stream",
     "text": [
      "You're using a T5TokenizerFast tokenizer. Please note that with a fast tokenizer, using the `__call__` method is faster than using a method to encode the text followed by a call to the `pad` method to get a padded encoding.\n",
      "c:\\users\\vishal567795\\appdata\\local\\programs\\python\\python39\\lib\\site-packages\\datasets\\arrow_dataset.py:388: FutureWarning: The output of `to_tf_dataset` will change when a passing single element list for `labels` or `columns` in the next datasets version. To return a tuple structure rather than dict, pass a single string.\n",
      "Old behaviour: columns=['a'], labels=['labels'] -> (tf.Tensor, tf.Tensor)  \n",
      "             : columns='a', labels='labels' -> (tf.Tensor, tf.Tensor)  \n",
      "New behaviour: columns=['a'],labels=['labels'] -> ({'a': tf.Tensor}, {'labels': tf.Tensor})  \n",
      "             : columns='a', labels='labels' -> (tf.Tensor, tf.Tensor) \n",
      "  warnings.warn(\n"
     ]
    }
   ],
   "source": [
    "tf_train_set = model.prepare_tf_dataset(\n",
    "    tokenized_billsum[\"train\"],\n",
    "    shuffle=True,\n",
    "    batch_size=16,\n",
    "    collate_fn=data_collator,\n",
    ")\n",
    "\n",
    "tf_test_set = model.prepare_tf_dataset(\n",
    "    tokenized_billsum[\"test\"],\n",
    "    shuffle=False,\n",
    "    batch_size=16,\n",
    "    collate_fn=data_collator,\n",
    ")"
   ]
  },
  {
   "cell_type": "code",
   "execution_count": 17,
   "id": "c2e3c410",
   "metadata": {},
   "outputs": [
    {
     "name": "stderr",
     "output_type": "stream",
     "text": [
      "No loss specified in compile() - the model's internal loss computation will be used as the loss. Don't panic - this is a common way to train TensorFlow models in Transformers! To disable this behaviour please pass a loss argument, or explicitly pass `loss=None` if you do not want your model to compute a loss.\n"
     ]
    }
   ],
   "source": [
    "import tensorflow as tf\n",
    "\n",
    "model.compile(optimizer=optimizer)"
   ]
  },
  {
   "cell_type": "code",
   "execution_count": 18,
   "id": "99341a29",
   "metadata": {},
   "outputs": [],
   "source": [
    "from transformers.keras_callbacks import KerasMetricCallback\n",
    "\n",
    "metric_callback = KerasMetricCallback(metric_fn=compute_metrics, eval_dataset=tf_test_set)"
   ]
  },
  {
   "cell_type": "code",
   "execution_count": 19,
   "id": "921088fb",
   "metadata": {},
   "outputs": [
    {
     "name": "stderr",
     "output_type": "stream",
     "text": [
      "C:\\Users\\vishal567795\\Desktop\\Text_Summarizer\\my_awesome_billsum_model is already a clone of https://huggingface.co/vishal567795/my_awesome_billsum_model. Make sure you pull the latest changes with `repo.git_pull()`.\n"
     ]
    }
   ],
   "source": [
    "from transformers.keras_callbacks import PushToHubCallback\n",
    "\n",
    "push_to_hub_callback = PushToHubCallback(\n",
    "    output_dir=\"my_awesome_billsum_model\",\n",
    "    tokenizer=tokenizer,\n",
    ")"
   ]
  },
  {
   "cell_type": "code",
   "execution_count": 20,
   "id": "82b30346",
   "metadata": {},
   "outputs": [],
   "source": [
    "callbacks = [metric_callback, push_to_hub_callback]"
   ]
  },
  {
   "cell_type": "code",
   "execution_count": 21,
   "id": "7ebce045",
   "metadata": {
    "scrolled": false
   },
   "outputs": [],
   "source": [
    "#model.fit(x=tf_train_set, validation_data=tf_test_set, epochs=3, callbacks=callbacks)      "
   ]
  },
  {
   "cell_type": "code",
   "execution_count": 22,
   "id": "c332a528",
   "metadata": {},
   "outputs": [],
   "source": [
    "text = \"\"\"“The Two Temples”\n",
    "A man visits two temples, one in New York and one in England. In part 1, Temple First, a man walks three miles to a temple only to find he can’t get in. The church warden refuses him entry because he looks too poor. The man notices a side door, which he thinks leads up to the tower. He sneaks in, climbing the fifty stone steps to the upper floor. He’s able to look through a gap in a window at the service. In part 2, Temple Second, a stranger in London who owes his landlord money needs something to do until he can sneak back to his room. He ends up at a theatre. He wants to go in but doesn’t have enough for a ticket. While thinking about pawning his overcoat, a man suddenly approaches and gives him a free ticket.\"\"\""
   ]
  },
  {
   "cell_type": "code",
   "execution_count": 23,
   "id": "bc58f1c3",
   "metadata": {},
   "outputs": [
    {
     "name": "stderr",
     "output_type": "stream",
     "text": [
      "c:\\users\\vishal567795\\appdata\\local\\programs\\python\\python39\\lib\\site-packages\\transformers\\generation\\utils.py:1219: UserWarning: You have modified the pretrained model configuration to control generation. This is a deprecated strategy to control generation and will be removed soon, in a future version. Please use a generation configuration file (see https://huggingface.co/docs/transformers/main_classes/text_generation)\n",
      "  warnings.warn(\n"
     ]
    },
    {
     "data": {
      "text/plain": [
       "[{'summary_text': 'In part 1, a man walks three miles to a temple only to find he can’t get in . the church warden refuses him entry because he looks too poor. The man notices a side door, which he thinks leads up to the tower.'}]"
      ]
     },
     "execution_count": 23,
     "metadata": {},
     "output_type": "execute_result"
    }
   ],
   "source": [
    "from transformers import pipeline\n",
    "\n",
    "summarizer = pipeline(\"summarization\", model=\"stevhliu/my_awesome_billsum_model\")\n",
    "summarizer(text)"
   ]
  },
  {
   "cell_type": "code",
   "execution_count": 24,
   "id": "ada5e3e7",
   "metadata": {},
   "outputs": [],
   "source": [
    "from transformers import AutoTokenizer\n",
    "\n",
    "tokenizer = AutoTokenizer.from_pretrained(\"stevhliu/my_awesome_billsum_model\")\n",
    "inputs = tokenizer(text, return_tensors=\"tf\").input_ids"
   ]
  },
  {
   "cell_type": "code",
   "execution_count": 25,
   "id": "467bff7d",
   "metadata": {},
   "outputs": [
    {
     "name": "stderr",
     "output_type": "stream",
     "text": [
      "Some weights of the PyTorch model were not used when initializing the TF 2.0 model TFT5ForConditionalGeneration: ['lm_head.weight', 'encoder.embed_tokens.weight', 'decoder.embed_tokens.weight']\n",
      "- This IS expected if you are initializing TFT5ForConditionalGeneration from a PyTorch model trained on another task or with another architecture (e.g. initializing a TFBertForSequenceClassification model from a BertForPreTraining model).\n",
      "- This IS NOT expected if you are initializing TFT5ForConditionalGeneration from a PyTorch model that you expect to be exactly identical (e.g. initializing a TFBertForSequenceClassification model from a BertForSequenceClassification model).\n",
      "All the weights of TFT5ForConditionalGeneration were initialized from the PyTorch model.\n",
      "If your task is similar to the task the model of the checkpoint was trained on, you can already use TFT5ForConditionalGeneration for predictions without further training.\n"
     ]
    }
   ],
   "source": [
    "from transformers import TFAutoModelForSeq2SeqLM\n",
    "\n",
    "model = TFAutoModelForSeq2SeqLM.from_pretrained(\"stevhliu/my_awesome_billsum_model\",from_pt=True)\n",
    "outputs = model.generate(inputs, max_new_tokens=100, do_sample=False)"
   ]
  },
  {
   "cell_type": "code",
   "execution_count": 26,
   "id": "b852d173",
   "metadata": {},
   "outputs": [
    {
     "data": {
      "text/plain": [
       "'a man visits two temples, one in New York and one in England. In part 1, Temple Second, a man walks three miles to a temple only to find he can’t get in. The church warden refuses him entry because he looks too poor. The church warden refuses him entry because he looks too poor. The man notices a side door, which he thinks leads up to the tower. He sneaks in,'"
      ]
     },
     "execution_count": 26,
     "metadata": {},
     "output_type": "execute_result"
    }
   ],
   "source": [
    "tokenizer.decode(outputs[0], skip_special_tokens=True)"
   ]
  },
  {
   "cell_type": "code",
   "execution_count": 27,
   "id": "99610d26",
   "metadata": {},
   "outputs": [],
   "source": [
    "\n",
    "#!pip freeze requirement.txt"
   ]
  },
  {
   "cell_type": "code",
   "execution_count": null,
   "id": "31a945c3",
   "metadata": {},
   "outputs": [],
   "source": []
  },
  {
   "cell_type": "code",
   "execution_count": null,
   "id": "4a098c5f",
   "metadata": {},
   "outputs": [],
   "source": []
  },
  {
   "cell_type": "code",
   "execution_count": null,
   "id": "315ad276",
   "metadata": {},
   "outputs": [],
   "source": []
  }
 ],
 "metadata": {
  "kernelspec": {
   "display_name": "Python 3 (ipykernel)",
   "language": "python",
   "name": "python3"
  },
  "language_info": {
   "codemirror_mode": {
    "name": "ipython",
    "version": 3
   },
   "file_extension": ".py",
   "mimetype": "text/x-python",
   "name": "python",
   "nbconvert_exporter": "python",
   "pygments_lexer": "ipython3",
   "version": "3.9.2"
  }
 },
 "nbformat": 4,
 "nbformat_minor": 5
}
