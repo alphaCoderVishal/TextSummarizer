{
 "cells": [
  {
   "cell_type": "markdown",
   "id": "6ef6bb41",
   "metadata": {},
   "source": [
    "# Abstractive:\n",
    "generate new text that captures the most relevant information.\n"
   ]
  },
  {
   "cell_type": "code",
   "execution_count": 1,
   "id": "431b33a4",
   "metadata": {},
   "outputs": [
    {
     "name": "stdout",
     "output_type": "stream",
     "text": [
      "Collecting transformers\n",
      "  Downloading transformers-4.28.1-py3-none-any.whl (7.0 MB)\n",
      "     ---------------------------------------- 7.0/7.0 MB 389.7 kB/s eta 0:00:00\n",
      "Collecting datasets\n",
      "  Downloading datasets-2.12.0-py3-none-any.whl (474 kB)\n",
      "     ------------------------------------ 474.6/474.6 kB 306.3 kB/s eta 0:00:00\n",
      "Collecting evaluate\n",
      "  Downloading evaluate-0.4.0-py3-none-any.whl (81 kB)\n",
      "     -------------------------------------- 81.4/81.4 kB 228.2 kB/s eta 0:00:00\n",
      "Collecting rouge_score\n",
      "  Downloading rouge_score-0.1.2.tar.gz (17 kB)\n",
      "  Preparing metadata (setup.py): started\n",
      "  Preparing metadata (setup.py): finished with status 'done'\n",
      "Requirement already satisfied: numpy>=1.17 in c:\\users\\vishal567795\\appdata\\local\\programs\\python\\python39\\lib\\site-packages (from transformers) (1.23.5)\n",
      "Collecting pyyaml>=5.1\n",
      "  Downloading PyYAML-6.0-cp39-cp39-win_amd64.whl (151 kB)\n",
      "     ------------------------------------ 151.6/151.6 kB 335.1 kB/s eta 0:00:00\n",
      "Requirement already satisfied: tqdm>=4.27 in c:\\users\\vishal567795\\appdata\\local\\programs\\python\\python39\\lib\\site-packages (from transformers) (4.64.1)\n",
      "Requirement already satisfied: filelock in c:\\users\\vishal567795\\appdata\\local\\programs\\python\\python39\\lib\\site-packages (from transformers) (3.9.0)\n",
      "Requirement already satisfied: packaging>=20.0 in c:\\users\\vishal567795\\appdata\\local\\programs\\python\\python39\\lib\\site-packages (from transformers) (21.3)\n",
      "Collecting huggingface-hub<1.0,>=0.11.0\n",
      "  Downloading huggingface_hub-0.14.1-py3-none-any.whl (224 kB)\n",
      "     ------------------------------------ 224.5/224.5 kB 456.8 kB/s eta 0:00:00\n",
      "Requirement already satisfied: regex!=2019.12.17 in c:\\users\\vishal567795\\appdata\\local\\programs\\python\\python39\\lib\\site-packages (from transformers) (2022.10.31)\n",
      "Requirement already satisfied: requests in c:\\users\\vishal567795\\appdata\\local\\programs\\python\\python39\\lib\\site-packages (from transformers) (2.28.1)\n",
      "Collecting tokenizers!=0.11.3,<0.14,>=0.11.1\n",
      "  Downloading tokenizers-0.13.3-cp39-cp39-win_amd64.whl (3.5 MB)\n",
      "     ---------------------------------------- 3.5/3.5 MB 509.0 kB/s eta 0:00:00\n",
      "Collecting dill<0.3.7,>=0.3.0\n",
      "  Downloading dill-0.3.6-py3-none-any.whl (110 kB)\n",
      "     -------------------------------------- 110.5/110.5 kB 1.1 MB/s eta 0:00:00\n",
      "Requirement already satisfied: aiohttp in c:\\users\\vishal567795\\appdata\\local\\programs\\python\\python39\\lib\\site-packages (from datasets) (3.8.4)\n",
      "Collecting fsspec[http]>=2021.11.1\n",
      "  Downloading fsspec-2023.4.0-py3-none-any.whl (153 kB)\n",
      "     ------------------------------------ 154.0/154.0 kB 542.4 kB/s eta 0:00:00\n",
      "Collecting pyarrow>=8.0.0\n",
      "  Downloading pyarrow-11.0.0-cp39-cp39-win_amd64.whl (20.6 MB)\n",
      "     -------------------------------------- 20.6/20.6 MB 826.1 kB/s eta 0:00:00\n",
      "Collecting multiprocess\n",
      "  Downloading multiprocess-0.70.14-py39-none-any.whl (132 kB)\n",
      "     -------------------------------------- 132.9/132.9 kB 1.1 MB/s eta 0:00:00\n",
      "Requirement already satisfied: pandas in c:\\users\\vishal567795\\appdata\\local\\programs\\python\\python39\\lib\\site-packages (from datasets) (1.5.0)\n",
      "Collecting xxhash\n",
      "  Downloading xxhash-3.2.0-cp39-cp39-win_amd64.whl (30 kB)\n",
      "Collecting responses<0.19\n",
      "  Downloading responses-0.18.0-py3-none-any.whl (38 kB)\n",
      "Requirement already satisfied: absl-py in c:\\users\\vishal567795\\appdata\\local\\programs\\python\\python39\\lib\\site-packages (from rouge_score) (1.3.0)\n",
      "Requirement already satisfied: nltk in c:\\users\\vishal567795\\appdata\\local\\programs\\python\\python39\\lib\\site-packages (from rouge_score) (3.8.1)\n",
      "Requirement already satisfied: six>=1.14.0 in c:\\users\\vishal567795\\appdata\\local\\programs\\python\\python39\\lib\\site-packages (from rouge_score) (1.16.0)\n",
      "Requirement already satisfied: multidict<7.0,>=4.5 in c:\\users\\vishal567795\\appdata\\local\\programs\\python\\python39\\lib\\site-packages (from aiohttp->datasets) (6.0.4)\n",
      "Requirement already satisfied: async-timeout<5.0,>=4.0.0a3 in c:\\users\\vishal567795\\appdata\\local\\programs\\python\\python39\\lib\\site-packages (from aiohttp->datasets) (4.0.2)\n",
      "Requirement already satisfied: aiosignal>=1.1.2 in c:\\users\\vishal567795\\appdata\\local\\programs\\python\\python39\\lib\\site-packages (from aiohttp->datasets) (1.3.1)\n",
      "Requirement already satisfied: yarl<2.0,>=1.0 in c:\\users\\vishal567795\\appdata\\local\\programs\\python\\python39\\lib\\site-packages (from aiohttp->datasets) (1.8.2)\n",
      "Requirement already satisfied: attrs>=17.3.0 in c:\\users\\vishal567795\\appdata\\local\\programs\\python\\python39\\lib\\site-packages (from aiohttp->datasets) (22.1.0)\n",
      "Requirement already satisfied: frozenlist>=1.1.1 in c:\\users\\vishal567795\\appdata\\local\\programs\\python\\python39\\lib\\site-packages (from aiohttp->datasets) (1.3.3)\n",
      "Requirement already satisfied: charset-normalizer<4.0,>=2.0 in c:\\users\\vishal567795\\appdata\\local\\programs\\python\\python39\\lib\\site-packages (from aiohttp->datasets) (2.1.1)\n",
      "Requirement already satisfied: typing-extensions>=3.7.4.3 in c:\\users\\vishal567795\\appdata\\local\\programs\\python\\python39\\lib\\site-packages (from huggingface-hub<1.0,>=0.11.0->transformers) (4.4.0)\n",
      "Requirement already satisfied: pyparsing!=3.0.5,>=2.0.2 in c:\\users\\vishal567795\\appdata\\local\\programs\\python\\python39\\lib\\site-packages (from packaging>=20.0->transformers) (3.0.9)\n",
      "Requirement already satisfied: certifi>=2017.4.17 in c:\\users\\vishal567795\\appdata\\local\\programs\\python\\python39\\lib\\site-packages (from requests->transformers) (2022.9.24)\n",
      "Requirement already satisfied: urllib3<1.27,>=1.21.1 in c:\\users\\vishal567795\\appdata\\local\\programs\\python\\python39\\lib\\site-packages (from requests->transformers) (1.26.13)\n",
      "Requirement already satisfied: idna<4,>=2.5 in c:\\users\\vishal567795\\appdata\\local\\programs\\python\\python39\\lib\\site-packages (from requests->transformers) (3.4)\n",
      "Requirement already satisfied: colorama in c:\\users\\vishal567795\\appdata\\local\\programs\\python\\python39\\lib\\site-packages (from tqdm>=4.27->transformers) (0.4.6)\n",
      "Requirement already satisfied: click in c:\\users\\vishal567795\\appdata\\local\\programs\\python\\python39\\lib\\site-packages (from nltk->rouge_score) (8.1.3)\n",
      "Requirement already satisfied: joblib in c:\\users\\vishal567795\\appdata\\local\\programs\\python\\python39\\lib\\site-packages (from nltk->rouge_score) (1.2.0)\n",
      "Requirement already satisfied: python-dateutil>=2.8.1 in c:\\users\\vishal567795\\appdata\\local\\programs\\python\\python39\\lib\\site-packages (from pandas->datasets) (2.8.2)\n",
      "Requirement already satisfied: pytz>=2020.1 in c:\\users\\vishal567795\\appdata\\local\\programs\\python\\python39\\lib\\site-packages (from pandas->datasets) (2022.2.1)\n",
      "Building wheels for collected packages: rouge_score\n",
      "  Building wheel for rouge_score (setup.py): started\n",
      "  Building wheel for rouge_score (setup.py): finished with status 'done'\n",
      "  Created wheel for rouge_score: filename=rouge_score-0.1.2-py3-none-any.whl size=24972 sha256=867e71c2228e40ab55b387aa588465e6faf7760625c5997c82652ad6f1082339\n",
      "  Stored in directory: c:\\users\\vishal567795\\appdata\\local\\pip\\cache\\wheels\\9b\\3d\\39\\09558097d3119ca0a4d462df68f22c6f3c1b345ac63a09b86e\n",
      "Successfully built rouge_score\n",
      "Installing collected packages: tokenizers, xxhash, pyyaml, pyarrow, fsspec, dill, responses, multiprocess, huggingface-hub, transformers, rouge_score, datasets, evaluate\n",
      "Successfully installed datasets-2.12.0 dill-0.3.6 evaluate-0.4.0 fsspec-2023.4.0 huggingface-hub-0.14.1 multiprocess-0.70.14 pyarrow-11.0.0 pyyaml-6.0 responses-0.18.0 rouge_score-0.1.2 tokenizers-0.13.3 transformers-4.28.1 xxhash-3.2.0\n"
     ]
    },
    {
     "name": "stderr",
     "output_type": "stream",
     "text": [
      "\n",
      "[notice] A new release of pip is available: 23.0.1 -> 23.1.2\n",
      "[notice] To update, run: python.exe -m pip install --upgrade pip\n"
     ]
    }
   ],
   "source": [
    "!pip install transformers datasets evaluate rouge_score"
   ]
  },
  {
   "cell_type": "code",
   "execution_count": 2,
   "id": "ab4f1c18",
   "metadata": {},
   "outputs": [
    {
     "name": "stdout",
     "output_type": "stream",
     "text": [
      "Requirement already satisfied: pip in c:\\users\\vishal567795\\appdata\\local\\programs\\python\\python39\\lib\\site-packages (23.0.1)Note: you may need to restart the kernel to use updated packages.\n",
      "\n",
      "Collecting pip\n",
      "  Downloading pip-23.1.2-py3-none-any.whl (2.1 MB)\n",
      "     ---------------------------------------- 2.1/2.1 MB 205.1 kB/s eta 0:00:00\n",
      "Installing collected packages: pip\n",
      "  Attempting uninstall: pip\n",
      "    Found existing installation: pip 23.0.1\n",
      "    Uninstalling pip-23.0.1:\n",
      "      Successfully uninstalled pip-23.0.1\n",
      "Successfully installed pip-23.1.2\n"
     ]
    }
   ],
   "source": [
    "!pip install --upgrade pip"
   ]
  },
  {
   "cell_type": "code",
   "execution_count": 6,
   "id": "87b0978d",
   "metadata": {},
   "outputs": [
    {
     "name": "stderr",
     "output_type": "stream",
     "text": [
      "Found cached dataset billsum (C:/Users/vishal567795/.cache/huggingface/datasets/billsum/default/3.0.0/75cf1719d38d6553aa0e0714c393c74579b083ae6e164b2543684e3e92e0c4cc)\n"
     ]
    }
   ],
   "source": [
    "# so we are using the billsum data set here\n",
    "from datasets import load_dataset\n",
    "\n",
    "billsum = load_dataset(\"billsum\", split=\"ca_test\")"
   ]
  },
  {
   "cell_type": "code",
   "execution_count": 4,
   "id": "096f8e36",
   "metadata": {},
   "outputs": [],
   "source": []
  },
  {
   "cell_type": "code",
   "execution_count": 7,
   "id": "db6a14ef",
   "metadata": {},
   "outputs": [],
   "source": [
    "#Split the dataset into a train and test set with the train_test_split method:\n",
    "billsum = billsum.train_test_split(test_size=0.2)"
   ]
  },
  {
   "cell_type": "code",
   "execution_count": 8,
   "id": "ed685c70",
   "metadata": {},
   "outputs": [
    {
     "data": {
      "text/plain": [
       "{'text': 'The people of the State of California do enact as follows:\\n\\n\\nSECTION 1.\\nSection 1341.45 of the Health and Safety Code is amended to read:\\n1341.45.\\n(a) There is hereby created in the State Treasury the Managed Care Administrative Fines and Penalties Fund.\\n(b) The fines and administrative penalties collected pursuant to this chapter, on and after September 30, 2008, shall be deposited into the Managed Care Administrative Fines and Penalties Fund.\\n(c) The fines and administrative penalties deposited into the Managed Care Administrative Fines and Penalties Fund shall be transferred by the department, annually, as follows:\\n(1) The first one million dollars ($1,000,000) shall be transferred to the Medically Underserved Account for Physicians within the Health Professions Education Fund and shall, upon appropriation by the Legislature, be used for the purposes of the Steven M. Thompson Physician Corps Loan Repayment Program, as specified in Article 5 (commencing with Section 128550) of Chapter 5 of Part 3 of Division 107 and, notwithstanding Section 128555, shall not be used to provide funding for the Physician Volunteer Program.\\n(2) Until January 1, 2017, any amount over the first one million dollars ($1,000,000), including accrued interest, in the fund shall be transferred to the Major Risk Medical Insurance Fund continued pursuant to Section 15893 of the Welfare and Institutions Code and shall, upon appropriation by the Legislature, be used for the Major Risk Medical Insurance Program for the purposes specified in Section 15894 of the Welfare and Institutions Code.\\n(3) On and after January 1, 2017, and annually thereafter, the second one million dollars ($1,000,000) shall be transferred to the Major Risk Medical Insurance Fund continued pursuant to Section 15893 of the Welfare and Institutions Code and shall, upon appropriation by the Legislature, be used for the Major Risk Medical Insurance Program for the purposes specified in Section 15894 of the Welfare and Institutions Code.\\n(4) (A) On and after January 1, 2017 any amount over the first two million dollars ($2,000,000), including accrued interest, in the fund shall be transferred to the Medically Underserved Account for Physicians within the Health Professions Education Fund and shall, upon appropriation by the Legislature, and subject to subparagraph (B), be used for the purposes of the Steven M. Thompson Physician Corps Loan Repayment Program, as specified in Article 5 (commencing with Section 128550) of Chapter 5 of Part 3 of Division 107 and, notwithstanding Section 128555, shall not be used to provide funding for the Physician Volunteer Program.\\n(B)\\nOne-half\\nUp to one-half\\nof the moneys deposited into the Medically Underserved Account for Physicians within the Health Professions Education Fund under this paragraph\\nshall, upon appropriation by the Legislature, be used\\nmay be prioritized\\nto fund the repayment of\\nloans\\nloans\\npursuant to paragraph (2) of subdivision (d) of Section 128553\\nfor those\\nphysicians providing psychiatric services or those physicians whose primary specialty is psychiatry\\nprogram applicants who are trained in, and practice, psychiatry,\\nunder the Steven M. Thompson Physician Corps Loan Repayment\\nProgram, as specified in Article\\nProgram (Article\\n5 (commencing with Section 128550) of Chapter 5 of Part 3 of Division\\n107.\\n107).\\n(d) Notwithstanding subdivision (b) of Section 1356 and Section 1356.1, the fines and administrative penalties authorized pursuant to this chapter shall not be used to reduce the assessments imposed on health care service plans pursuant to Section 1356.\\nSEC. 2.\\nSection 128551 of the Health and Safety Code is amended to read:\\n128551.\\n(a) It is the intent of this article that the Health Professions Education Foundation and the office provide the ongoing program management of the two programs identified in subdivision (b) of Section 128550 as a part of the California Physician Corps Program.\\n(b)  For purposes of subdivision (a), the foundation shall consult with the Medical Board of California, Office of Statewide Health Planning and Development, and shall establish and consult with an advisory committee of not more than seven members, that shall include two members recommended by the California Medical Association and may include other members of the medical community, including ethnic representatives, medical schools, health advocates representing ethnic communities, primary care clinics, public hospitals, and health systems, statewide agencies administering state and federally funded programs targeting underserved communities, and members of the public with expertise in health care issues.\\nSEC. 3.\\nSection 128552 of the Health and Safety Code is amended to read:\\n128552.\\nFor purposes of this article, the following definitions shall apply:\\n(a) “Account” means the Medically Underserved Account for Physicians established within the Health Professions Education Fund pursuant to this article.\\n(b) “Foundation” means the Health Professions Education Foundation.\\n(c) “Fund” means the Health Professions Education Fund.\\n(d) “Medi-Cal threshold languages” means primary languages spoken by limited-English-proficient (LEP) population groups meeting a numeric threshold of 3,000, eligible LEP Medi-Cal beneficiaries residing in a county, 1,000 Medi-Cal eligible LEP beneficiaries residing in a single ZIP Code, or 1,500 LEP Medi-Cal beneficiaries residing in two contiguous ZIP Codes.\\n(e) “Medically underserved area” means an area defined as a health professional shortage area in Part 5 (commencing with Section 5.1) of Subchapter A of Chapter 1 of Title 42 of the Code of Federal Regulations or an area of the state where unmet priority needs for physicians exist as determined by the California Healthcare Workforce Policy Commission pursuant to Section 128225.\\n(f) “Medically underserved population” means the Medi-Cal program and uninsured populations.\\n(g) “Office” means the Office of Statewide Health Planning and Development (OSHPD).\\n(h) “Physician Volunteer Program” means the Physician Volunteer Registry Program established by the Medical Board of California.\\n(i) “Practice setting,” for the purposes of this article only, means either of the following:\\n(1) A community clinic as defined in subdivision (a) of Section 1204 and subdivision (c) of Section 1206, a clinic owned or operated by a public hospital and health system, or a clinic owned and operated by a hospital that maintains the primary contract with a county government to fulfill the county’s role pursuant to Section 17000 of the Welfare and Institutions Code, which is located in a medically underserved area and at least 50 percent of whose patients are from a medically underserved population.\\n(2) A physician owned and operated medical practice setting that provides primary care\\nor psychiatric services\\nlocated in a medically underserved area and has a minimum of 50 percent of patients who are uninsured, Medi-Cal beneficiaries, or beneficiaries of another publicly funded program that serves patients who earn less than 250 percent of the federal poverty level.\\n(j) “Primary specialty” means family practice, internal medicine, pediatrics,\\npsychiatry,\\nor obstetrics/gynecology.\\n(k) “Program” means the Steven M. Thompson Physician Corps Loan Repayment Program.\\n(l) “Selection committee” means a minimum three-member committee of the board, that includes a member that was appointed by the Medical Board of California.\\nSEC. 4.\\nSection 128555.5 is added to the\\nHealth and Safety Code\\n, to read:\\n128555.5.\\nNotwithstanding subdivision (e) of Section 128555, funds deposited into the Medically Underserved Account for Physicians shall not be made available to fund the repayment of loans under the Steven M. Thompson Physician Corps Loan Repayment Program for those physicians providing psychiatric services or those physicians whose primary specialty is psychiatry, except as provided in subparagraph (B) of paragraph (4) of subdivision (c) of Section 1341.45.',\n",
       " 'summary': 'Existing law establishes the Steven M. Thompson Physician Corps Loan Repayment Program in the California Physician Corps Program within the Health Professions Education Foundation, which provides financial incentives, including repayment of educational loans, to a physician and surgeon who practices in a medically underserved area, as\\ndefined.\\ndefined, and\\nwho is trained in, and practices, in certain practice settings or primary specialities, as defined. Existing law authorizes the selection committee to fill up to 20% of the available positions with program applicants from specialities outside of the primary specialties, including psychiatry.\\nExisting law establishes the Medically Underserved Account for Physicians, a continuously appropriated account, within the Health Professions Education Fund that is managed by the Health Professions Education Foundation and the Office of Statewide Health Planning and Development, to primarily provide funding for the ongoing operations of the Steven M. Thompson Physician Corps Loan Repayment Program.\\nExisting law, the Knox-Keene Health Care Service Plan Act of 1975, provides for the licensure and regulation of health care service plans by the Department of Managed Health Care and imposes certain requirements on health care service plans. Existing law imposes various fines and administrative penalties on health care service plans for certain violations of the act, which are deposited into the Managed Care Administrative Fines and Penalties Fund. Existing law requires the first $1,000,000 in the fund to be transferred each year to the Medically Underserved Account for Physicians and to be used, upon appropriation by the Legislature, for purposes of the Steven M. Thompson Physician Corps Loan Repayment Program. Existing law requires all remaining funds to be transferred each year to the Major Risk Medical Insurance Fund and to be used, upon appropriation by the Legislature, for purposes of the Major Risk Medical Insurance Program.\\nThis bill would expand the eligibility for loan repayment funds under the Steven M. Thompson Physician Corps Loan Repayment Program to include those physicians providing psychiatric services. The bill would provide that continuously appropriated funds deposited into the Medically Underserved Account for Physicians shall not be made available under the Steven M. Thompson Physician Corps Loan Repayment Program to fund the repayment of loans for those physicians providing psychiatric services or those physicians whose primary specialty is psychiatry, as specified.\\nThe bill would instead require, after the first $1,000,000 is transferred from the Managed Care Administrative Fines and Penalties Fund to the Medically Underserved Account for Physicians, $1,000,000 to be transferred each year to the Major Risk Medical Insurance Fund to be used, upon appropriation by the Legislature, for the Major Risk Medical Insurance Program. The bill would require any amount remaining over the amounts transferred to the Medically Underserved Account for Physicians and the Major Risk Medical Insurance Fund to be transferred each year to the Medically Underserved Account for Physicians to be used, upon appropriation by the Legislature, for the Steven M. Thompson Physician Corps Loan Repayment Program, and provide that one-half of these moneys\\nare to be used\\nmay be prioritized\\nto fund the repayment of loans for those\\nphysicians providing psychiatric services or those physicians whose primary specialty is psychiatry\\nprogram applicants who are trained in, and practice, psychiatry,\\nunder the Steven M. Thompson Physician Corps Loan Repayment Program.\\nThe bill would also delete a reference to an obsolete program and make other technical, nonsubstantive changes.',\n",
       " 'title': 'An act to amend Sections 1341.45, 128551, and 128552\\nof, and to add Section 128555.5 to,\\nof\\nthe Health and Safety Code, relating to health professions development.'}"
      ]
     },
     "execution_count": 8,
     "metadata": {},
     "output_type": "execute_result"
    }
   ],
   "source": [
    "billsum[\"train\"][0]"
   ]
  },
  {
   "cell_type": "markdown",
   "id": "eec775b1",
   "metadata": {},
   "source": [
    "There are two fields that you’ll want to use:\n",
    "\n",
    "text: the text of the bill which’ll be the input to the model.\n",
    "summary: a condensed version of text which’ll be the model target."
   ]
  },
  {
   "cell_type": "markdown",
   "id": "3aef91a5",
   "metadata": {},
   "source": [
    "# Preprocessing"
   ]
  },
  {
   "cell_type": "code",
   "execution_count": 9,
   "id": "3c1a38e5",
   "metadata": {},
   "outputs": [
    {
     "data": {
      "application/vnd.jupyter.widget-view+json": {
       "model_id": "6786e8d1087f49d28fe2cdfa4905a841",
       "version_major": 2,
       "version_minor": 0
      },
      "text/plain": [
       "Downloading (…)okenizer_config.json:   0%|          | 0.00/2.32k [00:00<?, ?B/s]"
      ]
     },
     "metadata": {},
     "output_type": "display_data"
    },
    {
     "name": "stderr",
     "output_type": "stream",
     "text": [
      "c:\\users\\vishal567795\\appdata\\local\\programs\\python\\python39\\lib\\site-packages\\huggingface_hub\\file_download.py:133: UserWarning: `huggingface_hub` cache-system uses symlinks by default to efficiently store duplicated files but your machine does not support them in C:\\Users\\vishal567795\\.cache\\huggingface\\hub. Caching files will still work but in a degraded version that might require more space on your disk. This warning can be disabled by setting the `HF_HUB_DISABLE_SYMLINKS_WARNING` environment variable. For more details, see https://huggingface.co/docs/huggingface_hub/how-to-cache#limitations.\n",
      "To support symlinks on Windows, you either need to activate Developer Mode or to run Python as an administrator. In order to see activate developer mode, see this article: https://docs.microsoft.com/en-us/windows/apps/get-started/enable-your-device-for-development\n",
      "  warnings.warn(message)\n"
     ]
    },
    {
     "data": {
      "application/vnd.jupyter.widget-view+json": {
       "model_id": "c52e2b6dd18447babb2c9c82cc833aac",
       "version_major": 2,
       "version_minor": 0
      },
      "text/plain": [
       "Downloading (…)ve/main/spiece.model:   0%|          | 0.00/792k [00:00<?, ?B/s]"
      ]
     },
     "metadata": {},
     "output_type": "display_data"
    },
    {
     "data": {
      "application/vnd.jupyter.widget-view+json": {
       "model_id": "4ca327ef65ea48c0bf9bd5acab632144",
       "version_major": 2,
       "version_minor": 0
      },
      "text/plain": [
       "Downloading (…)/main/tokenizer.json:   0%|          | 0.00/1.39M [00:00<?, ?B/s]"
      ]
     },
     "metadata": {},
     "output_type": "display_data"
    }
   ],
   "source": [
    "# The next step is to load a T5 tokenizer to process text and summary:\n",
    "from transformers import AutoTokenizer\n",
    "\n",
    "checkpoint = \"t5-small\"\n",
    "tokenizer = AutoTokenizer.from_pretrained(checkpoint)"
   ]
  },
  {
   "cell_type": "code",
   "execution_count": null,
   "id": "31bcc022",
   "metadata": {},
   "outputs": [],
   "source": []
  }
 ],
 "metadata": {
  "kernelspec": {
   "display_name": "Python 3 (ipykernel)",
   "language": "python",
   "name": "python3"
  },
  "language_info": {
   "codemirror_mode": {
    "name": "ipython",
    "version": 3
   },
   "file_extension": ".py",
   "mimetype": "text/x-python",
   "name": "python",
   "nbconvert_exporter": "python",
   "pygments_lexer": "ipython3",
   "version": "3.9.2"
  }
 },
 "nbformat": 4,
 "nbformat_minor": 5
}
