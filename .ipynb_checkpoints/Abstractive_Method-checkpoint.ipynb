{
 "cells": [
  {
   "cell_type": "markdown",
   "id": "6ef6bb41",
   "metadata": {},
   "source": [
    "# Abstractive:\n",
    "generate new text that captures the most relevant information.\n"
   ]
  },
  {
   "cell_type": "code",
   "execution_count": 1,
   "id": "431b33a4",
   "metadata": {},
   "outputs": [
    {
     "name": "stdout",
     "output_type": "stream",
     "text": [
      "Requirement already satisfied: transformers in c:\\users\\vishal567795\\appdata\\local\\programs\\python\\python39\\lib\\site-packages (4.28.1)\n",
      "Requirement already satisfied: datasets in c:\\users\\vishal567795\\appdata\\local\\programs\\python\\python39\\lib\\site-packages (2.12.0)\n",
      "Requirement already satisfied: evaluate in c:\\users\\vishal567795\\appdata\\local\\programs\\python\\python39\\lib\\site-packages (0.4.0)\n",
      "Requirement already satisfied: rouge_score in c:\\users\\vishal567795\\appdata\\local\\programs\\python\\python39\\lib\\site-packages (0.1.2)\n",
      "Requirement already satisfied: filelock in c:\\users\\vishal567795\\appdata\\local\\programs\\python\\python39\\lib\\site-packages (from transformers) (3.9.0)\n",
      "Requirement already satisfied: huggingface-hub<1.0,>=0.11.0 in c:\\users\\vishal567795\\appdata\\local\\programs\\python\\python39\\lib\\site-packages (from transformers) (0.14.1)\n",
      "Requirement already satisfied: numpy>=1.17 in c:\\users\\vishal567795\\appdata\\local\\programs\\python\\python39\\lib\\site-packages (from transformers) (1.23.3)\n",
      "Requirement already satisfied: packaging>=20.0 in c:\\users\\vishal567795\\appdata\\local\\programs\\python\\python39\\lib\\site-packages (from transformers) (21.3)\n",
      "Requirement already satisfied: pyyaml>=5.1 in c:\\users\\vishal567795\\appdata\\local\\programs\\python\\python39\\lib\\site-packages (from transformers) (6.0)\n",
      "Requirement already satisfied: regex!=2019.12.17 in c:\\users\\vishal567795\\appdata\\local\\programs\\python\\python39\\lib\\site-packages (from transformers) (2022.10.31)\n",
      "Requirement already satisfied: requests in c:\\users\\vishal567795\\appdata\\local\\programs\\python\\python39\\lib\\site-packages (from transformers) (2.28.1)\n",
      "Requirement already satisfied: tokenizers!=0.11.3,<0.14,>=0.11.1 in c:\\users\\vishal567795\\appdata\\local\\programs\\python\\python39\\lib\\site-packages (from transformers) (0.13.3)\n",
      "Requirement already satisfied: tqdm>=4.27 in c:\\users\\vishal567795\\appdata\\local\\programs\\python\\python39\\lib\\site-packages (from transformers) (4.64.1)\n",
      "Requirement already satisfied: pyarrow>=8.0.0 in c:\\users\\vishal567795\\appdata\\local\\programs\\python\\python39\\lib\\site-packages (from datasets) (11.0.0)\n",
      "Requirement already satisfied: dill<0.3.7,>=0.3.0 in c:\\users\\vishal567795\\appdata\\local\\programs\\python\\python39\\lib\\site-packages (from datasets) (0.3.6)\n",
      "Requirement already satisfied: pandas in c:\\users\\vishal567795\\appdata\\local\\programs\\python\\python39\\lib\\site-packages (from datasets) (1.5.0)\n",
      "Requirement already satisfied: xxhash in c:\\users\\vishal567795\\appdata\\local\\programs\\python\\python39\\lib\\site-packages (from datasets) (3.2.0)\n",
      "Requirement already satisfied: multiprocess in c:\\users\\vishal567795\\appdata\\local\\programs\\python\\python39\\lib\\site-packages (from datasets) (0.70.14)\n",
      "Requirement already satisfied: fsspec[http]>=2021.11.1 in c:\\users\\vishal567795\\appdata\\local\\programs\\python\\python39\\lib\\site-packages (from datasets) (2023.4.0)\n",
      "Requirement already satisfied: aiohttp in c:\\users\\vishal567795\\appdata\\local\\programs\\python\\python39\\lib\\site-packages (from datasets) (3.8.4)\n",
      "Requirement already satisfied: responses<0.19 in c:\\users\\vishal567795\\appdata\\local\\programs\\python\\python39\\lib\\site-packages (from datasets) (0.18.0)\n",
      "Requirement already satisfied: absl-py in c:\\users\\vishal567795\\appdata\\local\\programs\\python\\python39\\lib\\site-packages (from rouge_score) (1.3.0)\n",
      "Requirement already satisfied: nltk in c:\\users\\vishal567795\\appdata\\local\\programs\\python\\python39\\lib\\site-packages (from rouge_score) (3.8.1)\n",
      "Requirement already satisfied: six>=1.14.0 in c:\\users\\vishal567795\\appdata\\local\\programs\\python\\python39\\lib\\site-packages (from rouge_score) (1.16.0)\n",
      "Requirement already satisfied: attrs>=17.3.0 in c:\\users\\vishal567795\\appdata\\local\\programs\\python\\python39\\lib\\site-packages (from aiohttp->datasets) (22.1.0)\n",
      "Requirement already satisfied: charset-normalizer<4.0,>=2.0 in c:\\users\\vishal567795\\appdata\\local\\programs\\python\\python39\\lib\\site-packages (from aiohttp->datasets) (2.1.1)\n",
      "Requirement already satisfied: multidict<7.0,>=4.5 in c:\\users\\vishal567795\\appdata\\local\\programs\\python\\python39\\lib\\site-packages (from aiohttp->datasets) (6.0.4)\n",
      "Requirement already satisfied: async-timeout<5.0,>=4.0.0a3 in c:\\users\\vishal567795\\appdata\\local\\programs\\python\\python39\\lib\\site-packages (from aiohttp->datasets) (4.0.2)\n",
      "Requirement already satisfied: yarl<2.0,>=1.0 in c:\\users\\vishal567795\\appdata\\local\\programs\\python\\python39\\lib\\site-packages (from aiohttp->datasets) (1.8.2)\n",
      "Requirement already satisfied: frozenlist>=1.1.1 in c:\\users\\vishal567795\\appdata\\local\\programs\\python\\python39\\lib\\site-packages (from aiohttp->datasets) (1.3.3)\n",
      "Requirement already satisfied: aiosignal>=1.1.2 in c:\\users\\vishal567795\\appdata\\local\\programs\\python\\python39\\lib\\site-packages (from aiohttp->datasets) (1.3.1)\n",
      "Requirement already satisfied: typing-extensions>=3.7.4.3 in c:\\users\\vishal567795\\appdata\\local\\programs\\python\\python39\\lib\\site-packages (from huggingface-hub<1.0,>=0.11.0->transformers) (4.4.0)\n",
      "Requirement already satisfied: pyparsing!=3.0.5,>=2.0.2 in c:\\users\\vishal567795\\appdata\\local\\programs\\python\\python39\\lib\\site-packages (from packaging>=20.0->transformers) (3.0.9)\n",
      "Requirement already satisfied: idna<4,>=2.5 in c:\\users\\vishal567795\\appdata\\local\\programs\\python\\python39\\lib\\site-packages (from requests->transformers) (3.4)\n",
      "Requirement already satisfied: urllib3<1.27,>=1.21.1 in c:\\users\\vishal567795\\appdata\\local\\programs\\python\\python39\\lib\\site-packages (from requests->transformers) (1.26.12)\n",
      "Requirement already satisfied: certifi>=2017.4.17 in c:\\users\\vishal567795\\appdata\\local\\programs\\python\\python39\\lib\\site-packages (from requests->transformers) (2022.9.24)\n",
      "Requirement already satisfied: colorama in c:\\users\\vishal567795\\appdata\\local\\programs\\python\\python39\\lib\\site-packages (from tqdm>=4.27->transformers) (0.4.6)\n",
      "Requirement already satisfied: click in c:\\users\\vishal567795\\appdata\\local\\programs\\python\\python39\\lib\\site-packages (from nltk->rouge_score) (8.1.3)\n",
      "Requirement already satisfied: joblib in c:\\users\\vishal567795\\appdata\\local\\programs\\python\\python39\\lib\\site-packages (from nltk->rouge_score) (1.2.0)\n",
      "Requirement already satisfied: python-dateutil>=2.8.1 in c:\\users\\vishal567795\\appdata\\local\\programs\\python\\python39\\lib\\site-packages (from pandas->datasets) (2.8.2)\n",
      "Requirement already satisfied: pytz>=2020.1 in c:\\users\\vishal567795\\appdata\\local\\programs\\python\\python39\\lib\\site-packages (from pandas->datasets) (2022.2.1)\n"
     ]
    }
   ],
   "source": [
    "#!pip install transformers datasets evaluate rouge_score"
   ]
  },
  {
   "cell_type": "code",
   "execution_count": 2,
   "id": "ab4f1c18",
   "metadata": {},
   "outputs": [
    {
     "name": "stdout",
     "output_type": "stream",
     "text": [
      "Requirement already satisfied: pip in c:\\users\\vishal567795\\appdata\\local\\programs\\python\\python39\\lib\\site-packages (23.1.2)\n"
     ]
    }
   ],
   "source": [
    "#!pip install --upgrade pip"
   ]
  },
  {
   "cell_type": "code",
   "execution_count": 3,
   "id": "87b0978d",
   "metadata": {},
   "outputs": [
    {
     "name": "stderr",
     "output_type": "stream",
     "text": [
      "Found cached dataset billsum (C:/Users/vishal567795/.cache/huggingface/datasets/billsum/default/3.0.0/75cf1719d38d6553aa0e0714c393c74579b083ae6e164b2543684e3e92e0c4cc)\n"
     ]
    }
   ],
   "source": [
    "# so we are using the billsum data set here\n",
    "from datasets import load_dataset\n",
    "\n",
    "billsum = load_dataset(\"billsum\", split=\"ca_test\")"
   ]
  },
  {
   "cell_type": "code",
   "execution_count": null,
   "id": "096f8e36",
   "metadata": {},
   "outputs": [],
   "source": []
  },
  {
   "cell_type": "code",
   "execution_count": 4,
   "id": "db6a14ef",
   "metadata": {},
   "outputs": [],
   "source": [
    "#Split the dataset into a train and test set with the train_test_split method:\n",
    "billsum = billsum.train_test_split(test_size=0.2)"
   ]
  },
  {
   "cell_type": "code",
   "execution_count": 5,
   "id": "ed685c70",
   "metadata": {},
   "outputs": [
    {
     "data": {
      "text/plain": [
       "{'text': 'The people of the State of California do enact as follows:\\n\\n\\nSECTION 1.\\nThe Legislature finds and declares all of the following:\\n(a) According to United States Census Bureau, California has a poverty rate of 23.5 percent, the highest rate of any state in the country.\\n(b) Children born into poverty are at higher risk of health and developmental disparities, including, but not limited to, premature birth, low birth weight, infant mortality, crime, domestic violence, developmental delays, dropping out of high school, substance abuse, unemployment, and child abuse and neglect.\\n(c) In 2014, the Legislature passed Assembly Concurrent Resolution No. 155 by Assembly Member Raul Bocanegra, recognizing that research over the last two decades in the evolving fields of neuroscience, molecular biology, public health, genomics, and epigenetics reveals that experiences in the first few years of life build changes into the biology of the human body that, in turn, influence the person’s physical and mental health over his or her lifetime.\\n(d) On May 3, 2012, Governor Edmund G. Brown Jr. issued Executive Order B-19-12, establishing the “Let’s Get Healthy California Task Force” to develop a 10-year plan for improving the health of Californians, controlling health care costs, promoting personal responsibility for individual health, and advancing health equity.\\n(e) The task force identified several priorities, including a subset for “Healthy Beginnings,” which include reducing infant deaths, increasing vaccination rates, reducing childhood trauma, and reducing adolescent tobacco use.\\n(f) The final report of the task force states, “the challenge going forward is to identify evidence-based interventions and quicken the pace of uptake across the state” in order to meet the ambitious goals in the Governor’s directive.\\n(g) Voluntary evidence-based home visiting programs, such as Nurse-Family Partnership, Healthy Families America, Early Head Start (Home-Based Program Option), Parents as Teachers, and Home Instruction for Parents of Preschool Youngsters, strengthen the critical parent-child relationship and connect families with information and resources during the pivotal time from pregnancy to five years of age. Extensive research has shown that evidence-based home visiting programs serving pregnant and parenting mothers, prenatal to the child turning five years of age, increase family self-sufficiency, positive parenting practices, child literacy and school readiness, and maternal and child health.\\n(h) Voluntary evidence-based home visiting program models focused on the prenatal period to five years of age range from low to high intensity, reflecting the broad spectrum of family needs that home visiting can impact. Many experts hail home visiting program diversity as essential to providing parents with choices and ensuring that programs are well matched with local needs and strengths, as well as responsive to the diverse needs of California’s children and families.\\n(i) In 2013, more than 248,000 Medi-Cal beneficiaries gave birth to a child. Because Medi-Cal covers half of all births in the state, this has increased costs for taxpayers. Medi-Cal expansion has resulted in an 18 percent increase in Medi-Cal enrollment to a total of 11.3 million, and enrollment is expected to exceed 12 million in 2015.\\n(j) The California Health and Human Services Agency recently submitted its State Health Care Innovation Plan, including the Maternity Care initiative, which addresses issues of high costs in maternity care, to the federal Center for Medicare and Medicaid Innovation. Child deliveries and related expenses, including high-risk births, rank among the top 10 high-cost episodes of health care, and in the last 15 years, California has seen a continual rise in maternal mortality.\\n(k) The cost of health care specifically related to high-risk pregnancies, neonatal intensive-care unit (NICU) services, toxic stress, and emergency room visits has increased and is projected to continue to rise. Average health care costs for women were 25 percent more than men primarily due to higher costs of health care during childbearing years.\\n(l) With more than three decades of evidence from randomized, controlled trials and rigorous followup evaluation studies, evidence-based home visiting programs have demonstrated sustained improvements in maternal health, child health, positive parenting practices, child development and school readiness, reductions in child maltreatment, family economic self-sufficiency, linkages and referrals, and reductions in family violence.\\n(m) Evidence-based home visiting programs have specifically demonstrated reductions in preterm births, preventable maternal mortality, smoking during pregnancy, complications of pregnancy, closely spaced subsequent births, childhood injuries resulting in costly emergency department use and hospitalizations, improved childhood immunization rates, compliance with well child visit schedules, lower body mass index rates, higher birth weights, and improved family well-being, including increased family health literacy, and parent self-help development. As a result of families benefiting from evidence-based home visiting, there have been cost savings to federal, state, and local governments with respect to programs and services, including Medicaid, the Supplemental Nutrition Assistance Program (SNAP), and the Temporary Assistance for Needy Families (TANF) program.\\n(n) The strong evidence of effectiveness and predictable return on investment demonstrate that evidence-based home visiting programs should be brought to scale in California to improve maternal and child health outcomes and help reduce health care costs for generations to come.\\n(o) By supporting families from the start, voluntary evidence-based home visiting programs serving families from prenatal to five years of age provide a foundation for subsequent early childhood programs and family support efforts to build upon, and can help ensure that families are well-equipped to raise California’s next generation of productive, healthy, and successful adults.\\n(p) Therefore, it is the intent of the Legislature to develop a means to leverage public and private dollars to substantially expand the scale of evidence-based home visiting programs throughout California, beginning with communities and populations with the greatest need.\\nSEC. 2.\\nSection 14148.25 is added to the Health and Safety Code, to read:\\n14148.25.\\n(a) The department shall, in consultation with stakeholders, including, but not limited to, representatives from Medi-Cal managed care plans, public and private hospitals, evidence-based home visiting programs, and other governmental entities including local and state law enforcement and corrections agencies, local and state social services agencies, and local and state educational agencies, develop a feasibility plan on or before January 1, 2017, that describes the costs, benefits, and any potential barriers related to offering evidence-based home visiting programs to Medi-Cal eligible pregnant and parenting women. The department shall consult with stakeholders from diverse geographical regions of the state. The department shall consider all of the following in developing the plan:\\n(1) Establishing Medi-Cal coverage for evidence-based home visiting program services.\\n(2) Incentives for Medi-Cal providers to offer evidence-based home visiting program services.\\n(3) Other mechanisms to fund evidence-based home visiting program services for Medi-Cal eligible pregnant and parenting women.\\n(4) Identifying among evidence-based home visiting programs those with established evidence to improve health outcomes, the experience of care, and cost savings to the health care system.\\n(b) In developing the plan, the department shall prioritize the identification of funding sources, other than General Fund moneys, to fund evidence-based home visiting program services, including local, federal, or private funds, or any other funds made available for these program services.\\n(c) For the purposes of this section, the following definitions shall apply:\\n(1) “Evidence-based program” means a program that is based on scientific evidence demonstrating that the program model is effective. An evidence-based program shall be reviewed on site and compared to program model standards by the model developer or the developer’s designee at least every five years to ensure that the program continues to maintain fidelity with the program model. The program model shall have had demonstrated and replicated significant and sustained positive outcomes that have been in one or more well-designed and rigorous randomized controlled research designs, and the evaluation results shall have been published in a peer-reviewed journal.\\n(2) “Evidence-based home visiting program” means a program or initiative that does all of the following:\\n(A) Meets, on or before April 1, 2015, the United States Department of Health and Human Services Maternal, Infant, and Early Childhood Home Visiting (MIECHV) criteria, as described in Section 511(d)(3)(A)(i)(l) of Title V of the Social Security Act (42 U.S.C. Sec. 711).\\n(B) Contains home visiting as a primary service delivery strategy by providers satisfying home visiting program requirements to provide services to families with a pregnant or parenting woman who is eligible for medical assistance.\\n(C) Offers services on a voluntary basis to pregnant women, expectant fathers, and parents and caregivers of children from prenatal to five years of age.\\n(D) Targets participant outcomes that include all of the following:\\n(i) Improved maternal and child health.\\n(ii) Prevention of child injuries, child abuse or maltreatment, and reduction of emergency department visits.\\n(iii) Improvements in school readiness and achievement.\\n(iv) Reduction in crime or domestic violence.\\n(v) Improvements in family economic self-sufficiency.\\n(vi) Improvements in coordination of, and referrals to, other community resources and support.\\n(vii) Improvements in parenting skills related to child development.',\n",
       " 'summary': 'Existing law provides for the Medi-Cal program, which is administered by the State Department of Health Care Services, under which qualified low-income individuals receive health care services, including perinatal services for pregnant women.\\nExisting law establishes the Nurse-Family Partnership program, which is administered by the State Department of Public Health, to provide grants for voluntary nurse home visiting programs for expectant first-time mothers, their children, and their families. Under existing law, a county is required to satisfy specified requirements in order to be eligible to receive a grant.\\nThis bill would require the State Department of Health Care Services, in consultation with specified stakeholders, to develop a feasibility plan on or before January 1, 2017, that describes the costs, benefits, and any potential barriers related to offering evidence-based home visiting programs to Medi-Cal eligible pregnant and parenting women. The bill would also require the department, in developing the plan, to consider, among other things, establishing Medi-Cal coverage for evidence-based home visiting program services and incentives for Medi-Cal providers to offer those services, and would require the department, in developing the plan, to prioritize the identification of funding sources, other than General Fund moneys, to fund evidence-based home visiting program services.',\n",
       " 'title': 'An act to add Section 14148.25 to the Welfare and Institutions Code, relating to perinatal care.'}"
      ]
     },
     "execution_count": 5,
     "metadata": {},
     "output_type": "execute_result"
    }
   ],
   "source": [
    "billsum[\"train\"][0]"
   ]
  },
  {
   "cell_type": "markdown",
   "id": "eec775b1",
   "metadata": {},
   "source": [
    "There are two fields that you’ll want to use:\n",
    "\n",
    "text: the text of the bill which’ll be the input to the model.\n",
    "summary: a condensed version of text which’ll be the model target."
   ]
  },
  {
   "cell_type": "markdown",
   "id": "3aef91a5",
   "metadata": {},
   "source": [
    "# Preprocessing"
   ]
  },
  {
   "cell_type": "code",
   "execution_count": 6,
   "id": "3c1a38e5",
   "metadata": {},
   "outputs": [],
   "source": [
    "# The next step is to load a T5 tokenizer to process text and summary:\n",
    "from transformers import AutoTokenizer\n",
    "\n",
    "checkpoint = \"t5-small\"\n",
    "tokenizer = AutoTokenizer.from_pretrained(checkpoint)"
   ]
  },
  {
   "cell_type": "markdown",
   "id": "91dba4e0",
   "metadata": {},
   "source": [
    "The preprocessing function you want to create needs to:\n",
    "\n",
    "1.Prefix the input with a prompt so T5 knows this is a summarization task. Some models capable of multiple NLP tasks require prompting for specific tasks.\n",
    "2.Use the keyword text_target argument when tokenizing labels.\n",
    "3.Truncate sequences to be no longer than the maximum length set by the max_length parameter."
   ]
  },
  {
   "cell_type": "code",
   "execution_count": 7,
   "id": "13e907af",
   "metadata": {},
   "outputs": [],
   "source": [
    "prefix = \"summarize: \"\n",
    "\n",
    "\n",
    "def preprocess_function(examples):\n",
    "    inputs = [prefix + doc for doc in examples[\"text\"]]\n",
    "    model_inputs = tokenizer(inputs, max_length=1024, truncation=True)\n",
    "\n",
    "    labels = tokenizer(text_target=examples[\"summary\"], max_length=128, truncation=True)\n",
    "\n",
    "    model_inputs[\"labels\"] = labels[\"input_ids\"]\n",
    "    return model_inputs"
   ]
  },
  {
   "cell_type": "markdown",
   "id": "9b5e9ef8",
   "metadata": {},
   "source": [
    "To apply the preprocessing function over the entire dataset, use 🤗 Datasets map method. You can speed up the map function by setting batched=True to process multiple elements of the dataset at once:"
   ]
  },
  {
   "cell_type": "code",
   "execution_count": 8,
   "id": "dfb52448",
   "metadata": {},
   "outputs": [
    {
     "data": {
      "application/vnd.jupyter.widget-view+json": {
       "model_id": "",
       "version_major": 2,
       "version_minor": 0
      },
      "text/plain": [
       "Map:   0%|          | 0/989 [00:00<?, ? examples/s]"
      ]
     },
     "metadata": {},
     "output_type": "display_data"
    },
    {
     "data": {
      "application/vnd.jupyter.widget-view+json": {
       "model_id": "",
       "version_major": 2,
       "version_minor": 0
      },
      "text/plain": [
       "Map:   0%|          | 0/248 [00:00<?, ? examples/s]"
      ]
     },
     "metadata": {},
     "output_type": "display_data"
    }
   ],
   "source": [
    "tokenized_billsum = billsum.map(preprocess_function, batched=True)\n"
   ]
  },
  {
   "cell_type": "markdown",
   "id": "76b18d4f",
   "metadata": {},
   "source": [
    "Now create a batch of examples using DataCollatorForSeq2Seq. It’s more efficient to dynamically pad the sentences to the longest length in a batch during collation, instead of padding the whole dataset to the maximum length."
   ]
  },
  {
   "cell_type": "code",
   "execution_count": 9,
   "id": "25dcfc21",
   "metadata": {},
   "outputs": [],
   "source": [
    "from transformers import DataCollatorForSeq2Seq\n",
    "\n",
    "data_collator = DataCollatorForSeq2Seq(tokenizer=tokenizer, model=checkpoint)"
   ]
  },
  {
   "cell_type": "markdown",
   "id": "ef157162",
   "metadata": {},
   "source": [
    "# Evaluate"
   ]
  },
  {
   "cell_type": "markdown",
   "id": "94a9b3e6",
   "metadata": {},
   "source": [
    "Including a metric during training is often helpful for evaluating your model’s performance. You can quickly load a evaluation method with the 🤗 Evaluate library. For this task, load the ROUGE metric (see the 🤗 Evaluate quick tour to learn more about how to load and compute a metric):"
   ]
  },
  {
   "cell_type": "code",
   "execution_count": 10,
   "id": "f8ca98c1",
   "metadata": {},
   "outputs": [
    {
     "data": {
      "application/vnd.jupyter.widget-view+json": {
       "model_id": "1e1d0af48e5845b3a564483ee5412673",
       "version_major": 2,
       "version_minor": 0
      },
      "text/plain": [
       "Downloading builder script:   0%|          | 0.00/6.27k [00:00<?, ?B/s]"
      ]
     },
     "metadata": {},
     "output_type": "display_data"
    }
   ],
   "source": [
    "import evaluate\n",
    "\n",
    "rouge = evaluate.load(\"rouge\")"
   ]
  },
  {
   "cell_type": "markdown",
   "id": "7c009730",
   "metadata": {},
   "source": [
    "Then create a function that passes your predictions and labels to compute to calculate the ROUGE metric:"
   ]
  },
  {
   "cell_type": "code",
   "execution_count": 11,
   "id": "017b2369",
   "metadata": {},
   "outputs": [],
   "source": [
    "import numpy as np\n",
    "\n",
    "\n",
    "def compute_metrics(eval_pred):\n",
    "    predictions, labels = eval_pred\n",
    "    decoded_preds = tokenizer.batch_decode(predictions, skip_special_tokens=True)\n",
    "    labels = np.where(labels != -100, labels, tokenizer.pad_token_id)\n",
    "    decoded_labels = tokenizer.batch_decode(labels, skip_special_tokens=True)\n",
    "\n",
    "    result = rouge.compute(predictions=decoded_preds, references=decoded_labels, use_stemmer=True)\n",
    "\n",
    "    prediction_lens = [np.count_nonzero(pred != tokenizer.pad_token_id) for pred in predictions]\n",
    "    result[\"gen_len\"] = np.mean(prediction_lens)\n",
    "\n",
    "    return {k: round(v, 4) for k, v in result.items()}"
   ]
  },
  {
   "cell_type": "markdown",
   "id": "86cb5655",
   "metadata": {},
   "source": [
    "Your compute_metrics function is ready to go now, and you’ll return to it when you setup your training."
   ]
  },
  {
   "cell_type": "markdown",
   "id": "04a6c709",
   "metadata": {},
   "source": [
    "# Train"
   ]
  },
  {
   "cell_type": "markdown",
   "id": "56338c4f",
   "metadata": {},
   "source": [
    "You’re ready to start training your model now! Load T5 with AutoModelForSeq2SeqLM:"
   ]
  },
  {
   "cell_type": "code",
   "execution_count": 12,
   "id": "b3d481fd",
   "metadata": {},
   "outputs": [
    {
     "ename": "ImportError",
     "evalue": "\nAutoModelForSeq2SeqLM requires the PyTorch library but it was not found in your environment.\nHowever, we were able to find a TensorFlow installation. TensorFlow classes begin\nwith \"TF\", but are otherwise identically named to our PyTorch classes. This\nmeans that the TF equivalent of the class you tried to import would be \"TFAutoModelForSeq2SeqLM\".\nIf you want to use TensorFlow, please use TF classes instead!\n\nIf you really do want to use PyTorch please go to\nhttps://pytorch.org/get-started/locally/ and follow the instructions that\nmatch your environment.\n",
     "output_type": "error",
     "traceback": [
      "\u001b[1;31m---------------------------------------------------------------------------\u001b[0m",
      "\u001b[1;31mImportError\u001b[0m                               Traceback (most recent call last)",
      "Cell \u001b[1;32mIn [12], line 3\u001b[0m\n\u001b[0;32m      1\u001b[0m \u001b[38;5;28;01mfrom\u001b[39;00m \u001b[38;5;21;01mtransformers\u001b[39;00m \u001b[38;5;28;01mimport\u001b[39;00m AutoModelForSeq2SeqLM, Seq2SeqTrainingArguments, Seq2SeqTrainer\n\u001b[1;32m----> 3\u001b[0m model \u001b[38;5;241m=\u001b[39m AutoModelForSeq2SeqLM\u001b[38;5;241m.\u001b[39mfrom_pretrained(checkpoint)\n",
      "File \u001b[1;32mc:\\users\\vishal567795\\appdata\\local\\programs\\python\\python39\\lib\\site-packages\\transformers\\utils\\import_utils.py:1086\u001b[0m, in \u001b[0;36mDummyObject.__getattribute__\u001b[1;34m(cls, key)\u001b[0m\n\u001b[0;32m   1084\u001b[0m \u001b[38;5;28;01mif\u001b[39;00m key\u001b[38;5;241m.\u001b[39mstartswith(\u001b[38;5;124m\"\u001b[39m\u001b[38;5;124m_\u001b[39m\u001b[38;5;124m\"\u001b[39m) \u001b[38;5;129;01mand\u001b[39;00m key \u001b[38;5;241m!=\u001b[39m \u001b[38;5;124m\"\u001b[39m\u001b[38;5;124m_from_config\u001b[39m\u001b[38;5;124m\"\u001b[39m:\n\u001b[0;32m   1085\u001b[0m     \u001b[38;5;28;01mreturn\u001b[39;00m \u001b[38;5;28msuper\u001b[39m()\u001b[38;5;241m.\u001b[39m\u001b[38;5;21m__getattribute__\u001b[39m(key)\n\u001b[1;32m-> 1086\u001b[0m \u001b[43mrequires_backends\u001b[49m\u001b[43m(\u001b[49m\u001b[38;5;28;43mcls\u001b[39;49m\u001b[43m,\u001b[49m\u001b[43m \u001b[49m\u001b[38;5;28;43mcls\u001b[39;49m\u001b[38;5;241;43m.\u001b[39;49m\u001b[43m_backends\u001b[49m\u001b[43m)\u001b[49m\n",
      "File \u001b[1;32mc:\\users\\vishal567795\\appdata\\local\\programs\\python\\python39\\lib\\site-packages\\transformers\\utils\\import_utils.py:1065\u001b[0m, in \u001b[0;36mrequires_backends\u001b[1;34m(obj, backends)\u001b[0m\n\u001b[0;32m   1063\u001b[0m \u001b[38;5;66;03m# Raise an error for users who might not realize that classes without \"TF\" are torch-only\u001b[39;00m\n\u001b[0;32m   1064\u001b[0m \u001b[38;5;28;01mif\u001b[39;00m \u001b[38;5;124m\"\u001b[39m\u001b[38;5;124mtorch\u001b[39m\u001b[38;5;124m\"\u001b[39m \u001b[38;5;129;01min\u001b[39;00m backends \u001b[38;5;129;01mand\u001b[39;00m \u001b[38;5;124m\"\u001b[39m\u001b[38;5;124mtf\u001b[39m\u001b[38;5;124m\"\u001b[39m \u001b[38;5;129;01mnot\u001b[39;00m \u001b[38;5;129;01min\u001b[39;00m backends \u001b[38;5;129;01mand\u001b[39;00m \u001b[38;5;129;01mnot\u001b[39;00m is_torch_available() \u001b[38;5;129;01mand\u001b[39;00m is_tf_available():\n\u001b[1;32m-> 1065\u001b[0m     \u001b[38;5;28;01mraise\u001b[39;00m \u001b[38;5;167;01mImportError\u001b[39;00m(PYTORCH_IMPORT_ERROR_WITH_TF\u001b[38;5;241m.\u001b[39mformat(name))\n\u001b[0;32m   1067\u001b[0m \u001b[38;5;66;03m# Raise the inverse error for PyTorch users trying to load TF classes\u001b[39;00m\n\u001b[0;32m   1068\u001b[0m \u001b[38;5;28;01mif\u001b[39;00m \u001b[38;5;124m\"\u001b[39m\u001b[38;5;124mtf\u001b[39m\u001b[38;5;124m\"\u001b[39m \u001b[38;5;129;01min\u001b[39;00m backends \u001b[38;5;129;01mand\u001b[39;00m \u001b[38;5;124m\"\u001b[39m\u001b[38;5;124mtorch\u001b[39m\u001b[38;5;124m\"\u001b[39m \u001b[38;5;129;01mnot\u001b[39;00m \u001b[38;5;129;01min\u001b[39;00m backends \u001b[38;5;129;01mand\u001b[39;00m is_torch_available() \u001b[38;5;129;01mand\u001b[39;00m \u001b[38;5;129;01mnot\u001b[39;00m is_tf_available():\n",
      "\u001b[1;31mImportError\u001b[0m: \nAutoModelForSeq2SeqLM requires the PyTorch library but it was not found in your environment.\nHowever, we were able to find a TensorFlow installation. TensorFlow classes begin\nwith \"TF\", but are otherwise identically named to our PyTorch classes. This\nmeans that the TF equivalent of the class you tried to import would be \"TFAutoModelForSeq2SeqLM\".\nIf you want to use TensorFlow, please use TF classes instead!\n\nIf you really do want to use PyTorch please go to\nhttps://pytorch.org/get-started/locally/ and follow the instructions that\nmatch your environment.\n"
     ]
    }
   ],
   "source": [
    "from transformers import AutoModelForSeq2SeqLM, Seq2SeqTrainingArguments, Seq2SeqTrainer\n",
    "\n",
    "model = AutoModelForSeq2SeqLM.from_pretrained(checkpoint)"
   ]
  },
  {
   "cell_type": "code",
   "execution_count": 13,
   "id": "122337a2",
   "metadata": {},
   "outputs": [
    {
     "ename": "SyntaxError",
     "evalue": "invalid syntax (3060902485.py, line 1)",
     "output_type": "error",
     "traceback": [
      "\u001b[1;36m  Cell \u001b[1;32mIn [13], line 1\u001b[1;36m\u001b[0m\n\u001b[1;33m    pip3 install torch torchvision torchaudio --index-url https://download.pytorch.org/whl/cu117\u001b[0m\n\u001b[1;37m         ^\u001b[0m\n\u001b[1;31mSyntaxError\u001b[0m\u001b[1;31m:\u001b[0m invalid syntax\n"
     ]
    }
   ],
   "source": [
    "pip3 install torch torchvision torchaudio --index-url https://download.pytorch.org/whl/cu117\n"
   ]
  },
  {
   "cell_type": "code",
   "execution_count": null,
   "id": "92f32776",
   "metadata": {},
   "outputs": [],
   "source": []
  }
 ],
 "metadata": {
  "kernelspec": {
   "display_name": "Python 3 (ipykernel)",
   "language": "python",
   "name": "python3"
  },
  "language_info": {
   "codemirror_mode": {
    "name": "ipython",
    "version": 3
   },
   "file_extension": ".py",
   "mimetype": "text/x-python",
   "name": "python",
   "nbconvert_exporter": "python",
   "pygments_lexer": "ipython3",
   "version": "3.9.2"
  }
 },
 "nbformat": 4,
 "nbformat_minor": 5
}
